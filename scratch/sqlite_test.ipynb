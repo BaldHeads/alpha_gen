{
 "cells": [
  {
   "cell_type": "code",
   "execution_count": 1,
   "metadata": {},
   "outputs": [],
   "source": [
    "import sqlite3\r\n",
    "from sqlite3 import Error"
   ]
  },
  {
   "cell_type": "code",
   "execution_count": 3,
   "metadata": {},
   "outputs": [
    {
     "name": "stdout",
     "output_type": "stream",
     "text": [
      "2.6.0\n"
     ]
    }
   ],
   "source": [
    "db_file = \"pythonsqlite.db\"\r\n",
    "try: \r\n",
    "    conn = sqlite3.connect(db_file)\r\n",
    "    print(sqlite3.version)\r\n",
    "except Error as e:\r\n",
    "    print(e)\r\n",
    "finally:\r\n",
    "    if conn:\r\n",
    "        conn.close()"
   ]
  },
  {
   "cell_type": "code",
   "execution_count": 3,
   "metadata": {},
   "outputs": [],
   "source": [
    "db_file = \"pythonsqlite.db\"\r\n",
    "conn = sqlite3.connect(db_file)\r\n",
    "sql_create_ticker_table = \"\"\"CREATE TABLE IF NOT EXISTS historical (\r\n",
    "    id integer PRIMARY KEY,\r\n",
    "    symbol TEXT NOT NULL,\r\n",
    "    timestamp TEXT NOT NULL,\r\n",
    "    close REAL NOT NULL\r\n",
    ");\"\"\"\r\n",
    "c = conn.cursor()\r\n",
    "c.execute(sql_create_ticker_table)\r\n",
    "conn.close()\r\n"
   ]
  },
  {
   "cell_type": "code",
   "execution_count": 5,
   "metadata": {},
   "outputs": [],
   "source": [
    "db_file = \"pythonsqlite.db\"\r\n",
    "conn = sqlite3.connect(db_file)\r\n",
    "sql_insert = \"\"\" INSERT INTO historical(symbol, timestamp, close) VALUES(?,?,?)\"\"\"\r\n",
    "cur = conn.cursor()\r\n",
    "cur.execute(sql_insert, (\"AAPL\", \"2021-06-26\", 25.3))\r\n",
    "conn.commit()\r\n",
    "conn.close()\r\n"
   ]
  },
  {
   "cell_type": "code",
   "execution_count": 8,
   "metadata": {},
   "outputs": [],
   "source": [
    "db_file = \"pythonsqlite.db\"\r\n",
    "conn = sqlite3.connect(db_file)\r\n",
    "sql_insert = 'DELETE FROM historical WHERE symbol=\"AAPL\"'\r\n",
    "cur = conn.cursor()\r\n",
    "cur.execute(sql_insert)\r\n",
    "conn.commit()\r\n",
    "conn.close()\r\n"
   ]
  },
  {
   "cell_type": "code",
   "execution_count": null,
   "metadata": {},
   "outputs": [],
   "source": []
  }
 ],
 "metadata": {
  "interpreter": {
   "hash": "c5f3348871554a27f8da824ee5dec5aec4b2418407e6f994b7493a67ac6ec42d"
  },
  "kernelspec": {
   "display_name": "Python 3.7.10 64-bit ('dev': conda)",
   "name": "python3"
  },
  "language_info": {
   "codemirror_mode": {
    "name": "ipython",
    "version": 3
   },
   "file_extension": ".py",
   "mimetype": "text/x-python",
   "name": "python",
   "nbconvert_exporter": "python",
   "pygments_lexer": "ipython3",
   "version": "3.7.10"
  },
  "orig_nbformat": 4
 },
 "nbformat": 4,
 "nbformat_minor": 2
}