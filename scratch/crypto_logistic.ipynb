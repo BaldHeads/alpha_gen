{
 "cells": [
  {
   "cell_type": "code",
   "execution_count": 1,
   "metadata": {},
   "outputs": [],
   "source": [
    "import sys\r\n",
    "sys.path.append('../')\r\n",
    "import numpy as np\r\n",
    "import pandas as pd\r\n",
    "import datetime as dt"
   ]
  },
  {
   "cell_type": "code",
   "execution_count": 2,
   "metadata": {},
   "outputs": [],
   "source": [
    "columns = {0:'datetime',1:'open',2:'high',3:'low',4:'close',5:'volume'}\r\n",
    "\r\n",
    "btc_raw = pd.read_csv(\"btcusd.csv\", header=None)\r\n",
    "eth_raw = pd.read_csv(\"ethusd60.csv\", header=None)"
   ]
  },
  {
   "cell_type": "code",
   "execution_count": 3,
   "metadata": {},
   "outputs": [],
   "source": [
    "def make_df(raw_df):\r\n",
    "    df = raw_df.loc[:,:5]\r\n",
    "    df.rename(columns=columns, inplace=True)\r\n",
    "    df = df[[\"datetime\", \"close\"]]\r\n",
    "    \r\n",
    "    df[\"timestamp\"] = df[\"datetime\"].apply(lambda x: dt.datetime.fromtimestamp(x))\r\n",
    "    df = df.drop(columns=\"datetime\")\r\n",
    "    df.set_index(\"timestamp\", inplace=True)\r\n",
    "    df.index=pd.to_datetime(df.index)\r\n",
    "    return df"
   ]
  },
  {
   "cell_type": "code",
   "execution_count": 4,
   "metadata": {},
   "outputs": [
    {
     "data": {
      "text/plain": [
       "dtype('<M8[ns]')"
      ]
     },
     "execution_count": 4,
     "metadata": {},
     "output_type": "execute_result"
    }
   ],
   "source": [
    "btc = make_df(btc_raw)\r\n",
    "eth = make_df(eth_raw)\r\n",
    "btc.rename(columns={\"close\":\"btc\"}, inplace=True)\r\n",
    "eth.rename(columns={\"close\":\"eth\"}, inplace=True)\r\n",
    "hist_df = btc.merge(eth, how=\"inner\", on=\"timestamp\")\r\n",
    "hist_df.index.dtype"
   ]
  },
  {
   "cell_type": "code",
   "execution_count": 5,
   "metadata": {},
   "outputs": [
    {
     "data": {
      "text/plain": [
       "dtype('<M8[ns]')"
      ]
     },
     "execution_count": 5,
     "metadata": {},
     "output_type": "execute_result"
    }
   ],
   "source": [
    "current_df = pd.read_csv(\"crypto_current.csv\", parse_dates=True, infer_datetime_format=True, index_col=\"timestamp\")\r\n",
    "current_df.index.dtype"
   ]
  },
  {
   "cell_type": "code",
   "execution_count": 6,
   "metadata": {},
   "outputs": [
    {
     "name": "stderr",
     "output_type": "stream",
     "text": [
      "ipykernel_launcher:8: PerformanceWarning: DataFrame is highly fragmented.  This is usually the result of calling `frame.insert` many times, which has poor performance.  Consider using pd.concat instead.  To get a de-fragmented frame, use `newframe = frame.copy()`\n"
     ]
    },
    {
     "data": {
      "text/plain": [
       "(45978, 120)"
      ]
     },
     "execution_count": 6,
     "metadata": {},
     "output_type": "execute_result"
    }
   ],
   "source": [
    "num_ticks = 60\r\n",
    "tickers = [\"btc\",\"eth\"]\r\n",
    "hist_shifted_df = pd.DataFrame()\r\n",
    "for ticker in tickers:\r\n",
    "    hist_shifted_df[ticker] = hist_df[ticker].copy()\r\n",
    "    for i in range(1,num_ticks):\r\n",
    "        name = f\"{ticker}-{i}\"\r\n",
    "        hist_shifted_df[name] = hist_df[ticker].shift(i)\r\n",
    "hist_shifted_df = hist_shifted_df.copy()\r\n",
    "hist_shifted_df.shape"
   ]
  },
  {
   "cell_type": "code",
   "execution_count": 7,
   "metadata": {},
   "outputs": [
    {
     "data": {
      "text/plain": [
       "16863"
      ]
     },
     "execution_count": 7,
     "metadata": {},
     "output_type": "execute_result"
    }
   ],
   "source": [
    "hist_pct_returns_df_list = []\r\n",
    "for ticker in tickers:\r\n",
    "    name = f\"{ticker}_Buy\"\r\n",
    "    returns_df = pd.DataFrame()\r\n",
    "    returns_df[name] = hist_df[ticker].pct_change(periods=24).shift(-24).apply(lambda x : 1 if x >= 0.01 else 0)\r\n",
    "    hist_pct_returns_df_list.append(returns_df)\r\n",
    "hist_pct_returns_df_list[0][\"btc_Buy\"].sum()"
   ]
  },
  {
   "cell_type": "code",
   "execution_count": 8,
   "metadata": {},
   "outputs": [
    {
     "name": "stderr",
     "output_type": "stream",
     "text": [
      "ipykernel_launcher:6: PerformanceWarning: DataFrame is highly fragmented.  This is usually the result of calling `frame.insert` many times, which has poor performance.  Consider using pd.concat instead.  To get a de-fragmented frame, use `newframe = frame.copy()`\n"
     ]
    }
   ],
   "source": [
    "current_shifted_df = pd.DataFrame()\r\n",
    "for ticker in tickers:\r\n",
    "    current_shifted_df[ticker] = current_df[ticker].copy()\r\n",
    "    for i in range(1,num_ticks):\r\n",
    "        name = f\"{ticker}-{i}\"\r\n",
    "        current_shifted_df[name] = current_df[ticker].shift(i)\r\n",
    "current_shifted_df = current_shifted_df.copy()\r\n",
    "current_shifted_df.dropna(inplace=True)"
   ]
  },
  {
   "cell_type": "code",
   "execution_count": 9,
   "metadata": {},
   "outputs": [
    {
     "data": {
      "text/plain": [
       "(45918, 122)"
      ]
     },
     "execution_count": 9,
     "metadata": {},
     "output_type": "execute_result"
    }
   ],
   "source": [
    "hist_pctchange_df = hist_shifted_df.pct_change()\r\n",
    "hist_pctchange_df = pd.concat([hist_pctchange_df, *hist_pct_returns_df_list], axis=1)\r\n",
    "hist_pctchange_df.dropna(inplace=True)\r\n",
    "hist_pctchange_df.shape"
   ]
  },
  {
   "cell_type": "code",
   "execution_count": 10,
   "metadata": {},
   "outputs": [],
   "source": [
    "current_pctchange_df = current_shifted_df.pct_change()\r\n",
    "current_pctchange_df.dropna(inplace=True)"
   ]
  },
  {
   "cell_type": "code",
   "execution_count": 11,
   "metadata": {},
   "outputs": [],
   "source": [
    "y_start = len(tickers)*num_ticks"
   ]
  },
  {
   "cell_type": "code",
   "execution_count": 12,
   "metadata": {},
   "outputs": [],
   "source": [
    "from sklearn.model_selection import train_test_split\r\n",
    "from sklearn.linear_model import LogisticRegression\r\n",
    "from sklearn.metrics import confusion_matrix\r\n",
    "from sklearn.metrics import classification_report"
   ]
  },
  {
   "cell_type": "code",
   "execution_count": 13,
   "metadata": {},
   "outputs": [],
   "source": [
    "X = hist_pctchange_df.iloc[:,0:y_start].values\r\n",
    "y = []\r\n",
    "for i in range(0,len(tickers)):\r\n",
    "    y.append(hist_pctchange_df.iloc[:,y_start+i].values)"
   ]
  },
  {
   "cell_type": "code",
   "execution_count": 14,
   "metadata": {},
   "outputs": [
    {
     "name": "stdout",
     "output_type": "stream",
     "text": [
      "--------------------------------------\n",
      "btc\n",
      "Training Data Score: 0.6331668505720425\n",
      "Testing Data Score: 0.6326655052264808\n",
      "[[7261    5]\n",
      " [4212    2]]\n",
      "              precision    recall  f1-score   support\n",
      "\n",
      "     Not Buy       0.63      1.00      0.77      7266\n",
      "         Buy       0.29      0.00      0.00      4214\n",
      "\n",
      "    accuracy                           0.63     11480\n",
      "   macro avg       0.46      0.50      0.39     11480\n",
      "weighted avg       0.51      0.63      0.49     11480\n",
      "\n",
      "--------------------------------------\n",
      "eth\n",
      "Training Data Score: 0.5957372669725304\n",
      "Testing Data Score: 0.5945993031358885\n",
      "[[6813   20]\n",
      " [4634   13]]\n",
      "              precision    recall  f1-score   support\n",
      "\n",
      "     Not Buy       0.60      1.00      0.75      6833\n",
      "         Buy       0.39      0.00      0.01      4647\n",
      "\n",
      "    accuracy                           0.59     11480\n",
      "   macro avg       0.49      0.50      0.38     11480\n",
      "weighted avg       0.51      0.59      0.45     11480\n",
      "\n"
     ]
    }
   ],
   "source": [
    "log_models = []\r\n",
    "log_confusion = []\r\n",
    "log_classification = []\r\n",
    "target_names = [\"Not Buy\", \"Buy\"]\r\n",
    "for i in range(0,len(tickers)):\r\n",
    "    ticker = tickers[i]\r\n",
    "    model = LogisticRegression(solver='lbfgs')\r\n",
    "    X_train, X_test, y_train, y_test = train_test_split(X, y[i],random_state=1,stratify=y[i])\r\n",
    "    model.fit(X_train,y_train)\r\n",
    "    log_models.append(model)\r\n",
    "    predicted = model.predict(X_test)\r\n",
    "    log_confusion.append(confusion_matrix(y_test, predicted))\r\n",
    "    log_classification.append(classification_report(y_test, predicted, target_names=target_names))\r\n",
    "    print(\"--------------------------------------\")\r\n",
    "    print(ticker)\r\n",
    "    print(f\"Training Data Score: {model.score(X_train, y_train)}\")\r\n",
    "    print(f\"Testing Data Score: {model.score(X_test, y_test)}\")\r\n",
    "    print(log_confusion[i])\r\n",
    "    print(log_classification[i])"
   ]
  },
  {
   "cell_type": "code",
   "execution_count": 15,
   "metadata": {},
   "outputs": [
    {
     "name": "stdout",
     "output_type": "stream",
     "text": [
      "btc 0\n",
      "eth 0\n"
     ]
    }
   ],
   "source": [
    "#Predict pct-change for each of the tickers over the month of June 2021\r\n",
    "y_current_predicted = []\r\n",
    "current_returns_df_list = []\r\n",
    "X = current_pctchange_df.values\r\n",
    "for i in range(0,len(tickers)):\r\n",
    "    ticker = tickers[i]\r\n",
    "    model = log_models[i]\r\n",
    "    predicted = model.predict(X)\r\n",
    "    y_current_predicted.append(predicted)\r\n",
    "    return_df = pd.DataFrame({\"timestamp\":current_pctchange_df.index, \"buy_predicted\": predicted})\r\n",
    "    return_df = return_df.set_index(\"timestamp\")\r\n",
    "    return_df = return_df.merge(current_df[ticker], how=\"left\", on=\"timestamp\")\r\n",
    "    print(ticker, return_df[\"buy_predicted\"].sum())\r\n",
    "\r\n",
    "    money = 10000\r\n",
    "    num_shares = 0\r\n",
    "    state = 0\r\n",
    "    buy_index = 0\r\n",
    "    money_list=[]\r\n",
    "\r\n",
    "    for i in range(0,len(return_df)):\r\n",
    "        if state == 1 and i == buy_index + 16:\r\n",
    "            #sell\r\n",
    "            price = return_df.iloc[i,1]\r\n",
    "            money = num_shares * price\r\n",
    "            state = 0\r\n",
    "            print(f\"sell {ticker}\", i ,price)\r\n",
    "\r\n",
    "        if return_df.iloc[i,0] == 1 and state == 0 and i < len(return_df) - 16:\r\n",
    "            #buy\r\n",
    "            price = return_df.iloc[i,1]\r\n",
    "            num_shares = money / price\r\n",
    "            buy_index = i\r\n",
    "            state = 1\r\n",
    "            print(f\"buy {ticker}\", i, price)\r\n",
    "\r\n",
    "        if return_df.iloc[i,0] == 1 and state == 1 and i < len(return_df) - 16:\r\n",
    "            buy_index = i\r\n",
    "\r\n",
    "        if state == 0 :\r\n",
    "            money_list.append(money)\r\n",
    "        else:\r\n",
    "            price = return_df.iloc[i,1]\r\n",
    "            money_list.append(num_shares*price)\r\n",
    "    \r\n",
    "    return_df[\"ROI\"] = money_list\r\n",
    "\r\n",
    "    current_returns_df_list.append(return_df)"
   ]
  },
  {
   "cell_type": "code",
   "execution_count": 16,
   "metadata": {},
   "outputs": [
    {
     "data": {
      "image/png": "[encoded data removed]",
      "text/plain": [
       "<Figure size 432x288 with 1 Axes>"
      ]
     },
     "metadata": {
      "needs_background": "light"
     },
     "output_type": "display_data"
    },
    {
     "data": {
      "image/png": "[encoded data removed]",
      "text/plain": [
       "<Figure size 432x288 with 1 Axes>"
      ]
     },
     "metadata": {
      "needs_background": "light"
     },
     "output_type": "display_data"
    }
   ],
   "source": [
    "for i in range(0,len(tickers)):\r\n",
    "    ticker = tickers[i]\r\n",
    "    current_returns_df_list[i].plot(y=\"ROI\", title=ticker)"
   ]
  },
  {
   "cell_type": "code",
   "execution_count": 17,
   "metadata": {},
   "outputs": [
    {
     "data": {
      "text/plain": [
       "20000"
      ]
     },
     "execution_count": 17,
     "metadata": {},
     "output_type": "execute_result"
    }
   ],
   "source": [
    "starting_amount = 10000*len(tickers)\r\n",
    "ending_amount = 0\r\n",
    "for i in range(0,len(tickers)):\r\n",
    "    ending_amount += current_returns_df_list[i].iloc[-1,-1]\r\n",
    "ending_amount"
   ]
  },
  {
   "cell_type": "code",
   "execution_count": 18,
   "metadata": {},
   "outputs": [
    {
     "name": "stdout",
     "output_type": "stream",
     "text": [
      "TOTAL BUY SIGNALS------------\n",
      "btc: 0\n",
      "eth: 0\n"
     ]
    }
   ],
   "source": [
    "print(\"TOTAL BUY SIGNALS------------\")\r\n",
    "for i in range(0,len(tickers)):\r\n",
    "    print(f\"{tickers[i]}: {current_returns_df_list[i]['buy_predicted'].sum()}\")"
   ]
  },
  {
   "cell_type": "code",
   "execution_count": 20,
   "metadata": {},
   "outputs": [],
   "source": [
    "summary_df = current_returns_df_list[0].copy()\r\n",
    "summary_df = pd.DataFrame(summary_df[\"ROI\"])\r\n",
    "summary_df = summary_df.rename(columns={\"ROI\": f\"IMB_{tickers[0]}\"})\r\n",
    "for i in range(1,len(tickers)):\r\n",
    "    temp_df = current_returns_df_list[i].copy()\r\n",
    "    temp_df = pd.DataFrame(temp_df[\"ROI\"])\r\n",
    "    temp_df = temp_df.rename(columns={\"ROI\": f\"IMB_{tickers[i]}\"})\r\n",
    "    summary_df = pd.concat([summary_df, temp_df], axis=1)\r\n",
    "summary_df.to_csv(\"crypto_log_roi.csv\")"
   ]
  },
  {
   "cell_type": "code",
   "execution_count": null,
   "metadata": {},
   "outputs": [],
   "source": []
  }
 ],
 "metadata": {
  "interpreter": {
   "hash": "625649fb277a33020e30d480432fe83a3c34bdae155bdecae638a11130d5bfb4"
  },
  "kernelspec": {
   "display_name": "Python 3.7.10 64-bit ('dev': conda)",
   "name": "python3"
  },
  "language_info": {
   "codemirror_mode": {
    "name": "ipython",
    "version": 3
   },
   "file_extension": ".py",
   "mimetype": "text/x-python",
   "name": "python",
   "nbconvert_exporter": "python",
   "pygments_lexer": "ipython3",
   "version": "3.7.10"
  },
  "orig_nbformat": 4
 },
 "nbformat": 4,
 "nbformat_minor": 2
}