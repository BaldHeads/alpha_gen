{
 "cells": [
  {
   "cell_type": "code",
   "execution_count": 2,
   "metadata": {},
   "outputs": [],
   "source": [
    "import sys\r\n",
    "sys.path.append('../')\r\n",
    "import numpy as np\r\n",
    "import pandas as pd\r\n",
    "import datetime as dt"
   ]
  },
  {
   "cell_type": "code",
   "execution_count": 3,
   "metadata": {},
   "outputs": [],
   "source": [
    "columns = {0:'datetime',1:'open',2:'high',3:'low',4:'close',5:'volume'}\r\n",
    "\r\n",
    "btc_raw = pd.read_csv(\"btcusd.csv\", header=None)\r\n",
    "eth_raw = pd.read_csv(\"ethusd60.csv\", header=None)"
   ]
  },
  {
   "cell_type": "code",
   "execution_count": 4,
   "metadata": {},
   "outputs": [],
   "source": [
    "def make_df(raw_df):\r\n",
    "    df = raw_df.loc[:,:5]\r\n",
    "    df.rename(columns=columns, inplace=True)\r\n",
    "    df = df[[\"datetime\", \"close\"]]\r\n",
    "    \r\n",
    "    df[\"timestamp\"] = df[\"datetime\"].apply(lambda x: dt.datetime.fromtimestamp(x))\r\n",
    "    df = df.drop(columns=\"datetime\")\r\n",
    "    df.set_index(\"timestamp\", inplace=True)\r\n",
    "    df.index=pd.to_datetime(df.index)\r\n",
    "    return df"
   ]
  },
  {
   "cell_type": "code",
   "execution_count": 5,
   "metadata": {},
   "outputs": [
    {
     "data": {
      "text/plain": [
       "dtype('<M8[ns]')"
      ]
     },
     "execution_count": 5,
     "metadata": {},
     "output_type": "execute_result"
    }
   ],
   "source": [
    "btc = make_df(btc_raw)\r\n",
    "eth = make_df(eth_raw)\r\n",
    "btc.rename(columns={\"close\":\"btc\"}, inplace=True)\r\n",
    "eth.rename(columns={\"close\":\"eth\"}, inplace=True)\r\n",
    "hist_df = btc.merge(eth, how=\"inner\", on=\"timestamp\")\r\n",
    "hist_df.index.dtype"
   ]
  },
  {
   "cell_type": "code",
   "execution_count": 6,
   "metadata": {},
   "outputs": [
    {
     "data": {
      "text/plain": [
       "dtype('<M8[ns]')"
      ]
     },
     "execution_count": 6,
     "metadata": {},
     "output_type": "execute_result"
    }
   ],
   "source": [
    "current_df = pd.read_csv(\"crypto_current.csv\", parse_dates=True, infer_datetime_format=True, index_col=\"timestamp\")\r\n",
    "current_df.index.dtype"
   ]
  },
  {
   "cell_type": "code",
   "execution_count": 7,
   "metadata": {},
   "outputs": [
    {
     "name": "stderr",
     "output_type": "stream",
     "text": [
      "ipykernel_launcher:8: PerformanceWarning: DataFrame is highly fragmented.  This is usually the result of calling `frame.insert` many times, which has poor performance.  Consider using pd.concat instead.  To get a de-fragmented frame, use `newframe = frame.copy()`\n"
     ]
    },
    {
     "data": {
      "text/plain": [
       "(45978, 120)"
      ]
     },
     "execution_count": 7,
     "metadata": {},
     "output_type": "execute_result"
    }
   ],
   "source": [
    "num_ticks = 60\r\n",
    "tickers = [\"btc\",\"eth\"]\r\n",
    "hist_shifted_df = pd.DataFrame()\r\n",
    "for ticker in tickers:\r\n",
    "    hist_shifted_df[ticker] = hist_df[ticker].copy()\r\n",
    "    for i in range(1,num_ticks):\r\n",
    "        name = f\"{ticker}-{i}\"\r\n",
    "        hist_shifted_df[name] = hist_df[ticker].shift(i)\r\n",
    "hist_shifted_df = hist_shifted_df.copy()\r\n",
    "hist_shifted_df.shape"
   ]
  },
  {
   "cell_type": "code",
   "execution_count": 8,
   "metadata": {},
   "outputs": [
    {
     "data": {
      "text/plain": [
       "2"
      ]
     },
     "execution_count": 8,
     "metadata": {},
     "output_type": "execute_result"
    }
   ],
   "source": [
    "#This function performs a pct_change on the hourly price data over a 24 row period.  The data from kraken provides 24 hours of data for a 24-hour period, so this is the 24 hour return.\r\n",
    "# It then shifts the pct_change back 24 rows so that the forward 24-hour return sits on the same timestamp as the current price.\r\n",
    "\r\n",
    "hist_pct_returns_df_list = []\r\n",
    "for ticker in tickers:\r\n",
    "    name = f\"{ticker}_24_Return\"\r\n",
    "    returns_df = pd.DataFrame()\r\n",
    "    returns_df[name] = hist_df[ticker].pct_change(periods=24).shift(-24)\r\n",
    "    hist_pct_returns_df_list.append(returns_df)\r\n",
    "len(hist_pct_returns_df_list)"
   ]
  },
  {
   "cell_type": "code",
   "execution_count": 9,
   "metadata": {},
   "outputs": [
    {
     "name": "stderr",
     "output_type": "stream",
     "text": [
      "ipykernel_launcher:6: PerformanceWarning: DataFrame is highly fragmented.  This is usually the result of calling `frame.insert` many times, which has poor performance.  Consider using pd.concat instead.  To get a de-fragmented frame, use `newframe = frame.copy()`\n"
     ]
    }
   ],
   "source": [
    "current_shifted_df = pd.DataFrame()\r\n",
    "for ticker in tickers:\r\n",
    "    current_shifted_df[ticker] = current_df[ticker].copy()\r\n",
    "    for i in range(1,num_ticks):\r\n",
    "        name = f\"{ticker}-{i}\"\r\n",
    "        current_shifted_df[name] = current_df[ticker].shift(i)\r\n",
    "current_shifted_df = current_shifted_df.copy()\r\n",
    "current_shifted_df.dropna(inplace=True)"
   ]
  },
  {
   "cell_type": "code",
   "execution_count": 10,
   "metadata": {},
   "outputs": [
    {
     "data": {
      "text/plain": [
       "(45894, 122)"
      ]
     },
     "execution_count": 10,
     "metadata": {},
     "output_type": "execute_result"
    }
   ],
   "source": [
    "hist_pctchange_df = hist_shifted_df.pct_change()\r\n",
    "hist_pctchange_df = pd.concat([hist_pctchange_df, *hist_pct_returns_df_list], axis=1)\r\n",
    "hist_pctchange_df.dropna(inplace=True)\r\n",
    "hist_pctchange_df.shape"
   ]
  },
  {
   "cell_type": "code",
   "execution_count": 11,
   "metadata": {},
   "outputs": [],
   "source": [
    "current_pctchange_df = current_shifted_df.pct_change()\r\n",
    "current_pctchange_df.dropna(inplace=True)"
   ]
  },
  {
   "cell_type": "code",
   "execution_count": 12,
   "metadata": {},
   "outputs": [],
   "source": [
    "y_start = len(tickers)*num_ticks"
   ]
  },
  {
   "cell_type": "code",
   "execution_count": 13,
   "metadata": {},
   "outputs": [],
   "source": [
    "from sklearn.linear_model import LinearRegression\r\n",
    "X = hist_pctchange_df.iloc[:,0:y_start].values\r\n",
    "y = []\r\n",
    "for i in range(0,len(tickers)):\r\n",
    "    y.append(hist_pctchange_df.iloc[:,y_start+i].values)\r\n",
    "lin_models = []\r\n",
    "y_lin_predicted = []"
   ]
  },
  {
   "cell_type": "code",
   "execution_count": 14,
   "metadata": {},
   "outputs": [],
   "source": [
    "for i in range(0,len(tickers)):\r\n",
    "    ticker = tickers[i]\r\n",
    "    model = LinearRegression()\r\n",
    "    model.fit(X,y[i])\r\n",
    "    lin_models.append(model)\r\n",
    "    predicted = model.predict(X)\r\n",
    "    y_lin_predicted.append(predicted)"
   ]
  },
  {
   "cell_type": "code",
   "execution_count": 15,
   "metadata": {},
   "outputs": [
    {
     "name": "stdout",
     "output_type": "stream",
     "text": [
      "The r2 score for symbol btc is 0.0037583232960800572\n",
      "The r2 score for symbol eth is 0.007746504583232894\n"
     ]
    }
   ],
   "source": [
    "from sklearn.metrics import r2_score\r\n",
    "import numpy as np\r\n",
    "r2 = [0]*len(tickers)\r\n",
    "for i in range(0,len(tickers)):\r\n",
    "    r2[i] = r2_score(y[i], y_lin_predicted[i])\r\n",
    "    print(f\"The r2 score for symbol {tickers[i]} is {r2[i]}\")"
   ]
  },
  {
   "cell_type": "code",
   "execution_count": 20,
   "metadata": {},
   "outputs": [
    {
     "name": "stdout",
     "output_type": "stream",
     "text": [
      "buy btc 101 32193.4\n",
      "sell btc 117 34031.9\n",
      "buy btc 417 31511.5\n",
      "sell btc 439 32429.8\n",
      "buy btc 450 33920.1\n",
      "sell btc 466 33485.7\n",
      "buy eth 11 2692.49\n",
      "sell eth 27 2652.71\n",
      "buy eth 86 2483.85\n",
      "sell eth 113 2476.5\n",
      "buy eth 151 2460.0\n",
      "sell eth 188 2309.11\n",
      "buy eth 193 2435.76\n",
      "sell eth 216 2359.48\n",
      "buy eth 248 2541.43\n",
      "sell eth 273 2532.01\n",
      "buy eth 333 2302.11\n",
      "sell eth 349 2252.41\n",
      "buy eth 357 2228.05\n",
      "sell eth 374 2179.74\n",
      "buy eth 398 2189.83\n",
      "sell eth 441 1875.01\n",
      "buy eth 469 1908.46\n",
      "sell eth 495 1999.51\n",
      "buy eth 506 1824.17\n",
      "sell eth 540 1836.11\n",
      "buy eth 568 1972.79\n",
      "sell eth 612 2173.47\n",
      "buy eth 615 2125.05\n",
      "sell eth 654 2114.32\n"
     ]
    }
   ],
   "source": [
    "#Predict pct-change for each of the tickers over the month of June 2021\r\n",
    "y_current_predicted = []\r\n",
    "current_returns_df_list = []\r\n",
    "X = current_pctchange_df.values\r\n",
    "for i in range(0,len(tickers)):\r\n",
    "    ticker = tickers[i]\r\n",
    "    model = lin_models[i]\r\n",
    "    predicted = model.predict(X)\r\n",
    "    y_current_predicted.append(predicted)\r\n",
    "    return_df = pd.DataFrame({\"timestamp\":current_pctchange_df.index, \"prediction\": predicted})\r\n",
    "    return_df[\"buy\"] = return_df['prediction'].apply(lambda x: 1 if x >= 0.01 else 0)\r\n",
    "    return_df = return_df.set_index(\"timestamp\")\r\n",
    "    return_df = return_df.merge(current_df[ticker], how=\"left\", on=\"timestamp\")\r\n",
    "\r\n",
    "    money = 10000\r\n",
    "    num_shares = 0\r\n",
    "    state = 0\r\n",
    "    buy_index = 0\r\n",
    "    money_list=[]\r\n",
    "\r\n",
    "    for i in range(0,len(return_df)):\r\n",
    "        if state == 1 and i == buy_index + 16:\r\n",
    "            #sell\r\n",
    "            price = return_df.iloc[i,2]\r\n",
    "            money = num_shares * price\r\n",
    "            state = 0\r\n",
    "            print(f\"sell {ticker}\", i ,price)\r\n",
    "\r\n",
    "        if return_df.iloc[i,1] == 1 and state == 0 and i < len(return_df) - 16:\r\n",
    "            #buy\r\n",
    "            price = return_df.iloc[i,2]\r\n",
    "            num_shares = money / price\r\n",
    "            buy_index = i\r\n",
    "            state = 1\r\n",
    "            print(f\"buy {ticker}\", i, price)\r\n",
    "\r\n",
    "        if return_df.iloc[i,1] == 1 and state == 1 and i < len(return_df) - 16:\r\n",
    "            buy_index = i\r\n",
    "\r\n",
    "        if state == 0 :\r\n",
    "            money_list.append(money)\r\n",
    "        else:\r\n",
    "            price = return_df.iloc[i,2]\r\n",
    "            money_list.append(num_shares*price)\r\n",
    "    \r\n",
    "    return_df[\"ROI\"] = money_list\r\n",
    "\r\n",
    "    current_returns_df_list.append(return_df)"
   ]
  },
  {
   "cell_type": "code",
   "execution_count": 21,
   "metadata": {},
   "outputs": [
    {
     "data": {
      "image/png": "[encoded data removed]",
      "text/plain": [
       "<Figure size 432x288 with 1 Axes>"
      ]
     },
     "metadata": {
      "needs_background": "light"
     },
     "output_type": "display_data"
    },
    {
     "data": {
      "image/png": "[encoded data removed]",
      "text/plain": [
       "<Figure size 432x288 with 1 Axes>"
      ]
     },
     "metadata": {
      "needs_background": "light"
     },
     "output_type": "display_data"
    }
   ],
   "source": [
    "for i in range(0,len(tickers)):\r\n",
    "    ticker = tickers[i]\r\n",
    "    current_returns_df_list[i].plot(y=\"ROI\", title=ticker)"
   ]
  },
  {
   "cell_type": "code",
   "execution_count": 22,
   "metadata": {},
   "outputs": [
    {
     "data": {
      "text/plain": [
       "19170.635000391918"
      ]
     },
     "execution_count": 22,
     "metadata": {},
     "output_type": "execute_result"
    }
   ],
   "source": [
    "starting_amount = 10000*len(tickers)\r\n",
    "ending_amount = 0\r\n",
    "for i in range(0,len(tickers)):\r\n",
    "    ending_amount += current_returns_df_list[i].iloc[-1,-1]\r\n",
    "ending_amount"
   ]
  },
  {
   "cell_type": "code",
   "execution_count": 24,
   "metadata": {},
   "outputs": [],
   "source": [
    "summary_df = current_returns_df_list[0].copy()\r\n",
    "summary_df = pd.DataFrame(summary_df[\"ROI\"])\r\n",
    "summary_df = summary_df.rename(columns={\"ROI\": f\"LIN_{tickers[0]}\"})\r\n",
    "for i in range(1,len(tickers)):\r\n",
    "    temp_df = current_returns_df_list[i].copy()\r\n",
    "    temp_df = pd.DataFrame(temp_df[\"ROI\"])\r\n",
    "    temp_df = temp_df.rename(columns={\"ROI\": f\"LIN_{tickers[i]}\"})\r\n",
    "    summary_df = pd.concat([summary_df, temp_df], axis=1)\r\n",
    "summary_df.to_csv(\"crypto_lin_roi.csv\")"
   ]
  },
  {
   "cell_type": "code",
   "execution_count": null,
   "metadata": {},
   "outputs": [],
   "source": []
  }
 ],
 "metadata": {
  "interpreter": {
   "hash": "625649fb277a33020e30d480432fe83a3c34bdae155bdecae638a11130d5bfb4"
  },
  "kernelspec": {
   "display_name": "Python 3.7.10 64-bit ('dev': conda)",
   "name": "python3"
  },
  "language_info": {
   "codemirror_mode": {
    "name": "ipython",
    "version": 3
   },
   "file_extension": ".py",
   "mimetype": "text/x-python",
   "name": "python",
   "nbconvert_exporter": "python",
   "pygments_lexer": "ipython3",
   "version": "3.7.10"
  },
  "orig_nbformat": 4
 },
 "nbformat": 4,
 "nbformat_minor": 2
}