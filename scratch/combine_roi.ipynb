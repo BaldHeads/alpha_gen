{
 "cells": [
  {
   "cell_type": "code",
   "execution_count": 2,
   "metadata": {},
   "outputs": [],
   "source": [
    "import csv\r\n",
    "import pandas as pd"
   ]
  },
  {
   "cell_type": "code",
   "execution_count": 16,
   "metadata": {},
   "outputs": [],
   "source": [
    "lin_roi_df = pd.read_csv(\"linear_roi.csv\",parse_dates=True, index_col=\"timestamp\")\r\n",
    "lin_roi_df.index = pd.to_datetime(lin_roi_df.index)\r\n",
    "\r\n",
    "grad_roi_df = pd.read_csv(\"grad_roi.csv\",parse_dates=True, index_col=\"timestamp\")\r\n",
    "grad_roi_df.index = pd.to_datetime(grad_roi_df.index)\r\n",
    "\r\n",
    "imb_roi_df = pd.read_csv(\"imb_roi.csv\",parse_dates=True, index_col=\"timestamp\")\r\n",
    "imb_roi_df.index = pd.to_datetime(imb_roi_df.index)\r\n",
    "\r\n",
    "xgb_roi_df = pd.read_csv(\"xgb_roi.csv\",parse_dates=True, index_col=\"timestamp\")\r\n",
    "xgb_roi_df.index = pd.to_datetime(xgb_roi_df.index)"
   ]
  },
  {
   "cell_type": "code",
   "execution_count": 19,
   "metadata": {},
   "outputs": [],
   "source": [
    "combined_df = pd.concat([lin_roi_df, grad_roi_df,imb_roi_df,xgb_roi_df], axis=1)"
   ]
  },
  {
   "cell_type": "code",
   "execution_count": 20,
   "metadata": {},
   "outputs": [
    {
     "data": {
      "text/plain": [
       "(292, 40)"
      ]
     },
     "execution_count": 20,
     "metadata": {},
     "output_type": "execute_result"
    }
   ],
   "source": [
    "combined_df.shape"
   ]
  },
  {
   "cell_type": "code",
   "execution_count": 21,
   "metadata": {},
   "outputs": [],
   "source": [
    "combined_df.to_csv(\"combined_roi.csv\")"
   ]
  },
  {
   "cell_type": "code",
   "execution_count": null,
   "metadata": {},
   "outputs": [],
   "source": []
  }
 ],
 "metadata": {
  "interpreter": {
   "hash": "625649fb277a33020e30d480432fe83a3c34bdae155bdecae638a11130d5bfb4"
  },
  "kernelspec": {
   "display_name": "Python 3.7.10 64-bit",
   "name": "python3"
  },
  "language_info": {
   "codemirror_mode": {
    "name": "ipython",
    "version": 3
   },
   "file_extension": ".py",
   "mimetype": "text/x-python",
   "name": "python",
   "nbconvert_exporter": "python",
   "pygments_lexer": "ipython3",
   "version": "3.7.10"
  },
  "orig_nbformat": 4
 },
 "nbformat": 4,
 "nbformat_minor": 2
}