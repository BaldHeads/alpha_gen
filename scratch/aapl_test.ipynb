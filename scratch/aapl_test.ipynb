{
 "cells": [
  {
   "cell_type": "code",
   "execution_count": 1,
   "metadata": {},
   "outputs": [],
   "source": [
    "import sys\r\n",
    "sys.path.append('../')"
   ]
  },
  {
   "cell_type": "code",
   "execution_count": 2,
   "metadata": {},
   "outputs": [],
   "source": [
    "import libs.db\r\n",
    "import libs.prep_df\r\n",
    "import pandas as pd\r\n",
    "import sqlite3\r\n",
    "\r\n"
   ]
  },
  {
   "cell_type": "code",
   "execution_count": 3,
   "metadata": {},
   "outputs": [
    {
     "data": {
      "text/html": [
       "<div>\n",
       "<style scoped>\n",
       "    .dataframe tbody tr th:only-of-type {\n",
       "        vertical-align: middle;\n",
       "    }\n",
       "\n",
       "    .dataframe tbody tr th {\n",
       "        vertical-align: top;\n",
       "    }\n",
       "\n",
       "    .dataframe thead th {\n",
       "        text-align: right;\n",
       "    }\n",
       "</style>\n",
       "<table border=\"1\" class=\"dataframe\">\n",
       "  <thead>\n",
       "    <tr style=\"text-align: right;\">\n",
       "      <th></th>\n",
       "      <th>id</th>\n",
       "      <th>symbol</th>\n",
       "      <th>timestamp</th>\n",
       "      <th>close</th>\n",
       "    </tr>\n",
       "  </thead>\n",
       "  <tbody>\n",
       "    <tr>\n",
       "      <th>0</th>\n",
       "      <td>1</td>\n",
       "      <td>AAPL</td>\n",
       "      <td>2017-01-03T09:00:00+00:00</td>\n",
       "      <td>116.05</td>\n",
       "    </tr>\n",
       "    <tr>\n",
       "      <th>1</th>\n",
       "      <td>2</td>\n",
       "      <td>AAPL</td>\n",
       "      <td>2017-01-03T10:00:00+00:00</td>\n",
       "      <td>116.02</td>\n",
       "    </tr>\n",
       "    <tr>\n",
       "      <th>2</th>\n",
       "      <td>3</td>\n",
       "      <td>AAPL</td>\n",
       "      <td>2017-01-03T11:00:00+00:00</td>\n",
       "      <td>116.28</td>\n",
       "    </tr>\n",
       "    <tr>\n",
       "      <th>3</th>\n",
       "      <td>4</td>\n",
       "      <td>AAPL</td>\n",
       "      <td>2017-01-03T12:00:00+00:00</td>\n",
       "      <td>116.02</td>\n",
       "    </tr>\n",
       "    <tr>\n",
       "      <th>4</th>\n",
       "      <td>5</td>\n",
       "      <td>AAPL</td>\n",
       "      <td>2017-01-03T13:00:00+00:00</td>\n",
       "      <td>116.20</td>\n",
       "    </tr>\n",
       "  </tbody>\n",
       "</table>\n",
       "</div>"
      ],
      "text/plain": [
       "   id symbol                  timestamp   close\n",
       "0   1   AAPL  2017-01-03T09:00:00+00:00  116.05\n",
       "1   2   AAPL  2017-01-03T10:00:00+00:00  116.02\n",
       "2   3   AAPL  2017-01-03T11:00:00+00:00  116.28\n",
       "3   4   AAPL  2017-01-03T12:00:00+00:00  116.02\n",
       "4   5   AAPL  2017-01-03T13:00:00+00:00  116.20"
      ]
     },
     "execution_count": 3,
     "metadata": {},
     "output_type": "execute_result"
    }
   ],
   "source": [
    "sql_file = \"sp10_historical.db\"\r\n",
    "conn = libs.db.create_connection(sql_file)\r\n",
    "df = libs.db.df_from_db(conn)\r\n",
    "libs.db.close_connection(conn)\r\n",
    "df.head()"
   ]
  },
  {
   "cell_type": "code",
   "execution_count": 4,
   "metadata": {},
   "outputs": [
    {
     "data": {
      "text/html": [
       "<div>\n",
       "<style scoped>\n",
       "    .dataframe tbody tr th:only-of-type {\n",
       "        vertical-align: middle;\n",
       "    }\n",
       "\n",
       "    .dataframe tbody tr th {\n",
       "        vertical-align: top;\n",
       "    }\n",
       "\n",
       "    .dataframe thead th {\n",
       "        text-align: right;\n",
       "    }\n",
       "</style>\n",
       "<table border=\"1\" class=\"dataframe\">\n",
       "  <thead>\n",
       "    <tr style=\"text-align: right;\">\n",
       "      <th></th>\n",
       "      <th>AAPL</th>\n",
       "    </tr>\n",
       "    <tr>\n",
       "      <th>timestamp</th>\n",
       "      <th></th>\n",
       "    </tr>\n",
       "  </thead>\n",
       "  <tbody>\n",
       "    <tr>\n",
       "      <th>2017-01-03 09:00:00+00:00</th>\n",
       "      <td>116.05</td>\n",
       "    </tr>\n",
       "    <tr>\n",
       "      <th>2017-01-03 10:00:00+00:00</th>\n",
       "      <td>116.02</td>\n",
       "    </tr>\n",
       "    <tr>\n",
       "      <th>2017-01-03 11:00:00+00:00</th>\n",
       "      <td>116.28</td>\n",
       "    </tr>\n",
       "    <tr>\n",
       "      <th>2017-01-03 12:00:00+00:00</th>\n",
       "      <td>116.02</td>\n",
       "    </tr>\n",
       "    <tr>\n",
       "      <th>2017-01-03 13:00:00+00:00</th>\n",
       "      <td>116.20</td>\n",
       "    </tr>\n",
       "  </tbody>\n",
       "</table>\n",
       "</div>"
      ],
      "text/plain": [
       "                             AAPL\n",
       "timestamp                        \n",
       "2017-01-03 09:00:00+00:00  116.05\n",
       "2017-01-03 10:00:00+00:00  116.02\n",
       "2017-01-03 11:00:00+00:00  116.28\n",
       "2017-01-03 12:00:00+00:00  116.02\n",
       "2017-01-03 13:00:00+00:00  116.20"
      ]
     },
     "execution_count": 4,
     "metadata": {},
     "output_type": "execute_result"
    }
   ],
   "source": [
    "norm_df = libs.prep_df.normalize_df(df)\r\n",
    "aapl_df = pd.DataFrame(norm_df[\"AAPL\"])\r\n",
    "aapl_df.head()"
   ]
  },
  {
   "cell_type": "code",
   "execution_count": 5,
   "metadata": {},
   "outputs": [
    {
     "data": {
      "text/html": [
       "<div>\n",
       "<style scoped>\n",
       "    .dataframe tbody tr th:only-of-type {\n",
       "        vertical-align: middle;\n",
       "    }\n",
       "\n",
       "    .dataframe tbody tr th {\n",
       "        vertical-align: top;\n",
       "    }\n",
       "\n",
       "    .dataframe thead th {\n",
       "        text-align: right;\n",
       "    }\n",
       "</style>\n",
       "<table border=\"1\" class=\"dataframe\">\n",
       "  <thead>\n",
       "    <tr style=\"text-align: right;\">\n",
       "      <th></th>\n",
       "      <th>AAPL</th>\n",
       "    </tr>\n",
       "    <tr>\n",
       "      <th>timestamp</th>\n",
       "      <th></th>\n",
       "    </tr>\n",
       "  </thead>\n",
       "  <tbody>\n",
       "    <tr>\n",
       "      <th>2021-03-31 19:00:00+00:00</th>\n",
       "      <td>122.16</td>\n",
       "    </tr>\n",
       "    <tr>\n",
       "      <th>2021-03-31 20:00:00+00:00</th>\n",
       "      <td>122.00</td>\n",
       "    </tr>\n",
       "    <tr>\n",
       "      <th>2021-03-31 21:00:00+00:00</th>\n",
       "      <td>122.09</td>\n",
       "    </tr>\n",
       "    <tr>\n",
       "      <th>2021-03-31 22:00:00+00:00</th>\n",
       "      <td>122.24</td>\n",
       "    </tr>\n",
       "    <tr>\n",
       "      <th>2021-03-31 23:00:00+00:00</th>\n",
       "      <td>122.45</td>\n",
       "    </tr>\n",
       "  </tbody>\n",
       "</table>\n",
       "</div>"
      ],
      "text/plain": [
       "                             AAPL\n",
       "timestamp                        \n",
       "2021-03-31 19:00:00+00:00  122.16\n",
       "2021-03-31 20:00:00+00:00  122.00\n",
       "2021-03-31 21:00:00+00:00  122.09\n",
       "2021-03-31 22:00:00+00:00  122.24\n",
       "2021-03-31 23:00:00+00:00  122.45"
      ]
     },
     "execution_count": 5,
     "metadata": {},
     "output_type": "execute_result"
    }
   ],
   "source": [
    "aapl_df.tail()"
   ]
  },
  {
   "cell_type": "code",
   "execution_count": 6,
   "metadata": {},
   "outputs": [
    {
     "data": {
      "text/html": [
       "<div>\n",
       "<style scoped>\n",
       "    .dataframe tbody tr th:only-of-type {\n",
       "        vertical-align: middle;\n",
       "    }\n",
       "\n",
       "    .dataframe tbody tr th {\n",
       "        vertical-align: top;\n",
       "    }\n",
       "\n",
       "    .dataframe thead th {\n",
       "        text-align: right;\n",
       "    }\n",
       "</style>\n",
       "<table border=\"1\" class=\"dataframe\">\n",
       "  <thead>\n",
       "    <tr style=\"text-align: right;\">\n",
       "      <th></th>\n",
       "      <th>AAPL</th>\n",
       "      <th>AAPL-1</th>\n",
       "      <th>AAPL-2</th>\n",
       "      <th>AAPL-3</th>\n",
       "      <th>AAPL-4</th>\n",
       "      <th>AAPL-5</th>\n",
       "      <th>AAPL-6</th>\n",
       "      <th>AAPL-7</th>\n",
       "      <th>AAPL-8</th>\n",
       "      <th>AAPL-9</th>\n",
       "      <th>...</th>\n",
       "      <th>AAPL-50</th>\n",
       "      <th>AAPL-51</th>\n",
       "      <th>AAPL-52</th>\n",
       "      <th>AAPL-53</th>\n",
       "      <th>AAPL-54</th>\n",
       "      <th>AAPL-55</th>\n",
       "      <th>AAPL-56</th>\n",
       "      <th>AAPL-57</th>\n",
       "      <th>AAPL-58</th>\n",
       "      <th>AAPL-59</th>\n",
       "    </tr>\n",
       "    <tr>\n",
       "      <th>timestamp</th>\n",
       "      <th></th>\n",
       "      <th></th>\n",
       "      <th></th>\n",
       "      <th></th>\n",
       "      <th></th>\n",
       "      <th></th>\n",
       "      <th></th>\n",
       "      <th></th>\n",
       "      <th></th>\n",
       "      <th></th>\n",
       "      <th></th>\n",
       "      <th></th>\n",
       "      <th></th>\n",
       "      <th></th>\n",
       "      <th></th>\n",
       "      <th></th>\n",
       "      <th></th>\n",
       "      <th></th>\n",
       "      <th></th>\n",
       "      <th></th>\n",
       "      <th></th>\n",
       "    </tr>\n",
       "  </thead>\n",
       "  <tbody>\n",
       "    <tr>\n",
       "      <th>2017-01-03 19:00:00+00:00</th>\n",
       "      <td>115.4300</td>\n",
       "      <td>115.2350</td>\n",
       "      <td>115.4650</td>\n",
       "      <td>115.3757</td>\n",
       "      <td>115.4500</td>\n",
       "      <td>115.6700</td>\n",
       "      <td>116.2000</td>\n",
       "      <td>116.0200</td>\n",
       "      <td>116.2800</td>\n",
       "      <td>116.0200</td>\n",
       "      <td>...</td>\n",
       "      <td>NaN</td>\n",
       "      <td>NaN</td>\n",
       "      <td>NaN</td>\n",
       "      <td>NaN</td>\n",
       "      <td>NaN</td>\n",
       "      <td>NaN</td>\n",
       "      <td>NaN</td>\n",
       "      <td>NaN</td>\n",
       "      <td>NaN</td>\n",
       "      <td>NaN</td>\n",
       "    </tr>\n",
       "    <tr>\n",
       "      <th>2017-01-03 20:00:00+00:00</th>\n",
       "      <td>116.1400</td>\n",
       "      <td>115.4300</td>\n",
       "      <td>115.2350</td>\n",
       "      <td>115.4650</td>\n",
       "      <td>115.3757</td>\n",
       "      <td>115.4500</td>\n",
       "      <td>115.6700</td>\n",
       "      <td>116.2000</td>\n",
       "      <td>116.0200</td>\n",
       "      <td>116.2800</td>\n",
       "      <td>...</td>\n",
       "      <td>NaN</td>\n",
       "      <td>NaN</td>\n",
       "      <td>NaN</td>\n",
       "      <td>NaN</td>\n",
       "      <td>NaN</td>\n",
       "      <td>NaN</td>\n",
       "      <td>NaN</td>\n",
       "      <td>NaN</td>\n",
       "      <td>NaN</td>\n",
       "      <td>NaN</td>\n",
       "    </tr>\n",
       "    <tr>\n",
       "      <th>2017-01-03 21:00:00+00:00</th>\n",
       "      <td>116.1500</td>\n",
       "      <td>116.1400</td>\n",
       "      <td>115.4300</td>\n",
       "      <td>115.2350</td>\n",
       "      <td>115.4650</td>\n",
       "      <td>115.3757</td>\n",
       "      <td>115.4500</td>\n",
       "      <td>115.6700</td>\n",
       "      <td>116.2000</td>\n",
       "      <td>116.0200</td>\n",
       "      <td>...</td>\n",
       "      <td>NaN</td>\n",
       "      <td>NaN</td>\n",
       "      <td>NaN</td>\n",
       "      <td>NaN</td>\n",
       "      <td>NaN</td>\n",
       "      <td>NaN</td>\n",
       "      <td>NaN</td>\n",
       "      <td>NaN</td>\n",
       "      <td>NaN</td>\n",
       "      <td>NaN</td>\n",
       "    </tr>\n",
       "    <tr>\n",
       "      <th>2017-01-03 22:00:00+00:00</th>\n",
       "      <td>116.0100</td>\n",
       "      <td>116.1500</td>\n",
       "      <td>116.1400</td>\n",
       "      <td>115.4300</td>\n",
       "      <td>115.2350</td>\n",
       "      <td>115.4650</td>\n",
       "      <td>115.3757</td>\n",
       "      <td>115.4500</td>\n",
       "      <td>115.6700</td>\n",
       "      <td>116.2000</td>\n",
       "      <td>...</td>\n",
       "      <td>NaN</td>\n",
       "      <td>NaN</td>\n",
       "      <td>NaN</td>\n",
       "      <td>NaN</td>\n",
       "      <td>NaN</td>\n",
       "      <td>NaN</td>\n",
       "      <td>NaN</td>\n",
       "      <td>NaN</td>\n",
       "      <td>NaN</td>\n",
       "      <td>NaN</td>\n",
       "    </tr>\n",
       "    <tr>\n",
       "      <th>2017-01-03 23:00:00+00:00</th>\n",
       "      <td>116.0200</td>\n",
       "      <td>116.0100</td>\n",
       "      <td>116.1500</td>\n",
       "      <td>116.1400</td>\n",
       "      <td>115.4300</td>\n",
       "      <td>115.2350</td>\n",
       "      <td>115.4650</td>\n",
       "      <td>115.3757</td>\n",
       "      <td>115.4500</td>\n",
       "      <td>115.6700</td>\n",
       "      <td>...</td>\n",
       "      <td>NaN</td>\n",
       "      <td>NaN</td>\n",
       "      <td>NaN</td>\n",
       "      <td>NaN</td>\n",
       "      <td>NaN</td>\n",
       "      <td>NaN</td>\n",
       "      <td>NaN</td>\n",
       "      <td>NaN</td>\n",
       "      <td>NaN</td>\n",
       "      <td>NaN</td>\n",
       "    </tr>\n",
       "    <tr>\n",
       "      <th>2017-01-04 00:00:00+00:00</th>\n",
       "      <td>116.0700</td>\n",
       "      <td>116.0200</td>\n",
       "      <td>116.0100</td>\n",
       "      <td>116.1500</td>\n",
       "      <td>116.1400</td>\n",
       "      <td>115.4300</td>\n",
       "      <td>115.2350</td>\n",
       "      <td>115.4650</td>\n",
       "      <td>115.3757</td>\n",
       "      <td>115.4500</td>\n",
       "      <td>...</td>\n",
       "      <td>NaN</td>\n",
       "      <td>NaN</td>\n",
       "      <td>NaN</td>\n",
       "      <td>NaN</td>\n",
       "      <td>NaN</td>\n",
       "      <td>NaN</td>\n",
       "      <td>NaN</td>\n",
       "      <td>NaN</td>\n",
       "      <td>NaN</td>\n",
       "      <td>NaN</td>\n",
       "    </tr>\n",
       "    <tr>\n",
       "      <th>2017-01-04 09:00:00+00:00</th>\n",
       "      <td>116.2700</td>\n",
       "      <td>116.0700</td>\n",
       "      <td>116.0200</td>\n",
       "      <td>116.0100</td>\n",
       "      <td>116.1500</td>\n",
       "      <td>116.1400</td>\n",
       "      <td>115.4300</td>\n",
       "      <td>115.2350</td>\n",
       "      <td>115.4650</td>\n",
       "      <td>115.3757</td>\n",
       "      <td>...</td>\n",
       "      <td>NaN</td>\n",
       "      <td>NaN</td>\n",
       "      <td>NaN</td>\n",
       "      <td>NaN</td>\n",
       "      <td>NaN</td>\n",
       "      <td>NaN</td>\n",
       "      <td>NaN</td>\n",
       "      <td>NaN</td>\n",
       "      <td>NaN</td>\n",
       "      <td>NaN</td>\n",
       "    </tr>\n",
       "    <tr>\n",
       "      <th>2017-01-04 10:00:00+00:00</th>\n",
       "      <td>116.2700</td>\n",
       "      <td>116.2700</td>\n",
       "      <td>116.0700</td>\n",
       "      <td>116.0200</td>\n",
       "      <td>116.0100</td>\n",
       "      <td>116.1500</td>\n",
       "      <td>116.1400</td>\n",
       "      <td>115.4300</td>\n",
       "      <td>115.2350</td>\n",
       "      <td>115.4650</td>\n",
       "      <td>...</td>\n",
       "      <td>NaN</td>\n",
       "      <td>NaN</td>\n",
       "      <td>NaN</td>\n",
       "      <td>NaN</td>\n",
       "      <td>NaN</td>\n",
       "      <td>NaN</td>\n",
       "      <td>NaN</td>\n",
       "      <td>NaN</td>\n",
       "      <td>NaN</td>\n",
       "      <td>NaN</td>\n",
       "    </tr>\n",
       "    <tr>\n",
       "      <th>2017-01-04 11:00:00+00:00</th>\n",
       "      <td>116.0800</td>\n",
       "      <td>116.2700</td>\n",
       "      <td>116.2700</td>\n",
       "      <td>116.0700</td>\n",
       "      <td>116.0200</td>\n",
       "      <td>116.0100</td>\n",
       "      <td>116.1500</td>\n",
       "      <td>116.1400</td>\n",
       "      <td>115.4300</td>\n",
       "      <td>115.2350</td>\n",
       "      <td>...</td>\n",
       "      <td>NaN</td>\n",
       "      <td>NaN</td>\n",
       "      <td>NaN</td>\n",
       "      <td>NaN</td>\n",
       "      <td>NaN</td>\n",
       "      <td>NaN</td>\n",
       "      <td>NaN</td>\n",
       "      <td>NaN</td>\n",
       "      <td>NaN</td>\n",
       "      <td>NaN</td>\n",
       "    </tr>\n",
       "    <tr>\n",
       "      <th>2017-01-04 12:00:00+00:00</th>\n",
       "      <td>115.8000</td>\n",
       "      <td>116.0800</td>\n",
       "      <td>116.2700</td>\n",
       "      <td>116.2700</td>\n",
       "      <td>116.0700</td>\n",
       "      <td>116.0200</td>\n",
       "      <td>116.0100</td>\n",
       "      <td>116.1500</td>\n",
       "      <td>116.1400</td>\n",
       "      <td>115.4300</td>\n",
       "      <td>...</td>\n",
       "      <td>NaN</td>\n",
       "      <td>NaN</td>\n",
       "      <td>NaN</td>\n",
       "      <td>NaN</td>\n",
       "      <td>NaN</td>\n",
       "      <td>NaN</td>\n",
       "      <td>NaN</td>\n",
       "      <td>NaN</td>\n",
       "      <td>NaN</td>\n",
       "      <td>NaN</td>\n",
       "    </tr>\n",
       "    <tr>\n",
       "      <th>2017-01-04 13:00:00+00:00</th>\n",
       "      <td>115.8100</td>\n",
       "      <td>115.8000</td>\n",
       "      <td>116.0800</td>\n",
       "      <td>116.2700</td>\n",
       "      <td>116.2700</td>\n",
       "      <td>116.0700</td>\n",
       "      <td>116.0200</td>\n",
       "      <td>116.0100</td>\n",
       "      <td>116.1500</td>\n",
       "      <td>116.1400</td>\n",
       "      <td>...</td>\n",
       "      <td>NaN</td>\n",
       "      <td>NaN</td>\n",
       "      <td>NaN</td>\n",
       "      <td>NaN</td>\n",
       "      <td>NaN</td>\n",
       "      <td>NaN</td>\n",
       "      <td>NaN</td>\n",
       "      <td>NaN</td>\n",
       "      <td>NaN</td>\n",
       "      <td>NaN</td>\n",
       "    </tr>\n",
       "    <tr>\n",
       "      <th>2017-01-04 14:00:00+00:00</th>\n",
       "      <td>116.2700</td>\n",
       "      <td>115.8100</td>\n",
       "      <td>115.8000</td>\n",
       "      <td>116.0800</td>\n",
       "      <td>116.2700</td>\n",
       "      <td>116.2700</td>\n",
       "      <td>116.0700</td>\n",
       "      <td>116.0200</td>\n",
       "      <td>116.0100</td>\n",
       "      <td>116.1500</td>\n",
       "      <td>...</td>\n",
       "      <td>NaN</td>\n",
       "      <td>NaN</td>\n",
       "      <td>NaN</td>\n",
       "      <td>NaN</td>\n",
       "      <td>NaN</td>\n",
       "      <td>NaN</td>\n",
       "      <td>NaN</td>\n",
       "      <td>NaN</td>\n",
       "      <td>NaN</td>\n",
       "      <td>NaN</td>\n",
       "    </tr>\n",
       "    <tr>\n",
       "      <th>2017-01-04 15:00:00+00:00</th>\n",
       "      <td>115.9550</td>\n",
       "      <td>116.2700</td>\n",
       "      <td>115.8100</td>\n",
       "      <td>115.8000</td>\n",
       "      <td>116.0800</td>\n",
       "      <td>116.2700</td>\n",
       "      <td>116.2700</td>\n",
       "      <td>116.0700</td>\n",
       "      <td>116.0200</td>\n",
       "      <td>116.0100</td>\n",
       "      <td>...</td>\n",
       "      <td>NaN</td>\n",
       "      <td>NaN</td>\n",
       "      <td>NaN</td>\n",
       "      <td>NaN</td>\n",
       "      <td>NaN</td>\n",
       "      <td>NaN</td>\n",
       "      <td>NaN</td>\n",
       "      <td>NaN</td>\n",
       "      <td>NaN</td>\n",
       "      <td>NaN</td>\n",
       "    </tr>\n",
       "    <tr>\n",
       "      <th>2017-01-04 16:00:00+00:00</th>\n",
       "      <td>116.3700</td>\n",
       "      <td>115.9550</td>\n",
       "      <td>116.2700</td>\n",
       "      <td>115.8100</td>\n",
       "      <td>115.8000</td>\n",
       "      <td>116.0800</td>\n",
       "      <td>116.2700</td>\n",
       "      <td>116.2700</td>\n",
       "      <td>116.0700</td>\n",
       "      <td>116.0200</td>\n",
       "      <td>...</td>\n",
       "      <td>NaN</td>\n",
       "      <td>NaN</td>\n",
       "      <td>NaN</td>\n",
       "      <td>NaN</td>\n",
       "      <td>NaN</td>\n",
       "      <td>NaN</td>\n",
       "      <td>NaN</td>\n",
       "      <td>NaN</td>\n",
       "      <td>NaN</td>\n",
       "      <td>NaN</td>\n",
       "    </tr>\n",
       "    <tr>\n",
       "      <th>2017-01-04 17:00:00+00:00</th>\n",
       "      <td>116.1300</td>\n",
       "      <td>116.3700</td>\n",
       "      <td>115.9550</td>\n",
       "      <td>116.2700</td>\n",
       "      <td>115.8100</td>\n",
       "      <td>115.8000</td>\n",
       "      <td>116.0800</td>\n",
       "      <td>116.2700</td>\n",
       "      <td>116.2700</td>\n",
       "      <td>116.0700</td>\n",
       "      <td>...</td>\n",
       "      <td>NaN</td>\n",
       "      <td>NaN</td>\n",
       "      <td>NaN</td>\n",
       "      <td>NaN</td>\n",
       "      <td>NaN</td>\n",
       "      <td>NaN</td>\n",
       "      <td>NaN</td>\n",
       "      <td>NaN</td>\n",
       "      <td>NaN</td>\n",
       "      <td>NaN</td>\n",
       "    </tr>\n",
       "    <tr>\n",
       "      <th>2017-01-04 18:00:00+00:00</th>\n",
       "      <td>116.2100</td>\n",
       "      <td>116.1300</td>\n",
       "      <td>116.3700</td>\n",
       "      <td>115.9550</td>\n",
       "      <td>116.2700</td>\n",
       "      <td>115.8100</td>\n",
       "      <td>115.8000</td>\n",
       "      <td>116.0800</td>\n",
       "      <td>116.2700</td>\n",
       "      <td>116.2700</td>\n",
       "      <td>...</td>\n",
       "      <td>NaN</td>\n",
       "      <td>NaN</td>\n",
       "      <td>NaN</td>\n",
       "      <td>NaN</td>\n",
       "      <td>NaN</td>\n",
       "      <td>NaN</td>\n",
       "      <td>NaN</td>\n",
       "      <td>NaN</td>\n",
       "      <td>NaN</td>\n",
       "      <td>NaN</td>\n",
       "    </tr>\n",
       "    <tr>\n",
       "      <th>2017-01-04 19:00:00+00:00</th>\n",
       "      <td>116.0608</td>\n",
       "      <td>116.2100</td>\n",
       "      <td>116.1300</td>\n",
       "      <td>116.3700</td>\n",
       "      <td>115.9550</td>\n",
       "      <td>116.2700</td>\n",
       "      <td>115.8100</td>\n",
       "      <td>115.8000</td>\n",
       "      <td>116.0800</td>\n",
       "      <td>116.2700</td>\n",
       "      <td>...</td>\n",
       "      <td>NaN</td>\n",
       "      <td>NaN</td>\n",
       "      <td>NaN</td>\n",
       "      <td>NaN</td>\n",
       "      <td>NaN</td>\n",
       "      <td>NaN</td>\n",
       "      <td>NaN</td>\n",
       "      <td>NaN</td>\n",
       "      <td>NaN</td>\n",
       "      <td>NaN</td>\n",
       "    </tr>\n",
       "    <tr>\n",
       "      <th>2017-01-04 20:00:00+00:00</th>\n",
       "      <td>116.0200</td>\n",
       "      <td>116.0608</td>\n",
       "      <td>116.2100</td>\n",
       "      <td>116.1300</td>\n",
       "      <td>116.3700</td>\n",
       "      <td>115.9550</td>\n",
       "      <td>116.2700</td>\n",
       "      <td>115.8100</td>\n",
       "      <td>115.8000</td>\n",
       "      <td>116.0800</td>\n",
       "      <td>...</td>\n",
       "      <td>NaN</td>\n",
       "      <td>NaN</td>\n",
       "      <td>NaN</td>\n",
       "      <td>NaN</td>\n",
       "      <td>NaN</td>\n",
       "      <td>NaN</td>\n",
       "      <td>NaN</td>\n",
       "      <td>NaN</td>\n",
       "      <td>NaN</td>\n",
       "      <td>NaN</td>\n",
       "    </tr>\n",
       "    <tr>\n",
       "      <th>2017-01-04 21:00:00+00:00</th>\n",
       "      <td>116.0300</td>\n",
       "      <td>116.0200</td>\n",
       "      <td>116.0608</td>\n",
       "      <td>116.2100</td>\n",
       "      <td>116.1300</td>\n",
       "      <td>116.3700</td>\n",
       "      <td>115.9550</td>\n",
       "      <td>116.2700</td>\n",
       "      <td>115.8100</td>\n",
       "      <td>115.8000</td>\n",
       "      <td>...</td>\n",
       "      <td>NaN</td>\n",
       "      <td>NaN</td>\n",
       "      <td>NaN</td>\n",
       "      <td>NaN</td>\n",
       "      <td>NaN</td>\n",
       "      <td>NaN</td>\n",
       "      <td>NaN</td>\n",
       "      <td>NaN</td>\n",
       "      <td>NaN</td>\n",
       "      <td>NaN</td>\n",
       "    </tr>\n",
       "    <tr>\n",
       "      <th>2017-01-04 22:00:00+00:00</th>\n",
       "      <td>116.0300</td>\n",
       "      <td>116.0300</td>\n",
       "      <td>116.0200</td>\n",
       "      <td>116.0608</td>\n",
       "      <td>116.2100</td>\n",
       "      <td>116.1300</td>\n",
       "      <td>116.3700</td>\n",
       "      <td>115.9550</td>\n",
       "      <td>116.2700</td>\n",
       "      <td>115.8100</td>\n",
       "      <td>...</td>\n",
       "      <td>NaN</td>\n",
       "      <td>NaN</td>\n",
       "      <td>NaN</td>\n",
       "      <td>NaN</td>\n",
       "      <td>NaN</td>\n",
       "      <td>NaN</td>\n",
       "      <td>NaN</td>\n",
       "      <td>NaN</td>\n",
       "      <td>NaN</td>\n",
       "      <td>NaN</td>\n",
       "    </tr>\n",
       "  </tbody>\n",
       "</table>\n",
       "<p>20 rows × 60 columns</p>\n",
       "</div>"
      ],
      "text/plain": [
       "                               AAPL    AAPL-1    AAPL-2    AAPL-3    AAPL-4  \\\n",
       "timestamp                                                                     \n",
       "2017-01-03 19:00:00+00:00  115.4300  115.2350  115.4650  115.3757  115.4500   \n",
       "2017-01-03 20:00:00+00:00  116.1400  115.4300  115.2350  115.4650  115.3757   \n",
       "2017-01-03 21:00:00+00:00  116.1500  116.1400  115.4300  115.2350  115.4650   \n",
       "2017-01-03 22:00:00+00:00  116.0100  116.1500  116.1400  115.4300  115.2350   \n",
       "2017-01-03 23:00:00+00:00  116.0200  116.0100  116.1500  116.1400  115.4300   \n",
       "2017-01-04 00:00:00+00:00  116.0700  116.0200  116.0100  116.1500  116.1400   \n",
       "2017-01-04 09:00:00+00:00  116.2700  116.0700  116.0200  116.0100  116.1500   \n",
       "2017-01-04 10:00:00+00:00  116.2700  116.2700  116.0700  116.0200  116.0100   \n",
       "2017-01-04 11:00:00+00:00  116.0800  116.2700  116.2700  116.0700  116.0200   \n",
       "2017-01-04 12:00:00+00:00  115.8000  116.0800  116.2700  116.2700  116.0700   \n",
       "2017-01-04 13:00:00+00:00  115.8100  115.8000  116.0800  116.2700  116.2700   \n",
       "2017-01-04 14:00:00+00:00  116.2700  115.8100  115.8000  116.0800  116.2700   \n",
       "2017-01-04 15:00:00+00:00  115.9550  116.2700  115.8100  115.8000  116.0800   \n",
       "2017-01-04 16:00:00+00:00  116.3700  115.9550  116.2700  115.8100  115.8000   \n",
       "2017-01-04 17:00:00+00:00  116.1300  116.3700  115.9550  116.2700  115.8100   \n",
       "2017-01-04 18:00:00+00:00  116.2100  116.1300  116.3700  115.9550  116.2700   \n",
       "2017-01-04 19:00:00+00:00  116.0608  116.2100  116.1300  116.3700  115.9550   \n",
       "2017-01-04 20:00:00+00:00  116.0200  116.0608  116.2100  116.1300  116.3700   \n",
       "2017-01-04 21:00:00+00:00  116.0300  116.0200  116.0608  116.2100  116.1300   \n",
       "2017-01-04 22:00:00+00:00  116.0300  116.0300  116.0200  116.0608  116.2100   \n",
       "\n",
       "                             AAPL-5    AAPL-6    AAPL-7    AAPL-8    AAPL-9  \\\n",
       "timestamp                                                                     \n",
       "2017-01-03 19:00:00+00:00  115.6700  116.2000  116.0200  116.2800  116.0200   \n",
       "2017-01-03 20:00:00+00:00  115.4500  115.6700  116.2000  116.0200  116.2800   \n",
       "2017-01-03 21:00:00+00:00  115.3757  115.4500  115.6700  116.2000  116.0200   \n",
       "2017-01-03 22:00:00+00:00  115.4650  115.3757  115.4500  115.6700  116.2000   \n",
       "2017-01-03 23:00:00+00:00  115.2350  115.4650  115.3757  115.4500  115.6700   \n",
       "2017-01-04 00:00:00+00:00  115.4300  115.2350  115.4650  115.3757  115.4500   \n",
       "2017-01-04 09:00:00+00:00  116.1400  115.4300  115.2350  115.4650  115.3757   \n",
       "2017-01-04 10:00:00+00:00  116.1500  116.1400  115.4300  115.2350  115.4650   \n",
       "2017-01-04 11:00:00+00:00  116.0100  116.1500  116.1400  115.4300  115.2350   \n",
       "2017-01-04 12:00:00+00:00  116.0200  116.0100  116.1500  116.1400  115.4300   \n",
       "2017-01-04 13:00:00+00:00  116.0700  116.0200  116.0100  116.1500  116.1400   \n",
       "2017-01-04 14:00:00+00:00  116.2700  116.0700  116.0200  116.0100  116.1500   \n",
       "2017-01-04 15:00:00+00:00  116.2700  116.2700  116.0700  116.0200  116.0100   \n",
       "2017-01-04 16:00:00+00:00  116.0800  116.2700  116.2700  116.0700  116.0200   \n",
       "2017-01-04 17:00:00+00:00  115.8000  116.0800  116.2700  116.2700  116.0700   \n",
       "2017-01-04 18:00:00+00:00  115.8100  115.8000  116.0800  116.2700  116.2700   \n",
       "2017-01-04 19:00:00+00:00  116.2700  115.8100  115.8000  116.0800  116.2700   \n",
       "2017-01-04 20:00:00+00:00  115.9550  116.2700  115.8100  115.8000  116.0800   \n",
       "2017-01-04 21:00:00+00:00  116.3700  115.9550  116.2700  115.8100  115.8000   \n",
       "2017-01-04 22:00:00+00:00  116.1300  116.3700  115.9550  116.2700  115.8100   \n",
       "\n",
       "                           ...  AAPL-50  AAPL-51  AAPL-52  AAPL-53  AAPL-54  \\\n",
       "timestamp                  ...                                                \n",
       "2017-01-03 19:00:00+00:00  ...      NaN      NaN      NaN      NaN      NaN   \n",
       "2017-01-03 20:00:00+00:00  ...      NaN      NaN      NaN      NaN      NaN   \n",
       "2017-01-03 21:00:00+00:00  ...      NaN      NaN      NaN      NaN      NaN   \n",
       "2017-01-03 22:00:00+00:00  ...      NaN      NaN      NaN      NaN      NaN   \n",
       "2017-01-03 23:00:00+00:00  ...      NaN      NaN      NaN      NaN      NaN   \n",
       "2017-01-04 00:00:00+00:00  ...      NaN      NaN      NaN      NaN      NaN   \n",
       "2017-01-04 09:00:00+00:00  ...      NaN      NaN      NaN      NaN      NaN   \n",
       "2017-01-04 10:00:00+00:00  ...      NaN      NaN      NaN      NaN      NaN   \n",
       "2017-01-04 11:00:00+00:00  ...      NaN      NaN      NaN      NaN      NaN   \n",
       "2017-01-04 12:00:00+00:00  ...      NaN      NaN      NaN      NaN      NaN   \n",
       "2017-01-04 13:00:00+00:00  ...      NaN      NaN      NaN      NaN      NaN   \n",
       "2017-01-04 14:00:00+00:00  ...      NaN      NaN      NaN      NaN      NaN   \n",
       "2017-01-04 15:00:00+00:00  ...      NaN      NaN      NaN      NaN      NaN   \n",
       "2017-01-04 16:00:00+00:00  ...      NaN      NaN      NaN      NaN      NaN   \n",
       "2017-01-04 17:00:00+00:00  ...      NaN      NaN      NaN      NaN      NaN   \n",
       "2017-01-04 18:00:00+00:00  ...      NaN      NaN      NaN      NaN      NaN   \n",
       "2017-01-04 19:00:00+00:00  ...      NaN      NaN      NaN      NaN      NaN   \n",
       "2017-01-04 20:00:00+00:00  ...      NaN      NaN      NaN      NaN      NaN   \n",
       "2017-01-04 21:00:00+00:00  ...      NaN      NaN      NaN      NaN      NaN   \n",
       "2017-01-04 22:00:00+00:00  ...      NaN      NaN      NaN      NaN      NaN   \n",
       "\n",
       "                           AAPL-55  AAPL-56  AAPL-57  AAPL-58  AAPL-59  \n",
       "timestamp                                                               \n",
       "2017-01-03 19:00:00+00:00      NaN      NaN      NaN      NaN      NaN  \n",
       "2017-01-03 20:00:00+00:00      NaN      NaN      NaN      NaN      NaN  \n",
       "2017-01-03 21:00:00+00:00      NaN      NaN      NaN      NaN      NaN  \n",
       "2017-01-03 22:00:00+00:00      NaN      NaN      NaN      NaN      NaN  \n",
       "2017-01-03 23:00:00+00:00      NaN      NaN      NaN      NaN      NaN  \n",
       "2017-01-04 00:00:00+00:00      NaN      NaN      NaN      NaN      NaN  \n",
       "2017-01-04 09:00:00+00:00      NaN      NaN      NaN      NaN      NaN  \n",
       "2017-01-04 10:00:00+00:00      NaN      NaN      NaN      NaN      NaN  \n",
       "2017-01-04 11:00:00+00:00      NaN      NaN      NaN      NaN      NaN  \n",
       "2017-01-04 12:00:00+00:00      NaN      NaN      NaN      NaN      NaN  \n",
       "2017-01-04 13:00:00+00:00      NaN      NaN      NaN      NaN      NaN  \n",
       "2017-01-04 14:00:00+00:00      NaN      NaN      NaN      NaN      NaN  \n",
       "2017-01-04 15:00:00+00:00      NaN      NaN      NaN      NaN      NaN  \n",
       "2017-01-04 16:00:00+00:00      NaN      NaN      NaN      NaN      NaN  \n",
       "2017-01-04 17:00:00+00:00      NaN      NaN      NaN      NaN      NaN  \n",
       "2017-01-04 18:00:00+00:00      NaN      NaN      NaN      NaN      NaN  \n",
       "2017-01-04 19:00:00+00:00      NaN      NaN      NaN      NaN      NaN  \n",
       "2017-01-04 20:00:00+00:00      NaN      NaN      NaN      NaN      NaN  \n",
       "2017-01-04 21:00:00+00:00      NaN      NaN      NaN      NaN      NaN  \n",
       "2017-01-04 22:00:00+00:00      NaN      NaN      NaN      NaN      NaN  \n",
       "\n",
       "[20 rows x 60 columns]"
      ]
     },
     "execution_count": 6,
     "metadata": {},
     "output_type": "execute_result"
    }
   ],
   "source": [
    "num_ticks = 60\r\n",
    "for i in range(1,num_ticks):\r\n",
    "    name = f\"AAPL-{i}\"\r\n",
    "    aapl_df[name] = aapl_df[\"AAPL\"].shift(i)\r\n",
    "aapl_df.iloc[10:30,:]"
   ]
  },
  {
   "cell_type": "code",
   "execution_count": 7,
   "metadata": {},
   "outputs": [
    {
     "data": {
      "text/html": [
       "<div>\n",
       "<style scoped>\n",
       "    .dataframe tbody tr th:only-of-type {\n",
       "        vertical-align: middle;\n",
       "    }\n",
       "\n",
       "    .dataframe tbody tr th {\n",
       "        vertical-align: top;\n",
       "    }\n",
       "\n",
       "    .dataframe thead th {\n",
       "        text-align: right;\n",
       "    }\n",
       "</style>\n",
       "<table border=\"1\" class=\"dataframe\">\n",
       "  <thead>\n",
       "    <tr style=\"text-align: right;\">\n",
       "      <th></th>\n",
       "      <th>AAPL_24_Return</th>\n",
       "      <th>AAPL_buy</th>\n",
       "    </tr>\n",
       "    <tr>\n",
       "      <th>timestamp</th>\n",
       "      <th></th>\n",
       "      <th></th>\n",
       "    </tr>\n",
       "  </thead>\n",
       "  <tbody>\n",
       "    <tr>\n",
       "      <th>2021-03-31 19:00:00+00:00</th>\n",
       "      <td>NaN</td>\n",
       "      <td>0</td>\n",
       "    </tr>\n",
       "    <tr>\n",
       "      <th>2021-03-31 20:00:00+00:00</th>\n",
       "      <td>NaN</td>\n",
       "      <td>0</td>\n",
       "    </tr>\n",
       "    <tr>\n",
       "      <th>2021-03-31 21:00:00+00:00</th>\n",
       "      <td>NaN</td>\n",
       "      <td>0</td>\n",
       "    </tr>\n",
       "    <tr>\n",
       "      <th>2021-03-31 22:00:00+00:00</th>\n",
       "      <td>NaN</td>\n",
       "      <td>0</td>\n",
       "    </tr>\n",
       "    <tr>\n",
       "      <th>2021-03-31 23:00:00+00:00</th>\n",
       "      <td>NaN</td>\n",
       "      <td>0</td>\n",
       "    </tr>\n",
       "  </tbody>\n",
       "</table>\n",
       "</div>"
      ],
      "text/plain": [
       "                           AAPL_24_Return  AAPL_buy\n",
       "timestamp                                          \n",
       "2021-03-31 19:00:00+00:00             NaN         0\n",
       "2021-03-31 20:00:00+00:00             NaN         0\n",
       "2021-03-31 21:00:00+00:00             NaN         0\n",
       "2021-03-31 22:00:00+00:00             NaN         0\n",
       "2021-03-31 23:00:00+00:00             NaN         0"
      ]
     },
     "execution_count": 7,
     "metadata": {},
     "output_type": "execute_result"
    }
   ],
   "source": [
    "returns_df = pd.DataFrame()\r\n",
    "returns_df[\"AAPL_24_Return\"] = aapl_df[\"AAPL\"].pct_change(periods=16).shift(-16)\r\n",
    "returns_df[\"AAPL_buy\"] = returns_df[\"AAPL_24_Return\"].apply(lambda x: 1 if x > 0.005 else 0)\r\n",
    "returns_df.tail()"
   ]
  },
  {
   "cell_type": "code",
   "execution_count": 8,
   "metadata": {},
   "outputs": [
    {
     "data": {
      "text/html": [
       "<div>\n",
       "<style scoped>\n",
       "    .dataframe tbody tr th:only-of-type {\n",
       "        vertical-align: middle;\n",
       "    }\n",
       "\n",
       "    .dataframe tbody tr th {\n",
       "        vertical-align: top;\n",
       "    }\n",
       "\n",
       "    .dataframe thead th {\n",
       "        text-align: right;\n",
       "    }\n",
       "</style>\n",
       "<table border=\"1\" class=\"dataframe\">\n",
       "  <thead>\n",
       "    <tr style=\"text-align: right;\">\n",
       "      <th></th>\n",
       "      <th>AAPL</th>\n",
       "      <th>AAPL-1</th>\n",
       "      <th>AAPL-2</th>\n",
       "      <th>AAPL-3</th>\n",
       "      <th>AAPL-4</th>\n",
       "      <th>AAPL-5</th>\n",
       "      <th>AAPL-6</th>\n",
       "      <th>AAPL-7</th>\n",
       "      <th>AAPL-8</th>\n",
       "      <th>AAPL-9</th>\n",
       "      <th>...</th>\n",
       "      <th>AAPL-52</th>\n",
       "      <th>AAPL-53</th>\n",
       "      <th>AAPL-54</th>\n",
       "      <th>AAPL-55</th>\n",
       "      <th>AAPL-56</th>\n",
       "      <th>AAPL-57</th>\n",
       "      <th>AAPL-58</th>\n",
       "      <th>AAPL-59</th>\n",
       "      <th>AAPL_24_Return</th>\n",
       "      <th>AAPL_buy</th>\n",
       "    </tr>\n",
       "  </thead>\n",
       "  <tbody>\n",
       "    <tr>\n",
       "      <th>count</th>\n",
       "      <td>17004.000000</td>\n",
       "      <td>17004.000000</td>\n",
       "      <td>17004.000000</td>\n",
       "      <td>17004.000000</td>\n",
       "      <td>17004.000000</td>\n",
       "      <td>17004.000000</td>\n",
       "      <td>17004.000000</td>\n",
       "      <td>17004.000000</td>\n",
       "      <td>17004.000000</td>\n",
       "      <td>17004.000000</td>\n",
       "      <td>...</td>\n",
       "      <td>17004.000000</td>\n",
       "      <td>17004.000000</td>\n",
       "      <td>17004.000000</td>\n",
       "      <td>17004.000000</td>\n",
       "      <td>17004.000000</td>\n",
       "      <td>17004.000000</td>\n",
       "      <td>17004.000000</td>\n",
       "      <td>17004.000000</td>\n",
       "      <td>17004.000000</td>\n",
       "      <td>17004.000000</td>\n",
       "    </tr>\n",
       "    <tr>\n",
       "      <th>mean</th>\n",
       "      <td>0.000051</td>\n",
       "      <td>0.000051</td>\n",
       "      <td>0.000051</td>\n",
       "      <td>0.000051</td>\n",
       "      <td>0.000051</td>\n",
       "      <td>0.000051</td>\n",
       "      <td>0.000051</td>\n",
       "      <td>0.000052</td>\n",
       "      <td>0.000052</td>\n",
       "      <td>0.000052</td>\n",
       "      <td>...</td>\n",
       "      <td>0.000053</td>\n",
       "      <td>0.000053</td>\n",
       "      <td>0.000052</td>\n",
       "      <td>0.000052</td>\n",
       "      <td>0.000052</td>\n",
       "      <td>0.000052</td>\n",
       "      <td>0.000053</td>\n",
       "      <td>0.000052</td>\n",
       "      <td>0.000797</td>\n",
       "      <td>0.389555</td>\n",
       "    </tr>\n",
       "    <tr>\n",
       "      <th>std</th>\n",
       "      <td>0.007729</td>\n",
       "      <td>0.007729</td>\n",
       "      <td>0.007729</td>\n",
       "      <td>0.007729</td>\n",
       "      <td>0.007729</td>\n",
       "      <td>0.007729</td>\n",
       "      <td>0.007729</td>\n",
       "      <td>0.007729</td>\n",
       "      <td>0.007729</td>\n",
       "      <td>0.007729</td>\n",
       "      <td>...</td>\n",
       "      <td>0.007728</td>\n",
       "      <td>0.007728</td>\n",
       "      <td>0.007728</td>\n",
       "      <td>0.007728</td>\n",
       "      <td>0.007728</td>\n",
       "      <td>0.007728</td>\n",
       "      <td>0.007727</td>\n",
       "      <td>0.007726</td>\n",
       "      <td>0.029794</td>\n",
       "      <td>0.487664</td>\n",
       "    </tr>\n",
       "    <tr>\n",
       "      <th>min</th>\n",
       "      <td>-0.747022</td>\n",
       "      <td>-0.747022</td>\n",
       "      <td>-0.747022</td>\n",
       "      <td>-0.747022</td>\n",
       "      <td>-0.747022</td>\n",
       "      <td>-0.747022</td>\n",
       "      <td>-0.747022</td>\n",
       "      <td>-0.747022</td>\n",
       "      <td>-0.747022</td>\n",
       "      <td>-0.747022</td>\n",
       "      <td>...</td>\n",
       "      <td>-0.747022</td>\n",
       "      <td>-0.747022</td>\n",
       "      <td>-0.747022</td>\n",
       "      <td>-0.747022</td>\n",
       "      <td>-0.747022</td>\n",
       "      <td>-0.747022</td>\n",
       "      <td>-0.747022</td>\n",
       "      <td>-0.747022</td>\n",
       "      <td>-0.750288</td>\n",
       "      <td>0.000000</td>\n",
       "    </tr>\n",
       "    <tr>\n",
       "      <th>25%</th>\n",
       "      <td>-0.001264</td>\n",
       "      <td>-0.001264</td>\n",
       "      <td>-0.001264</td>\n",
       "      <td>-0.001264</td>\n",
       "      <td>-0.001264</td>\n",
       "      <td>-0.001264</td>\n",
       "      <td>-0.001264</td>\n",
       "      <td>-0.001264</td>\n",
       "      <td>-0.001265</td>\n",
       "      <td>-0.001265</td>\n",
       "      <td>...</td>\n",
       "      <td>-0.001264</td>\n",
       "      <td>-0.001264</td>\n",
       "      <td>-0.001265</td>\n",
       "      <td>-0.001265</td>\n",
       "      <td>-0.001265</td>\n",
       "      <td>-0.001266</td>\n",
       "      <td>-0.001265</td>\n",
       "      <td>-0.001265</td>\n",
       "      <td>-0.006935</td>\n",
       "      <td>0.000000</td>\n",
       "    </tr>\n",
       "    <tr>\n",
       "      <th>50%</th>\n",
       "      <td>0.000065</td>\n",
       "      <td>0.000065</td>\n",
       "      <td>0.000065</td>\n",
       "      <td>0.000065</td>\n",
       "      <td>0.000065</td>\n",
       "      <td>0.000065</td>\n",
       "      <td>0.000065</td>\n",
       "      <td>0.000065</td>\n",
       "      <td>0.000065</td>\n",
       "      <td>0.000065</td>\n",
       "      <td>...</td>\n",
       "      <td>0.000065</td>\n",
       "      <td>0.000065</td>\n",
       "      <td>0.000065</td>\n",
       "      <td>0.000065</td>\n",
       "      <td>0.000065</td>\n",
       "      <td>0.000065</td>\n",
       "      <td>0.000065</td>\n",
       "      <td>0.000065</td>\n",
       "      <td>0.001552</td>\n",
       "      <td>0.000000</td>\n",
       "    </tr>\n",
       "    <tr>\n",
       "      <th>75%</th>\n",
       "      <td>0.001603</td>\n",
       "      <td>0.001603</td>\n",
       "      <td>0.001603</td>\n",
       "      <td>0.001603</td>\n",
       "      <td>0.001603</td>\n",
       "      <td>0.001603</td>\n",
       "      <td>0.001603</td>\n",
       "      <td>0.001605</td>\n",
       "      <td>0.001605</td>\n",
       "      <td>0.001603</td>\n",
       "      <td>...</td>\n",
       "      <td>0.001603</td>\n",
       "      <td>0.001603</td>\n",
       "      <td>0.001603</td>\n",
       "      <td>0.001603</td>\n",
       "      <td>0.001602</td>\n",
       "      <td>0.001602</td>\n",
       "      <td>0.001603</td>\n",
       "      <td>0.001602</td>\n",
       "      <td>0.010357</td>\n",
       "      <td>1.000000</td>\n",
       "    </tr>\n",
       "    <tr>\n",
       "      <th>max</th>\n",
       "      <td>0.159012</td>\n",
       "      <td>0.159012</td>\n",
       "      <td>0.159012</td>\n",
       "      <td>0.159012</td>\n",
       "      <td>0.159012</td>\n",
       "      <td>0.159012</td>\n",
       "      <td>0.159012</td>\n",
       "      <td>0.159012</td>\n",
       "      <td>0.159012</td>\n",
       "      <td>0.159012</td>\n",
       "      <td>...</td>\n",
       "      <td>0.159012</td>\n",
       "      <td>0.159012</td>\n",
       "      <td>0.159012</td>\n",
       "      <td>0.159012</td>\n",
       "      <td>0.159012</td>\n",
       "      <td>0.159012</td>\n",
       "      <td>0.159012</td>\n",
       "      <td>0.159012</td>\n",
       "      <td>0.166464</td>\n",
       "      <td>1.000000</td>\n",
       "    </tr>\n",
       "  </tbody>\n",
       "</table>\n",
       "<p>8 rows × 62 columns</p>\n",
       "</div>"
      ],
      "text/plain": [
       "               AAPL        AAPL-1        AAPL-2        AAPL-3        AAPL-4  \\\n",
       "count  17004.000000  17004.000000  17004.000000  17004.000000  17004.000000   \n",
       "mean       0.000051      0.000051      0.000051      0.000051      0.000051   \n",
       "std        0.007729      0.007729      0.007729      0.007729      0.007729   \n",
       "min       -0.747022     -0.747022     -0.747022     -0.747022     -0.747022   \n",
       "25%       -0.001264     -0.001264     -0.001264     -0.001264     -0.001264   \n",
       "50%        0.000065      0.000065      0.000065      0.000065      0.000065   \n",
       "75%        0.001603      0.001603      0.001603      0.001603      0.001603   \n",
       "max        0.159012      0.159012      0.159012      0.159012      0.159012   \n",
       "\n",
       "             AAPL-5        AAPL-6        AAPL-7        AAPL-8        AAPL-9  \\\n",
       "count  17004.000000  17004.000000  17004.000000  17004.000000  17004.000000   \n",
       "mean       0.000051      0.000051      0.000052      0.000052      0.000052   \n",
       "std        0.007729      0.007729      0.007729      0.007729      0.007729   \n",
       "min       -0.747022     -0.747022     -0.747022     -0.747022     -0.747022   \n",
       "25%       -0.001264     -0.001264     -0.001264     -0.001265     -0.001265   \n",
       "50%        0.000065      0.000065      0.000065      0.000065      0.000065   \n",
       "75%        0.001603      0.001603      0.001605      0.001605      0.001603   \n",
       "max        0.159012      0.159012      0.159012      0.159012      0.159012   \n",
       "\n",
       "       ...       AAPL-52       AAPL-53       AAPL-54       AAPL-55  \\\n",
       "count  ...  17004.000000  17004.000000  17004.000000  17004.000000   \n",
       "mean   ...      0.000053      0.000053      0.000052      0.000052   \n",
       "std    ...      0.007728      0.007728      0.007728      0.007728   \n",
       "min    ...     -0.747022     -0.747022     -0.747022     -0.747022   \n",
       "25%    ...     -0.001264     -0.001264     -0.001265     -0.001265   \n",
       "50%    ...      0.000065      0.000065      0.000065      0.000065   \n",
       "75%    ...      0.001603      0.001603      0.001603      0.001603   \n",
       "max    ...      0.159012      0.159012      0.159012      0.159012   \n",
       "\n",
       "            AAPL-56       AAPL-57       AAPL-58       AAPL-59  AAPL_24_Return  \\\n",
       "count  17004.000000  17004.000000  17004.000000  17004.000000    17004.000000   \n",
       "mean       0.000052      0.000052      0.000053      0.000052        0.000797   \n",
       "std        0.007728      0.007728      0.007727      0.007726        0.029794   \n",
       "min       -0.747022     -0.747022     -0.747022     -0.747022       -0.750288   \n",
       "25%       -0.001265     -0.001266     -0.001265     -0.001265       -0.006935   \n",
       "50%        0.000065      0.000065      0.000065      0.000065        0.001552   \n",
       "75%        0.001602      0.001602      0.001603      0.001602        0.010357   \n",
       "max        0.159012      0.159012      0.159012      0.159012        0.166464   \n",
       "\n",
       "           AAPL_buy  \n",
       "count  17004.000000  \n",
       "mean       0.389555  \n",
       "std        0.487664  \n",
       "min        0.000000  \n",
       "25%        0.000000  \n",
       "50%        0.000000  \n",
       "75%        1.000000  \n",
       "max        1.000000  \n",
       "\n",
       "[8 rows x 62 columns]"
      ]
     },
     "execution_count": 8,
     "metadata": {},
     "output_type": "execute_result"
    }
   ],
   "source": [
    "aapl_df = aapl_df.pct_change()\r\n",
    "aapl_df = pd.concat([aapl_df, returns_df], axis=1)\r\n",
    "aapl_df.dropna(inplace=True)\r\n",
    "aapl_df.describe()"
   ]
  },
  {
   "cell_type": "code",
   "execution_count": 9,
   "metadata": {},
   "outputs": [],
   "source": [
    "from sklearn.linear_model import LinearRegression"
   ]
  },
  {
   "cell_type": "code",
   "execution_count": 10,
   "metadata": {},
   "outputs": [
    {
     "data": {
      "text/plain": [
       "(17004,)"
      ]
     },
     "execution_count": 10,
     "metadata": {},
     "output_type": "execute_result"
    }
   ],
   "source": [
    "X = aapl_df.iloc[:,0:60].values\r\n",
    "y = aapl_df[\"AAPL_24_Return\"].values\r\n",
    "y.shape"
   ]
  },
  {
   "cell_type": "code",
   "execution_count": 11,
   "metadata": {},
   "outputs": [
    {
     "data": {
      "text/plain": [
       "array([0.00881655, 0.00907241, 0.00967085, ..., 0.01835015, 0.02028211,\n",
       "       0.02101226])"
      ]
     },
     "execution_count": 11,
     "metadata": {},
     "output_type": "execute_result"
    }
   ],
   "source": [
    "aapl_model = LinearRegression()\r\n",
    "aapl_model.fit(X,y)\r\n",
    "y"
   ]
  },
  {
   "cell_type": "code",
   "execution_count": 12,
   "metadata": {},
   "outputs": [
    {
     "data": {
      "text/plain": [
       "<AxesSubplot:>"
      ]
     },
     "execution_count": 12,
     "metadata": {},
     "output_type": "execute_result"
    },
    {
     "data": {
      "image/png": "[encoded data removed]",
      "text/plain": [
       "<Figure size 1440x504 with 1 Axes>"
      ]
     },
     "metadata": {
      "needs_background": "light"
     },
     "output_type": "display_data"
    }
   ],
   "source": [
    "predicted_y_values = aapl_model.predict(X)\r\n",
    "\r\n",
    "pd.DataFrame({ \"actual\": y,\"prediction\": predicted_y_values}).plot(figsize=(20,7))"
   ]
  },
  {
   "cell_type": "code",
   "execution_count": 13,
   "metadata": {},
   "outputs": [
    {
     "name": "stdout",
     "output_type": "stream",
     "text": [
      "The score is 0.009069180689338374.\n",
      "The r2 is 0.009069180689338374.\n",
      "The mean squared error is 0.0008795969553497446.\n",
      "The root mean squared error is 0.029657999854166575.\n",
      "The standard deviation is 0.029793408467090294.\n"
     ]
    }
   ],
   "source": [
    "from sklearn.metrics import mean_squared_error, r2_score\r\n",
    "import numpy as np\r\n",
    "\r\n",
    "score = aapl_model.score(X, y, sample_weight=None)\r\n",
    "r2 = r2_score(y, predicted_y_values)\r\n",
    "mse = mean_squared_error(y, predicted_y_values)\r\n",
    "rmse = np.sqrt(mse)\r\n",
    "std = np.std(y)\r\n",
    "\r\n",
    "# Print releveant metrics.\r\n",
    "print(f\"The score is {score}.\")\r\n",
    "print(f\"The r2 is {r2}.\")\r\n",
    "print(f\"The mean squared error is {mse}.\")\r\n",
    "print(f\"The root mean squared error is {rmse}.\")\r\n",
    "print(f\"The standard deviation is {std}.\")"
   ]
  },
  {
   "cell_type": "code",
   "execution_count": 14,
   "metadata": {},
   "outputs": [
    {
     "data": {
      "text/plain": [
       "(60,)"
      ]
     },
     "execution_count": 14,
     "metadata": {},
     "output_type": "execute_result"
    }
   ],
   "source": [
    "aapl_model.coef_.shape"
   ]
  },
  {
   "cell_type": "code",
   "execution_count": 15,
   "metadata": {},
   "outputs": [],
   "source": [
    "pred_df = pd.DataFrame({\"actual\": y, \"predicted\":predicted_y_values})"
   ]
  },
  {
   "cell_type": "code",
   "execution_count": 16,
   "metadata": {},
   "outputs": [],
   "source": [
    "# Now do logistic regression\r\n",
    "X = aapl_df.iloc[:,0:60].values\r\n",
    "y = aapl_df[\"AAPL_buy\"].values\r\n"
   ]
  },
  {
   "cell_type": "code",
   "execution_count": 17,
   "metadata": {},
   "outputs": [],
   "source": [
    "from sklearn.model_selection import train_test_split\r\n",
    "\r\n",
    "X_train, X_test, y_train, y_test = train_test_split(X, y,random_state=1,stratify=y)"
   ]
  },
  {
   "cell_type": "code",
   "execution_count": 18,
   "metadata": {},
   "outputs": [
    {
     "name": "stdout",
     "output_type": "stream",
     "text": [
      "Training Data Score: 0.6110719046498863\n",
      "Testing Data Score: 0.6106798400376382\n"
     ]
    }
   ],
   "source": [
    "from sklearn.linear_model import LogisticRegression\r\n",
    "classifier = LogisticRegression(solver='lbfgs', random_state=1)\r\n",
    "classifier.fit(X_train, y_train)\r\n",
    "print(f\"Training Data Score: {classifier.score(X_train, y_train)}\")\r\n",
    "print(f\"Testing Data Score: {classifier.score(X_test, y_test)}\")"
   ]
  },
  {
   "cell_type": "code",
   "execution_count": 19,
   "metadata": {},
   "outputs": [
    {
     "data": {
      "text/plain": [
       "1"
      ]
     },
     "execution_count": 19,
     "metadata": {},
     "output_type": "execute_result"
    }
   ],
   "source": [
    "predictions = classifier.predict(X_test)\r\n",
    "np.sum(predictions)"
   ]
  },
  {
   "cell_type": "code",
   "execution_count": 20,
   "metadata": {},
   "outputs": [
    {
     "data": {
      "text/plain": [
       "array([[2595,    0],\n",
       "       [1655,    1]], dtype=int64)"
      ]
     },
     "execution_count": 20,
     "metadata": {},
     "output_type": "execute_result"
    }
   ],
   "source": [
    "from sklearn.metrics import confusion_matrix\r\n",
    "confusion_matrix(y_test, predictions)"
   ]
  },
  {
   "cell_type": "code",
   "execution_count": 21,
   "metadata": {},
   "outputs": [
    {
     "name": "stdout",
     "output_type": "stream",
     "text": [
      "              precision    recall  f1-score   support\n",
      "\n",
      "     Not Buy       0.61      1.00      0.76      2595\n",
      "         Buy       1.00      0.00      0.00      1656\n",
      "\n",
      "    accuracy                           0.61      4251\n",
      "   macro avg       0.81      0.50      0.38      4251\n",
      "weighted avg       0.76      0.61      0.46      4251\n",
      "\n"
     ]
    }
   ],
   "source": [
    "from sklearn.metrics import classification_report\r\n",
    "target_names = [\"Not Buy\", \"Buy\"]\r\n",
    "print(classification_report(y_test, predictions, target_names=target_names))"
   ]
  },
  {
   "cell_type": "code",
   "execution_count": 22,
   "metadata": {},
   "outputs": [
    {
     "name": "stdout",
     "output_type": "stream",
     "text": [
      "1656 1\n"
     ]
    }
   ],
   "source": [
    "print (f\"{np.sum(y_test)} {np.sum(predictions)}\")"
   ]
  },
  {
   "cell_type": "code",
   "execution_count": 23,
   "metadata": {},
   "outputs": [],
   "source": [
    "#Now do Random Forest\r\n",
    "from sklearn.ensemble import RandomForestClassifier"
   ]
  },
  {
   "cell_type": "code",
   "execution_count": 24,
   "metadata": {},
   "outputs": [],
   "source": [
    "rf_model = RandomForestClassifier(n_estimators=500, random_state=78)\r\n",
    "rf_model = rf_model.fit(X_train, y_train)\r\n",
    "rf_predictions = rf_model.predict(X_test)"
   ]
  },
  {
   "cell_type": "code",
   "execution_count": 25,
   "metadata": {},
   "outputs": [
    {
     "name": "stdout",
     "output_type": "stream",
     "text": [
      "1656 157\n"
     ]
    }
   ],
   "source": [
    "print (f\"{np.sum(y_test)} {np.sum(rf_predictions)}\")"
   ]
  },
  {
   "cell_type": "code",
   "execution_count": 26,
   "metadata": {},
   "outputs": [
    {
     "name": "stdout",
     "output_type": "stream",
     "text": [
      "[[2518   77]\n",
      " [1576   80]]\n"
     ]
    }
   ],
   "source": [
    "cm = confusion_matrix(y_test, rf_predictions)\r\n",
    "print(cm)"
   ]
  },
  {
   "cell_type": "code",
   "execution_count": 27,
   "metadata": {},
   "outputs": [
    {
     "name": "stdout",
     "output_type": "stream",
     "text": [
      "              precision    recall  f1-score   support\n",
      "\n",
      "     Not Buy       0.62      0.97      0.75      2595\n",
      "         Buy       0.51      0.05      0.09      1656\n",
      "\n",
      "    accuracy                           0.61      4251\n",
      "   macro avg       0.56      0.51      0.42      4251\n",
      "weighted avg       0.57      0.61      0.49      4251\n",
      "\n"
     ]
    }
   ],
   "source": [
    "target_names = [\"Not Buy\", \"Buy\"]\r\n",
    "print(classification_report(y_test, rf_predictions, target_names=target_names))"
   ]
  },
  {
   "cell_type": "code",
   "execution_count": 28,
   "metadata": {},
   "outputs": [],
   "source": [
    "#Now try gradient boosted tree\r\n",
    "from sklearn.ensemble import GradientBoostingClassifier"
   ]
  },
  {
   "cell_type": "code",
   "execution_count": 29,
   "metadata": {},
   "outputs": [],
   "source": [
    "classifier = GradientBoostingClassifier(n_estimators=20,\r\n",
    "                                        learning_rate=0.75,\r\n",
    "                                        max_features=5,\r\n",
    "                                        max_depth=3,\r\n",
    "                                        random_state=0)\r\n",
    "classifier.fit(X_train, y_train)\r\n",
    "gboost_predictions = classifier.predict(X_test)"
   ]
  },
  {
   "cell_type": "code",
   "execution_count": 30,
   "metadata": {},
   "outputs": [
    {
     "name": "stdout",
     "output_type": "stream",
     "text": [
      "[[2288  307]\n",
      " [1390  266]]\n"
     ]
    }
   ],
   "source": [
    "cm = confusion_matrix(y_test, gboost_predictions)\r\n",
    "print(cm)"
   ]
  },
  {
   "cell_type": "code",
   "execution_count": 31,
   "metadata": {},
   "outputs": [
    {
     "name": "stdout",
     "output_type": "stream",
     "text": [
      "              precision    recall  f1-score   support\n",
      "\n",
      "     Not Buy       0.62      0.88      0.73      2595\n",
      "         Buy       0.46      0.16      0.24      1656\n",
      "\n",
      "    accuracy                           0.60      4251\n",
      "   macro avg       0.54      0.52      0.48      4251\n",
      "weighted avg       0.56      0.60      0.54      4251\n",
      "\n"
     ]
    }
   ],
   "source": [
    "target_names = [\"Not Buy\", \"Buy\"]\r\n",
    "print(classification_report(y_test, gboost_predictions, target_names=target_names))"
   ]
  },
  {
   "cell_type": "code",
   "execution_count": 32,
   "metadata": {},
   "outputs": [
    {
     "data": {
      "text/plain": [
       "array([[1],\n",
       "       [1],\n",
       "       [1],\n",
       "       ...,\n",
       "       [1],\n",
       "       [1],\n",
       "       [1]], dtype=int64)"
      ]
     },
     "execution_count": 32,
     "metadata": {},
     "output_type": "execute_result"
    }
   ],
   "source": [
    "y.reshape(-1,1)"
   ]
  },
  {
   "cell_type": "code",
   "execution_count": null,
   "metadata": {},
   "outputs": [],
   "source": []
  },
  {
   "cell_type": "code",
   "execution_count": 33,
   "metadata": {},
   "outputs": [
    {
     "data": {
      "text/plain": [
       "(17004, 60)"
      ]
     },
     "execution_count": 33,
     "metadata": {},
     "output_type": "execute_result"
    }
   ],
   "source": [
    "X = aapl_df.iloc[:,0:60].values\r\n",
    "y = aapl_df[\"AAPL_24_Return\"].values\r\n",
    "X.shape"
   ]
  },
  {
   "cell_type": "code",
   "execution_count": 34,
   "metadata": {},
   "outputs": [],
   "source": [
    "#Now do Deep Learning\r\n",
    "from sklearn.preprocessing import MinMaxScaler\r\n",
    "\r\n",
    "X = aapl_df.iloc[:,0:60].values\r\n",
    "y = aapl_df[\"AAPL_24_Return\"].values\r\n",
    "\r\n",
    "#X_train, X_test, y_train, y_test = train_test_split(X, y.reshape(-1,1),random_state=1,stratify=y)\r\n",
    "\r\n",
    "x_scaler = MinMaxScaler()\r\n",
    "x_scaler.fit(X)\r\n",
    "X_train_nn = x_scaler.transform(X_train)\r\n",
    "#X_test_nn = x_scaler.transform(X_test)\r\n",
    "\r\n",
    "y_scaler = MinMaxScaler()\r\n",
    "y_scaler.fit(y.reshape(-1,1))\r\n",
    "y_train_nn = y_scaler.transform(y_train.reshape(-1,1))\r\n",
    "#y_test_nn = y_scaler.transform(y_test.reshape(-1,1))\r\n",
    "\r\n",
    "y = 0"
   ]
  },
  {
   "cell_type": "code",
   "execution_count": 35,
   "metadata": {},
   "outputs": [
    {
     "data": {
      "text/plain": [
       "(12753, 60)"
      ]
     },
     "execution_count": 35,
     "metadata": {},
     "output_type": "execute_result"
    }
   ],
   "source": [
    "X_train.shape"
   ]
  },
  {
   "cell_type": "code",
   "execution_count": 36,
   "metadata": {},
   "outputs": [],
   "source": [
    "X_train_nn = X_train.reshape((X_train_nn.shape[0], X_train_nn.shape[1], 1))\r\n",
    "#X_test_nn = X_test.reshape((X_test_nn.shape[0], X_test_nn.shape[1], 1))"
   ]
  },
  {
   "cell_type": "code",
   "execution_count": 37,
   "metadata": {},
   "outputs": [],
   "source": [
    "# Import required Keras modules\r\n",
    "from tensorflow.keras.models import Sequential\r\n",
    "from tensorflow.keras.layers import LSTM, Dense, Dropout\r\n",
    "import tensorflow as tf"
   ]
  },
  {
   "cell_type": "code",
   "execution_count": null,
   "metadata": {},
   "outputs": [],
   "source": [
    "# Define the LSTM RNN model.\r\n",
    "model = Sequential()\r\n",
    "\r\n",
    "number_units = 5\r\n",
    "dropout_fraction = 0.2\r\n",
    "\r\n",
    "# Layer 1\r\n",
    "model.add(LSTM(\r\n",
    "    units=number_units,\r\n",
    "    return_sequences=True,\r\n",
    "    input_shape=(X_train_nn.shape[1], 1))\r\n",
    "    )\r\n",
    "model.add(Dropout(dropout_fraction))\r\n",
    "# Layer 2\r\n",
    "model.add(LSTM(units=number_units, return_sequences=True))\r\n",
    "model.add(Dropout(dropout_fraction))\r\n",
    "# Layer 3\r\n",
    "model.add(LSTM(units=number_units))\r\n",
    "model.add(Dropout(dropout_fraction))\r\n",
    "# Output layer\r\n",
    "model.add(Dense(1))"
   ]
  },
  {
   "cell_type": "code",
   "execution_count": null,
   "metadata": {},
   "outputs": [],
   "source": [
    "model.compile(optimizer=\"adam\", loss=\"mean_squared_error\")"
   ]
  },
  {
   "cell_type": "code",
   "execution_count": null,
   "metadata": {},
   "outputs": [
    {
     "name": "stdout",
     "output_type": "stream",
     "text": [
      "Epoch 1/2\n",
      "13017/13017 [==============================] - 338s 26ms/step - loss: 0.3375\n",
      "Epoch 2/2\n",
      "13017/13017 [==============================] - 343s 26ms/step - loss: 0.2904\n"
     ]
    },
    {
     "data": {
      "text/plain": [
       "<tensorflow.python.keras.callbacks.History at 0x2357eba9ec8>"
      ]
     },
     "execution_count": 31,
     "metadata": {},
     "output_type": "execute_result"
    }
   ],
   "source": [
    "model.fit(X_train_nn, y_train_nn, epochs=2, shuffle=False, batch_size=1, verbose=1)"
   ]
  },
  {
   "cell_type": "code",
   "execution_count": 33,
   "metadata": {},
   "outputs": [
    {
     "name": "stdout",
     "output_type": "stream",
     "text": [
      "407/407 [==============================] - 5s 9ms/step - loss: 0.2862\n"
     ]
    },
    {
     "data": {
      "text/plain": [
       "0.2861696779727936"
      ]
     },
     "execution_count": 33,
     "metadata": {},
     "output_type": "execute_result"
    }
   ],
   "source": [
    "model.evaluate(X_train_nn, y_train_nn)"
   ]
  },
  {
   "cell_type": "code",
   "execution_count": 34,
   "metadata": {},
   "outputs": [
    {
     "data": {
      "text/plain": [
       "(13017, 1)"
      ]
     },
     "execution_count": 34,
     "metadata": {},
     "output_type": "execute_result"
    }
   ],
   "source": [
    "predicted_nn = model.predict(X_train_nn)\r\n",
    "predicted_nn.shape"
   ]
  },
  {
   "cell_type": "code",
   "execution_count": 36,
   "metadata": {},
   "outputs": [],
   "source": [
    "predicted_prices_nn = y_scaler.inverse_transform(predicted_nn)\r\n",
    "real_prices_nn = y_scaler.inverse_transform(y_train_nn.reshape(-1, 1))"
   ]
  },
  {
   "cell_type": "code",
   "execution_count": 37,
   "metadata": {},
   "outputs": [
    {
     "data": {
      "text/plain": [
       "array([[1.2747405],\n",
       "       [1.2747405],\n",
       "       [1.2747414],\n",
       "       [1.2747387],\n",
       "       [1.2747401]], dtype=float32)"
      ]
     },
     "execution_count": 37,
     "metadata": {},
     "output_type": "execute_result"
    }
   ],
   "source": [
    "predicted_nn[0:5]"
   ]
  },
  {
   "cell_type": "code",
   "execution_count": 38,
   "metadata": {},
   "outputs": [
    {
     "data": {
      "text/plain": [
       "array([[0.],\n",
       "       [0.],\n",
       "       [1.],\n",
       "       [0.],\n",
       "       [0.]])"
      ]
     },
     "execution_count": 38,
     "metadata": {},
     "output_type": "execute_result"
    }
   ],
   "source": [
    "real_prices_nn[:5]"
   ]
  },
  {
   "cell_type": "code",
   "execution_count": null,
   "metadata": {},
   "outputs": [],
   "source": []
  }
 ],
 "metadata": {
  "interpreter": {
   "hash": "625649fb277a33020e30d480432fe83a3c34bdae155bdecae638a11130d5bfb4"
  },
  "kernelspec": {
   "display_name": "Python 3.7.10 64-bit",
   "name": "python3"
  },
  "language_info": {
   "codemirror_mode": {
    "name": "ipython",
    "version": 3
   },
   "file_extension": ".py",
   "mimetype": "text/x-python",
   "name": "python",
   "nbconvert_exporter": "python",
   "pygments_lexer": "ipython3",
   "version": "3.7.10"
  },
  "orig_nbformat": 4
 },
 "nbformat": 4,
 "nbformat_minor": 2
}