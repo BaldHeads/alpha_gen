{
 "cells": [
  {
   "cell_type": "code",
   "execution_count": 1,
   "metadata": {},
   "outputs": [],
   "source": [
    "import sys\r\n",
    "sys.path.append('../')"
   ]
  },
  {
   "cell_type": "code",
   "execution_count": 2,
   "metadata": {},
   "outputs": [],
   "source": [
    "import libs.db\r\n",
    "import libs.prep_df\r\n",
    "import pandas as pd\r\n",
    "import sqlite3"
   ]
  },
  {
   "cell_type": "code",
   "execution_count": 3,
   "metadata": {},
   "outputs": [
    {
     "data": {
      "text/html": [
       "<div>\n",
       "<style scoped>\n",
       "    .dataframe tbody tr th:only-of-type {\n",
       "        vertical-align: middle;\n",
       "    }\n",
       "\n",
       "    .dataframe tbody tr th {\n",
       "        vertical-align: top;\n",
       "    }\n",
       "\n",
       "    .dataframe thead th {\n",
       "        text-align: right;\n",
       "    }\n",
       "</style>\n",
       "<table border=\"1\" class=\"dataframe\">\n",
       "  <thead>\n",
       "    <tr style=\"text-align: right;\">\n",
       "      <th></th>\n",
       "      <th>id</th>\n",
       "      <th>symbol</th>\n",
       "      <th>timestamp</th>\n",
       "      <th>close</th>\n",
       "    </tr>\n",
       "  </thead>\n",
       "  <tbody>\n",
       "    <tr>\n",
       "      <th>0</th>\n",
       "      <td>1</td>\n",
       "      <td>AAPL</td>\n",
       "      <td>2017-01-03T09:00:00+00:00</td>\n",
       "      <td>116.05</td>\n",
       "    </tr>\n",
       "    <tr>\n",
       "      <th>1</th>\n",
       "      <td>2</td>\n",
       "      <td>AAPL</td>\n",
       "      <td>2017-01-03T10:00:00+00:00</td>\n",
       "      <td>116.02</td>\n",
       "    </tr>\n",
       "    <tr>\n",
       "      <th>2</th>\n",
       "      <td>3</td>\n",
       "      <td>AAPL</td>\n",
       "      <td>2017-01-03T11:00:00+00:00</td>\n",
       "      <td>116.28</td>\n",
       "    </tr>\n",
       "    <tr>\n",
       "      <th>3</th>\n",
       "      <td>4</td>\n",
       "      <td>AAPL</td>\n",
       "      <td>2017-01-03T12:00:00+00:00</td>\n",
       "      <td>116.02</td>\n",
       "    </tr>\n",
       "    <tr>\n",
       "      <th>4</th>\n",
       "      <td>5</td>\n",
       "      <td>AAPL</td>\n",
       "      <td>2017-01-03T13:00:00+00:00</td>\n",
       "      <td>116.20</td>\n",
       "    </tr>\n",
       "  </tbody>\n",
       "</table>\n",
       "</div>"
      ],
      "text/plain": [
       "   id symbol                  timestamp   close\n",
       "0   1   AAPL  2017-01-03T09:00:00+00:00  116.05\n",
       "1   2   AAPL  2017-01-03T10:00:00+00:00  116.02\n",
       "2   3   AAPL  2017-01-03T11:00:00+00:00  116.28\n",
       "3   4   AAPL  2017-01-03T12:00:00+00:00  116.02\n",
       "4   5   AAPL  2017-01-03T13:00:00+00:00  116.20"
      ]
     },
     "execution_count": 3,
     "metadata": {},
     "output_type": "execute_result"
    }
   ],
   "source": [
    "sql_file = \"sp10_historical.db\"\r\n",
    "conn = libs.db.create_connection(sql_file)\r\n",
    "df = libs.db.df_from_db(conn)\r\n",
    "libs.db.close_connection(conn)\r\n",
    "df.head()"
   ]
  },
  {
   "cell_type": "code",
   "execution_count": 4,
   "metadata": {},
   "outputs": [],
   "source": [
    "norm_df = libs.prep_df.normalize_df(df)"
   ]
  },
  {
   "cell_type": "code",
   "execution_count": 5,
   "metadata": {},
   "outputs": [
    {
     "name": "stdout",
     "output_type": "stream",
     "text": [
      "['AAPL', 'MSFT', 'AMZN', 'FB', 'GOOGL', 'TSLA', 'BRK.B', 'NVDA', 'JPM', 'JNJ']\n"
     ]
    }
   ],
   "source": [
    "tickers = libs.db.get_tickers(\"sp10.csv\")\r\n",
    "print(tickers)"
   ]
  },
  {
   "cell_type": "code",
   "execution_count": 13,
   "metadata": {},
   "outputs": [
    {
     "name": "stderr",
     "output_type": "stream",
     "text": [
      "ipykernel_launcher:7: PerformanceWarning: DataFrame is highly fragmented.  This is usually the result of calling `frame.insert` many times, which has poor performance.  Consider using pd.concat instead.  To get a de-fragmented frame, use `newframe = frame.copy()`\n",
      "ipykernel_launcher:4: PerformanceWarning: DataFrame is highly fragmented.  This is usually the result of calling `frame.insert` many times, which has poor performance.  Consider using pd.concat instead.  To get a de-fragmented frame, use `newframe = frame.copy()`\n"
     ]
    },
    {
     "data": {
      "text/plain": [
       "(17080, 600)"
      ]
     },
     "execution_count": 13,
     "metadata": {},
     "output_type": "execute_result"
    }
   ],
   "source": [
    "num_ticks = 60\r\n",
    "ticker_shifted_df = pd.DataFrame()\r\n",
    "for ticker in tickers:\r\n",
    "    ticker_shifted_df[ticker] = norm_df[ticker].copy()\r\n",
    "    for i in range(1,num_ticks):\r\n",
    "        name = f\"{ticker}-{i}\"\r\n",
    "        ticker_shifted_df[name] = norm_df[ticker].shift(i)\r\n",
    "ticker_shifted_df = ticker_shifted_df.copy()\r\n",
    "ticker_shifted_df.shape"
   ]
  },
  {
   "cell_type": "code",
   "execution_count": 7,
   "metadata": {},
   "outputs": [
    {
     "data": {
      "text/plain": [
       "10"
      ]
     },
     "execution_count": 7,
     "metadata": {},
     "output_type": "execute_result"
    }
   ],
   "source": [
    "ticker_returns_df_list = []\r\n",
    "for ticker in tickers:\r\n",
    "    name = f\"{ticker}_24_Return\"\r\n",
    "    returns_df = pd.DataFrame()\r\n",
    "    returns_df[name] = norm_df[ticker].pct_change(periods=16).shift(-16)\r\n",
    "    ticker_returns_df_list.append(returns_df)\r\n",
    "len(ticker_returns_df_list)"
   ]
  },
  {
   "cell_type": "code",
   "execution_count": 8,
   "metadata": {},
   "outputs": [
    {
     "data": {
      "text/plain": [
       "[1, 2, 3, 4, 5, 6]"
      ]
     },
     "execution_count": 8,
     "metadata": {},
     "output_type": "execute_result"
    }
   ],
   "source": [
    "a = [1,2,3,4,5]\r\n",
    "b = [*a,6]\r\n",
    "b"
   ]
  },
  {
   "cell_type": "code",
   "execution_count": 9,
   "metadata": {},
   "outputs": [
    {
     "data": {
      "text/html": [
       "<div>\n",
       "<style scoped>\n",
       "    .dataframe tbody tr th:only-of-type {\n",
       "        vertical-align: middle;\n",
       "    }\n",
       "\n",
       "    .dataframe tbody tr th {\n",
       "        vertical-align: top;\n",
       "    }\n",
       "\n",
       "    .dataframe thead th {\n",
       "        text-align: right;\n",
       "    }\n",
       "</style>\n",
       "<table border=\"1\" class=\"dataframe\">\n",
       "  <thead>\n",
       "    <tr style=\"text-align: right;\">\n",
       "      <th></th>\n",
       "      <th>AAPL</th>\n",
       "      <th>AAPL-1</th>\n",
       "      <th>AAPL-2</th>\n",
       "      <th>AAPL-3</th>\n",
       "      <th>AAPL-4</th>\n",
       "      <th>AAPL-5</th>\n",
       "      <th>AAPL-6</th>\n",
       "      <th>AAPL-7</th>\n",
       "      <th>AAPL-8</th>\n",
       "      <th>AAPL-9</th>\n",
       "      <th>...</th>\n",
       "      <th>AAPL_24_Return</th>\n",
       "      <th>MSFT_24_Return</th>\n",
       "      <th>AMZN_24_Return</th>\n",
       "      <th>FB_24_Return</th>\n",
       "      <th>GOOGL_24_Return</th>\n",
       "      <th>TSLA_24_Return</th>\n",
       "      <th>BRK.B_24_Return</th>\n",
       "      <th>NVDA_24_Return</th>\n",
       "      <th>JPM_24_Return</th>\n",
       "      <th>JNJ_24_Return</th>\n",
       "    </tr>\n",
       "  </thead>\n",
       "  <tbody>\n",
       "    <tr>\n",
       "      <th>count</th>\n",
       "      <td>17005.000000</td>\n",
       "      <td>17005.000000</td>\n",
       "      <td>17005.000000</td>\n",
       "      <td>17005.000000</td>\n",
       "      <td>17005.000000</td>\n",
       "      <td>17005.000000</td>\n",
       "      <td>17005.000000</td>\n",
       "      <td>17005.000000</td>\n",
       "      <td>17005.000000</td>\n",
       "      <td>17005.000000</td>\n",
       "      <td>...</td>\n",
       "      <td>17005.000000</td>\n",
       "      <td>17005.000000</td>\n",
       "      <td>17005.000000</td>\n",
       "      <td>17005.000000</td>\n",
       "      <td>17005.000000</td>\n",
       "      <td>17005.000000</td>\n",
       "      <td>17005.000000</td>\n",
       "      <td>17005.000000</td>\n",
       "      <td>17005.000000</td>\n",
       "      <td>17005.000000</td>\n",
       "    </tr>\n",
       "    <tr>\n",
       "      <th>mean</th>\n",
       "      <td>198.193261</td>\n",
       "      <td>198.193145</td>\n",
       "      <td>198.193029</td>\n",
       "      <td>198.192912</td>\n",
       "      <td>198.192798</td>\n",
       "      <td>198.192659</td>\n",
       "      <td>198.192541</td>\n",
       "      <td>198.192353</td>\n",
       "      <td>198.192175</td>\n",
       "      <td>198.191981</td>\n",
       "      <td>...</td>\n",
       "      <td>0.000797</td>\n",
       "      <td>0.001397</td>\n",
       "      <td>0.001812</td>\n",
       "      <td>0.001038</td>\n",
       "      <td>0.001009</td>\n",
       "      <td>0.002480</td>\n",
       "      <td>0.000515</td>\n",
       "      <td>0.001950</td>\n",
       "      <td>0.000712</td>\n",
       "      <td>0.000410</td>\n",
       "    </tr>\n",
       "    <tr>\n",
       "      <th>std</th>\n",
       "      <td>72.293373</td>\n",
       "      <td>72.293500</td>\n",
       "      <td>72.293628</td>\n",
       "      <td>72.293756</td>\n",
       "      <td>72.293881</td>\n",
       "      <td>72.294033</td>\n",
       "      <td>72.294163</td>\n",
       "      <td>72.294371</td>\n",
       "      <td>72.294569</td>\n",
       "      <td>72.294783</td>\n",
       "      <td>...</td>\n",
       "      <td>0.029793</td>\n",
       "      <td>0.017820</td>\n",
       "      <td>0.056455</td>\n",
       "      <td>0.021272</td>\n",
       "      <td>0.017175</td>\n",
       "      <td>0.046425</td>\n",
       "      <td>0.013247</td>\n",
       "      <td>0.029086</td>\n",
       "      <td>0.018518</td>\n",
       "      <td>0.012943</td>\n",
       "    </tr>\n",
       "    <tr>\n",
       "      <th>min</th>\n",
       "      <td>104.050000</td>\n",
       "      <td>104.050000</td>\n",
       "      <td>104.050000</td>\n",
       "      <td>104.050000</td>\n",
       "      <td>104.050000</td>\n",
       "      <td>104.050000</td>\n",
       "      <td>104.050000</td>\n",
       "      <td>104.050000</td>\n",
       "      <td>104.050000</td>\n",
       "      <td>104.050000</td>\n",
       "      <td>...</td>\n",
       "      <td>-0.750288</td>\n",
       "      <td>-0.441069</td>\n",
       "      <td>-0.872601</td>\n",
       "      <td>-0.219802</td>\n",
       "      <td>-0.127222</td>\n",
       "      <td>-0.805981</td>\n",
       "      <td>-0.108916</td>\n",
       "      <td>-0.198644</td>\n",
       "      <td>-0.149697</td>\n",
       "      <td>-0.116202</td>\n",
       "    </tr>\n",
       "    <tr>\n",
       "      <th>25%</th>\n",
       "      <td>150.350000</td>\n",
       "      <td>150.350000</td>\n",
       "      <td>150.350000</td>\n",
       "      <td>150.350000</td>\n",
       "      <td>150.350000</td>\n",
       "      <td>150.350000</td>\n",
       "      <td>150.350000</td>\n",
       "      <td>150.350000</td>\n",
       "      <td>150.350000</td>\n",
       "      <td>150.350000</td>\n",
       "      <td>...</td>\n",
       "      <td>-0.006934</td>\n",
       "      <td>-0.006129</td>\n",
       "      <td>-0.007460</td>\n",
       "      <td>-0.008182</td>\n",
       "      <td>-0.006672</td>\n",
       "      <td>-0.015712</td>\n",
       "      <td>-0.005608</td>\n",
       "      <td>-0.012472</td>\n",
       "      <td>-0.007462</td>\n",
       "      <td>-0.005201</td>\n",
       "    </tr>\n",
       "    <tr>\n",
       "      <th>50%</th>\n",
       "      <td>177.010000</td>\n",
       "      <td>177.010000</td>\n",
       "      <td>177.010000</td>\n",
       "      <td>177.010000</td>\n",
       "      <td>177.010000</td>\n",
       "      <td>177.010000</td>\n",
       "      <td>177.010000</td>\n",
       "      <td>177.010000</td>\n",
       "      <td>177.010000</td>\n",
       "      <td>177.010000</td>\n",
       "      <td>...</td>\n",
       "      <td>0.001553</td>\n",
       "      <td>0.001275</td>\n",
       "      <td>0.001575</td>\n",
       "      <td>0.001084</td>\n",
       "      <td>0.001307</td>\n",
       "      <td>0.001684</td>\n",
       "      <td>0.000600</td>\n",
       "      <td>0.002316</td>\n",
       "      <td>0.000338</td>\n",
       "      <td>0.000556</td>\n",
       "    </tr>\n",
       "    <tr>\n",
       "      <th>75%</th>\n",
       "      <td>220.170000</td>\n",
       "      <td>220.170000</td>\n",
       "      <td>220.170000</td>\n",
       "      <td>220.170000</td>\n",
       "      <td>220.170000</td>\n",
       "      <td>220.170000</td>\n",
       "      <td>220.170000</td>\n",
       "      <td>220.170000</td>\n",
       "      <td>220.170000</td>\n",
       "      <td>220.170000</td>\n",
       "      <td>...</td>\n",
       "      <td>0.010357</td>\n",
       "      <td>0.009423</td>\n",
       "      <td>0.010906</td>\n",
       "      <td>0.011204</td>\n",
       "      <td>0.009396</td>\n",
       "      <td>0.020302</td>\n",
       "      <td>0.006889</td>\n",
       "      <td>0.017547</td>\n",
       "      <td>0.008814</td>\n",
       "      <td>0.006613</td>\n",
       "    </tr>\n",
       "    <tr>\n",
       "      <th>max</th>\n",
       "      <td>513.890000</td>\n",
       "      <td>513.890000</td>\n",
       "      <td>513.890000</td>\n",
       "      <td>513.890000</td>\n",
       "      <td>513.890000</td>\n",
       "      <td>513.890000</td>\n",
       "      <td>513.890000</td>\n",
       "      <td>513.890000</td>\n",
       "      <td>513.890000</td>\n",
       "      <td>513.890000</td>\n",
       "      <td>...</td>\n",
       "      <td>0.166464</td>\n",
       "      <td>0.788871</td>\n",
       "      <td>6.868773</td>\n",
       "      <td>0.158647</td>\n",
       "      <td>0.116159</td>\n",
       "      <td>0.316360</td>\n",
       "      <td>0.118387</td>\n",
       "      <td>0.225417</td>\n",
       "      <td>0.180847</td>\n",
       "      <td>0.118699</td>\n",
       "    </tr>\n",
       "  </tbody>\n",
       "</table>\n",
       "<p>8 rows × 610 columns</p>\n",
       "</div>"
      ],
      "text/plain": [
       "               AAPL        AAPL-1        AAPL-2        AAPL-3        AAPL-4  \\\n",
       "count  17005.000000  17005.000000  17005.000000  17005.000000  17005.000000   \n",
       "mean     198.193261    198.193145    198.193029    198.192912    198.192798   \n",
       "std       72.293373     72.293500     72.293628     72.293756     72.293881   \n",
       "min      104.050000    104.050000    104.050000    104.050000    104.050000   \n",
       "25%      150.350000    150.350000    150.350000    150.350000    150.350000   \n",
       "50%      177.010000    177.010000    177.010000    177.010000    177.010000   \n",
       "75%      220.170000    220.170000    220.170000    220.170000    220.170000   \n",
       "max      513.890000    513.890000    513.890000    513.890000    513.890000   \n",
       "\n",
       "             AAPL-5        AAPL-6        AAPL-7        AAPL-8        AAPL-9  \\\n",
       "count  17005.000000  17005.000000  17005.000000  17005.000000  17005.000000   \n",
       "mean     198.192659    198.192541    198.192353    198.192175    198.191981   \n",
       "std       72.294033     72.294163     72.294371     72.294569     72.294783   \n",
       "min      104.050000    104.050000    104.050000    104.050000    104.050000   \n",
       "25%      150.350000    150.350000    150.350000    150.350000    150.350000   \n",
       "50%      177.010000    177.010000    177.010000    177.010000    177.010000   \n",
       "75%      220.170000    220.170000    220.170000    220.170000    220.170000   \n",
       "max      513.890000    513.890000    513.890000    513.890000    513.890000   \n",
       "\n",
       "       ...  AAPL_24_Return  MSFT_24_Return  AMZN_24_Return  FB_24_Return  \\\n",
       "count  ...    17005.000000    17005.000000    17005.000000  17005.000000   \n",
       "mean   ...        0.000797        0.001397        0.001812      0.001038   \n",
       "std    ...        0.029793        0.017820        0.056455      0.021272   \n",
       "min    ...       -0.750288       -0.441069       -0.872601     -0.219802   \n",
       "25%    ...       -0.006934       -0.006129       -0.007460     -0.008182   \n",
       "50%    ...        0.001553        0.001275        0.001575      0.001084   \n",
       "75%    ...        0.010357        0.009423        0.010906      0.011204   \n",
       "max    ...        0.166464        0.788871        6.868773      0.158647   \n",
       "\n",
       "       GOOGL_24_Return  TSLA_24_Return  BRK.B_24_Return  NVDA_24_Return  \\\n",
       "count     17005.000000    17005.000000     17005.000000    17005.000000   \n",
       "mean          0.001009        0.002480         0.000515        0.001950   \n",
       "std           0.017175        0.046425         0.013247        0.029086   \n",
       "min          -0.127222       -0.805981        -0.108916       -0.198644   \n",
       "25%          -0.006672       -0.015712        -0.005608       -0.012472   \n",
       "50%           0.001307        0.001684         0.000600        0.002316   \n",
       "75%           0.009396        0.020302         0.006889        0.017547   \n",
       "max           0.116159        0.316360         0.118387        0.225417   \n",
       "\n",
       "       JPM_24_Return  JNJ_24_Return  \n",
       "count   17005.000000   17005.000000  \n",
       "mean        0.000712       0.000410  \n",
       "std         0.018518       0.012943  \n",
       "min        -0.149697      -0.116202  \n",
       "25%        -0.007462      -0.005201  \n",
       "50%         0.000338       0.000556  \n",
       "75%         0.008814       0.006613  \n",
       "max         0.180847       0.118699  \n",
       "\n",
       "[8 rows x 610 columns]"
      ]
     },
     "execution_count": 9,
     "metadata": {},
     "output_type": "execute_result"
    }
   ],
   "source": [
    "pctchange_df = norm_df.pct_change()\r\n",
    "pctchange_df = pd.concat([ticker_shifted_df, *ticker_returns_df_list], axis=1)\r\n",
    "pctchange_df.dropna(inplace=True)\r\n",
    "pctchange_df.describe()"
   ]
  },
  {
   "cell_type": "code",
   "execution_count": 10,
   "metadata": {},
   "outputs": [],
   "source": [
    "y_start = len(tickers)*num_ticks"
   ]
  },
  {
   "cell_type": "code",
   "execution_count": 11,
   "metadata": {},
   "outputs": [],
   "source": [
    "from sklearn.linear_model import LinearRegression\r\n",
    "X = pctchange_df.iloc[:,0:y_start].values\r\n",
    "y = []\r\n",
    "for i in range(0,len(tickers)):\r\n",
    "    y.append(pctchange_df.iloc[:,y_start+i].values)\r\n",
    "lin_models = []\r\n",
    "y_lin_predicted = []"
   ]
  },
  {
   "cell_type": "code",
   "execution_count": 12,
   "metadata": {},
   "outputs": [],
   "source": [
    "for i in range(0,len(tickers)):\r\n",
    "    ticker = tickers[i]\r\n",
    "    model = LinearRegression()\r\n",
    "    model.fit(X,y[i])\r\n",
    "    lin_models.append(model)\r\n",
    "    predicted = model.predict(X)\r\n",
    "    y_lin_predicted.append(predicted)\r\n",
    "    \r\n",
    "    "
   ]
  },
  {
   "cell_type": "code",
   "execution_count": 16,
   "metadata": {},
   "outputs": [
    {
     "name": "stdout",
     "output_type": "stream",
     "text": [
      "The r2 score for symbol AAPL is 0.14207293518856834\n",
      "The r2 score for symbol MSFT is 0.12052385553597367\n",
      "The r2 score for symbol AMZN is 0.49827031996310156\n",
      "The r2 score for symbol FB is 0.08025409539994288\n",
      "The r2 score for symbol GOOGL is 0.09303368485812658\n",
      "The r2 score for symbol TSLA is 0.10845650056927458\n",
      "The r2 score for symbol BRK.B is 0.0987635134842908\n",
      "The r2 score for symbol NVDA is 0.07870614592396274\n",
      "The r2 score for symbol JPM is 0.11098963134706163\n",
      "The r2 score for symbol JNJ is 0.09101566360039248\n"
     ]
    }
   ],
   "source": [
    "from sklearn.metrics import r2_score\r\n",
    "import numpy as np\r\n",
    "r2 = [0]*len(tickers)\r\n",
    "for i in range(0,len(tickers)):\r\n",
    "    r2[i] = r2_score(y[i], y_lin_predicted[i])\r\n",
    "    print(f\"The r2 score for symbol {tickers[i]} is {r2[i]}\")\r\n"
   ]
  },
  {
   "cell_type": "code",
   "execution_count": null,
   "metadata": {},
   "outputs": [],
   "source": []
  }
 ],
 "metadata": {
  "interpreter": {
   "hash": "625649fb277a33020e30d480432fe83a3c34bdae155bdecae638a11130d5bfb4"
  },
  "kernelspec": {
   "display_name": "Python 3.7.10 64-bit",
   "name": "python3"
  },
  "language_info": {
   "codemirror_mode": {
    "name": "ipython",
    "version": 3
   },
   "file_extension": ".py",
   "mimetype": "text/x-python",
   "name": "python",
   "nbconvert_exporter": "python",
   "pygments_lexer": "ipython3",
   "version": "3.7.10"
  },
  "orig_nbformat": 4
 },
 "nbformat": 4,
 "nbformat_minor": 2
}