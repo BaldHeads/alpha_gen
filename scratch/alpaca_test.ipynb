{
 "cells": [
  {
   "cell_type": "code",
   "execution_count": 1,
   "metadata": {},
   "outputs": [],
   "source": [
    "import os\r\n",
    "import csv\r\n",
    "import pandas as pd\r\n",
    "from dotenv import load_dotenv\r\n",
    "from datetime import datetime, timezone\r\n",
    "import time\r\n",
    "import alpaca_trade_api as tradeapi\r\n",
    "\r\n",
    "import plotly.express as px\r\n",
    "\r\n",
    "import sqlite3\r\n",
    "from sqlite3 import Error\r\n"
   ]
  },
  {
   "cell_type": "code",
   "execution_count": 2,
   "metadata": {},
   "outputs": [
    {
     "name": "stdout",
     "output_type": "stream",
     "text": [
      "<class 'str'>\n"
     ]
    }
   ],
   "source": [
    "load_dotenv()\r\n",
    "alpaca_api_key = os.getenv(\"ALPACA_API_KEY\")\r\n",
    "alpaca_secret_key = os.getenv(\"ALPACA_SECRET_KEY\")\r\n",
    "print(type(alpaca_api_key))"
   ]
  },
  {
   "cell_type": "code",
   "execution_count": 3,
   "metadata": {},
   "outputs": [],
   "source": [
    "alpaca = tradeapi.REST(\r\n",
    "    alpaca_api_key,\r\n",
    "    alpaca_secret_key,\r\n",
    "    api_version=\"v2\")"
   ]
  },
  {
   "cell_type": "code",
   "execution_count": 4,
   "metadata": {},
   "outputs": [
    {
     "name": "stdout",
     "output_type": "stream",
     "text": [
      "['ï»¿Number', 'Company', 'Symbol', 'Weight']\n",
      "['AAPL', 'MSFT', 'AMZN', 'FB', 'GOOGL', 'TSLA', 'BRK.B', 'NVDA', 'JPM', 'JNJ']\n"
     ]
    }
   ],
   "source": [
    "#Get tickers\r\n",
    "tickers=[]\r\n",
    "with open(\"sp10.csv\",'r') as csvfile:\r\n",
    "    csvreader = csv.reader(csvfile, delimiter=',')\r\n",
    "    header = next(csvreader)\r\n",
    "    print(header)\r\n",
    "    for row in csvreader:\r\n",
    "        tickers.append(row[2])\r\n",
    "\r\n",
    "print(tickers)\r\n"
   ]
  },
  {
   "cell_type": "code",
   "execution_count": 5,
   "metadata": {},
   "outputs": [],
   "source": [
    "end = datetime(2021,6,25,23,0,0,0,timezone.utc).isoformat()\r\n",
    "start = datetime(2021,6,25,7,0,0,0,timezone.utc).isoformat()"
   ]
  },
  {
   "cell_type": "code",
   "execution_count": 6,
   "metadata": {},
   "outputs": [
    {
     "name": "stdout",
     "output_type": "stream",
     "text": [
      "2017-01-01T00:00:00-05:00 2017-01-31T00:00:00-05:00\n",
      "2017-02-01T00:00:00-05:00 2017-02-28T00:00:00-05:00\n",
      "2017-03-01T00:00:00-05:00 2017-03-31T00:00:00-04:00\n",
      "2017-04-01T00:00:00-04:00 2017-04-30T00:00:00-04:00\n",
      "2017-05-01T00:00:00-04:00 2017-05-31T00:00:00-04:00\n",
      "2017-06-01T00:00:00-04:00 2017-06-30T00:00:00-04:00\n",
      "2017-07-01T00:00:00-04:00 2017-07-31T00:00:00-04:00\n",
      "2017-08-01T00:00:00-04:00 2017-08-31T00:00:00-04:00\n",
      "2017-09-01T00:00:00-04:00 2017-09-30T00:00:00-04:00\n",
      "2017-10-01T00:00:00-04:00 2017-10-31T00:00:00-04:00\n",
      "2017-11-01T00:00:00-04:00 2017-11-30T00:00:00-05:00\n",
      "2017-12-01T00:00:00-05:00 2017-12-31T00:00:00-05:00\n",
      "2018-01-01T00:00:00-05:00 2018-01-31T00:00:00-05:00\n",
      "2018-02-01T00:00:00-05:00 2018-02-28T00:00:00-05:00\n",
      "2018-03-01T00:00:00-05:00 2018-03-31T00:00:00-04:00\n",
      "2018-04-01T00:00:00-04:00 2018-04-30T00:00:00-04:00\n",
      "2018-05-01T00:00:00-04:00 2018-05-31T00:00:00-04:00\n",
      "2018-06-01T00:00:00-04:00 2018-06-30T00:00:00-04:00\n",
      "2018-07-01T00:00:00-04:00 2018-07-31T00:00:00-04:00\n",
      "2018-08-01T00:00:00-04:00 2018-08-31T00:00:00-04:00\n",
      "2018-09-01T00:00:00-04:00 2018-09-30T00:00:00-04:00\n",
      "2018-10-01T00:00:00-04:00 2018-10-31T00:00:00-04:00\n",
      "2018-11-01T00:00:00-04:00 2018-11-30T00:00:00-05:00\n",
      "2018-12-01T00:00:00-05:00 2018-12-31T00:00:00-05:00\n",
      "2019-01-01T00:00:00-05:00 2019-01-31T00:00:00-05:00\n",
      "2019-02-01T00:00:00-05:00 2019-02-28T00:00:00-05:00\n",
      "2019-03-01T00:00:00-05:00 2019-03-31T00:00:00-04:00\n",
      "2019-04-01T00:00:00-04:00 2019-04-30T00:00:00-04:00\n",
      "2019-05-01T00:00:00-04:00 2019-05-31T00:00:00-04:00\n",
      "2019-06-01T00:00:00-04:00 2019-06-30T00:00:00-04:00\n",
      "2019-07-01T00:00:00-04:00 2019-07-31T00:00:00-04:00\n",
      "2019-08-01T00:00:00-04:00 2019-08-31T00:00:00-04:00\n",
      "2019-09-01T00:00:00-04:00 2019-09-30T00:00:00-04:00\n",
      "2019-10-01T00:00:00-04:00 2019-10-31T00:00:00-04:00\n",
      "2019-11-01T00:00:00-04:00 2019-11-30T00:00:00-05:00\n",
      "2019-12-01T00:00:00-05:00 2019-12-31T00:00:00-05:00\n",
      "2020-01-01T00:00:00-05:00 2020-01-31T00:00:00-05:00\n",
      "2020-02-01T00:00:00-05:00 2020-02-29T00:00:00-05:00\n",
      "2020-03-01T00:00:00-05:00 2020-03-31T00:00:00-04:00\n",
      "2020-04-01T00:00:00-04:00 2020-04-30T00:00:00-04:00\n",
      "2020-05-01T00:00:00-04:00 2020-05-31T00:00:00-04:00\n",
      "2020-06-01T00:00:00-04:00 2020-06-30T00:00:00-04:00\n",
      "2020-07-01T00:00:00-04:00 2020-07-31T00:00:00-04:00\n",
      "2020-08-01T00:00:00-04:00 2020-08-31T00:00:00-04:00\n",
      "2020-09-01T00:00:00-04:00 2020-09-30T00:00:00-04:00\n",
      "2020-10-01T00:00:00-04:00 2020-10-31T00:00:00-04:00\n",
      "2020-11-01T00:00:00-04:00 2020-11-30T00:00:00-05:00\n",
      "2020-12-01T00:00:00-05:00 2020-12-31T00:00:00-05:00\n",
      "2021-01-01T00:00:00-05:00 2021-01-31T00:00:00-05:00\n",
      "2021-02-01T00:00:00-05:00 2021-02-28T00:00:00-05:00\n",
      "2021-03-01T00:00:00-05:00 2021-03-31T00:00:00-04:00\n",
      "2021-04-01T00:00:00-04:00 2021-04-30T00:00:00-04:00\n",
      "2021-05-01T00:00:00-04:00 2021-05-31T00:00:00-04:00\n",
      "2021-06-01T00:00:00-04:00 2021-06-25T00:00:00-04:00\n"
     ]
    }
   ],
   "source": [
    "db_file = \"sp10_not_normalized.db\"\r\n",
    "conn = sqlite3.connect(db_file)\r\n",
    "sql_insert = \"INSERT INTO historical(symbol, timestamp, close) VALUES(?,?,?)\"\r\n",
    "cur = conn.cursor()\r\n",
    "\r\n",
    "# Grab data from Jan 1 2017 to June 25, 2021 by month and by ticker\r\n",
    "# Loop will break after June 2021 and commit to database\r\n",
    "# There is a time.sleep(5) after each API call to stay below API limits\r\n",
    "\r\n",
    "for year in range(2017,2021+1):\r\n",
    "    for month in range(1,12+1):\r\n",
    "        if year == 2021 and month > 6:\r\n",
    "            break\r\n",
    "        temp_tz = pd.Timestamp(year=year, month=month, day=1)\r\n",
    "        start = pd.Timestamp(f\"{year}-{month}-{1}\", tz=\"America/New_York\").isoformat()\r\n",
    "        if year == 2021 and month == 6:\r\n",
    "            end = pd.Timestamp(f\"{year}-{month}-{25}\", tz=\"America/New_York\").isoformat()\r\n",
    "        else:\r\n",
    "            end = pd.Timestamp(f\"{year}-{month}-{temp_tz.daysinmonth}\", tz=\"America/New_York\").isoformat()\r\n",
    "        print(start, end)\r\n",
    "\r\n",
    "        for ticker in tickers:\r\n",
    "            df = alpaca.get_bars(ticker, tradeapi.rest.TimeFrame.Hour, start=start, end=end, limit=1000).df\r\n",
    "            time.sleep(5)\r\n",
    "            for i in range(0,len(df)):\r\n",
    "                cur.execute(sql_insert, (ticker, df.index[i].isoformat() , df.iloc[i][\"close\"]))\r\n",
    "\r\n",
    "conn.commit()\r\n",
    "conn.close()\r\n"
   ]
  },
  {
   "cell_type": "code",
   "execution_count": 14,
   "metadata": {},
   "outputs": [
    {
     "name": "stdout",
     "output_type": "stream",
     "text": [
      "['2017-01-03T09:00:00+00:00', '2017-01-03T10:00:00+00:00', '2017-01-03T11:00:00+00:00', '2017-01-03T12:00:00+00:00', '2017-01-03T13:00:00+00:00', '2017-01-03T14:00:00+00:00', '2017-01-03T15:00:00+00:00', '2017-01-03T16:00:00+00:00', '2017-01-03T17:00:00+00:00', '2017-01-03T18:00:00+00:00']\n"
     ]
    }
   ],
   "source": [
    "db_file = \"sp10_not_normalized.db\"\r\n",
    "conn = sqlite3.connect(db_file)\r\n",
    "select = \"SELECT DISTINCT timestamp FROM historical ORDER BY timestamp ASC\"\r\n",
    "cur = conn.cursor()\r\n",
    "cur.execute(select)\r\n",
    "\r\n",
    "dates = []\r\n",
    "for timestamp in cur:\r\n",
    "    dates.append(timestamp[0])\r\n",
    "conn.commit()\r\n",
    "conn.close()\r\n",
    "print(dates[0:10])"
   ]
  },
  {
   "cell_type": "code",
   "execution_count": 32,
   "metadata": {},
   "outputs": [
    {
     "data": {
      "text/plain": [
       "128"
      ]
     },
     "execution_count": 32,
     "metadata": {},
     "output_type": "execute_result"
    }
   ],
   "source": [
    "(df_list[0])"
   ]
  },
  {
   "cell_type": "code",
   "execution_count": null,
   "metadata": {},
   "outputs": [],
   "source": []
  }
 ],
 "metadata": {
  "interpreter": {
   "hash": "c5f3348871554a27f8da824ee5dec5aec4b2418407e6f994b7493a67ac6ec42d"
  },
  "kernelspec": {
   "display_name": "Python 3.7.10 64-bit ('dev': conda)",
   "name": "python3"
  },
  "language_info": {
   "codemirror_mode": {
    "name": "ipython",
    "version": 3
   },
   "file_extension": ".py",
   "mimetype": "text/x-python",
   "name": "python",
   "nbconvert_exporter": "python",
   "pygments_lexer": "ipython3",
   "version": "3.8.8"
  },
  "orig_nbformat": 4
 },
 "nbformat": 4,
 "nbformat_minor": 2
}