{
 "cells": [
  {
   "cell_type": "code",
   "execution_count": 74,
   "metadata": {},
   "outputs": [],
   "source": [
    "import csv\r\n",
    "import requests\r\n",
    "import pandas as pd\r\n",
    "from dotenv import load_dotenv\r\n",
    "from datetime import datetime, timezone\r\n",
    "import time\r\n",
    "import alpaca_trade_api as tradeapi\r\n",
    "\r\n",
    "import plotly.express as px\r\n",
    "\r\n",
    "import sqlite3\r\n",
    "from sqlite3 import Error\r\n"
   ]
  },
  {
   "cell_type": "code",
   "execution_count": 75,
   "metadata": {},
   "outputs": [
    {
     "name": "stdout",
     "output_type": "stream",
     "text": [
      "<class 'str'>\n"
     ]
    }
   ],
   "source": [
    "load_dotenv()\r\n",
    "alpaca_api_key = os.getenv(\"ALPACA_API_KEY\")\r\n",
    "alpaca_secret_key = os.getenv(\"ALPACA_SECRET_KEY\")\r\n",
    "print(type(alpaca_api_key))"
   ]
  },
  {
   "cell_type": "code",
   "execution_count": 76,
   "metadata": {},
   "outputs": [
    {
     "name": "stdout",
     "output_type": "stream",
     "text": [
      "['ï»¿Number', 'Company', 'Symbol', 'Weight']\n",
      "['AAPL', 'MSFT', 'AMZN', 'FB', 'GOOGL', 'TSLA', 'BRK.B', 'NVDA', 'JPM', 'JNJ', 'V', 'UNH', 'PYPL', 'HD', 'MA', 'PG', 'DIS', 'BAC', 'ADBE']\n"
     ]
    }
   ],
   "source": [
    "#Get tickers\r\n",
    "tickers=[]\r\n",
    "with open(\"sp20.csv\",'r') as csvfile:\r\n",
    "    csvreader = csv.reader(csvfile, delimiter=',')\r\n",
    "    header = next(csvreader)\r\n",
    "    print(header)\r\n",
    "    for row in csvreader:\r\n",
    "        tickers.append(row[2])\r\n",
    "\r\n",
    "print(tickers)\r\n"
   ]
  },
  {
   "cell_type": "code",
   "execution_count": 83,
   "metadata": {},
   "outputs": [],
   "source": [
    "end = datetime(2021,6,25,23,0,0,0,timezone.utc).isoformat()\r\n",
    "start = datetime(2021,6,25,7,0,0,0,timezone.utc).isoformat()"
   ]
  },
  {
   "cell_type": "code",
   "execution_count": 84,
   "metadata": {},
   "outputs": [],
   "source": [
    "alpaca = tradeapi.REST(\r\n",
    "    alpaca_api_key,\r\n",
    "    alpaca_secret_key,\r\n",
    "    api_version=\"v2\")"
   ]
  },
  {
   "cell_type": "code",
   "execution_count": 85,
   "metadata": {},
   "outputs": [],
   "source": [
    "aapl_df = pd.DataFrame(alpaca.get_bars(\"AAPL\", tradeapi.rest.TimeFrame.Hour, start=start, end=end, limit=10000).df[\"close\"])"
   ]
  },
  {
   "cell_type": "code",
   "execution_count": 86,
   "metadata": {},
   "outputs": [
    {
     "data": {
      "text/html": [
       "<div>\n",
       "<style scoped>\n",
       "    .dataframe tbody tr th:only-of-type {\n",
       "        vertical-align: middle;\n",
       "    }\n",
       "\n",
       "    .dataframe tbody tr th {\n",
       "        vertical-align: top;\n",
       "    }\n",
       "\n",
       "    .dataframe thead th {\n",
       "        text-align: right;\n",
       "    }\n",
       "</style>\n",
       "<table border=\"1\" class=\"dataframe\">\n",
       "  <thead>\n",
       "    <tr style=\"text-align: right;\">\n",
       "      <th></th>\n",
       "      <th>close</th>\n",
       "    </tr>\n",
       "    <tr>\n",
       "      <th>timestamp</th>\n",
       "      <th></th>\n",
       "    </tr>\n",
       "  </thead>\n",
       "  <tbody>\n",
       "    <tr>\n",
       "      <th>2021-06-25 08:00:00+00:00</th>\n",
       "      <td>133.32</td>\n",
       "    </tr>\n",
       "    <tr>\n",
       "      <th>2021-06-25 09:00:00+00:00</th>\n",
       "      <td>133.60</td>\n",
       "    </tr>\n",
       "    <tr>\n",
       "      <th>2021-06-25 10:00:00+00:00</th>\n",
       "      <td>133.45</td>\n",
       "    </tr>\n",
       "    <tr>\n",
       "      <th>2021-06-25 11:00:00+00:00</th>\n",
       "      <td>133.33</td>\n",
       "    </tr>\n",
       "    <tr>\n",
       "      <th>2021-06-25 12:00:00+00:00</th>\n",
       "      <td>133.57</td>\n",
       "    </tr>\n",
       "  </tbody>\n",
       "</table>\n",
       "</div>"
      ],
      "text/plain": [
       "                            close\n",
       "timestamp                        \n",
       "2021-06-25 08:00:00+00:00  133.32\n",
       "2021-06-25 09:00:00+00:00  133.60\n",
       "2021-06-25 10:00:00+00:00  133.45\n",
       "2021-06-25 11:00:00+00:00  133.33\n",
       "2021-06-25 12:00:00+00:00  133.57"
      ]
     },
     "execution_count": 86,
     "metadata": {},
     "output_type": "execute_result"
    }
   ],
   "source": [
    "aapl_df.head()"
   ]
  },
  {
   "cell_type": "code",
   "execution_count": 87,
   "metadata": {},
   "outputs": [
    {
     "name": "stdout",
     "output_type": "stream",
     "text": [
      "2021-06-25 08:00:00+00:00\n",
      "2021-06-25 09:00:00+00:00\n",
      "2021-06-25 10:00:00+00:00\n",
      "2021-06-25 11:00:00+00:00\n",
      "2021-06-25 12:00:00+00:00\n",
      "2021-06-25 13:00:00+00:00\n",
      "2021-06-25 14:00:00+00:00\n",
      "2021-06-25 15:00:00+00:00\n",
      "2021-06-25 16:00:00+00:00\n",
      "2021-06-25 17:00:00+00:00\n",
      "2021-06-25 18:00:00+00:00\n",
      "2021-06-25 19:00:00+00:00\n",
      "2021-06-25 20:00:00+00:00\n",
      "2021-06-25 21:00:00+00:00\n",
      "2021-06-25 22:00:00+00:00\n",
      "2021-06-25 23:00:00+00:00\n"
     ]
    }
   ],
   "source": [
    "for i in range(0,len(aapl_df)):\r\n",
    "    print (aapl_df.index[i])"
   ]
  },
  {
   "cell_type": "code",
   "execution_count": 92,
   "metadata": {},
   "outputs": [
    {
     "name": "stderr",
     "output_type": "stream",
     "text": [
      "sleep 3 seconds and retrying https://data.alpaca.markets/v2/stocks/BAC/bars 3 more time(s)...\n",
      "sleep 3 seconds and retrying https://data.alpaca.markets/v2/stocks/AAPL/bars 3 more time(s)...\n",
      "sleep 3 seconds and retrying https://data.alpaca.markets/v2/stocks/FB/bars 3 more time(s)...\n",
      "sleep 3 seconds and retrying https://data.alpaca.markets/v2/stocks/BRK.B/bars 3 more time(s)...\n",
      "sleep 3 seconds and retrying https://data.alpaca.markets/v2/stocks/JPM/bars 3 more time(s)...\n",
      "sleep 3 seconds and retrying https://data.alpaca.markets/v2/stocks/PYPL/bars 3 more time(s)...\n",
      "sleep 3 seconds and retrying https://data.alpaca.markets/v2/stocks/DIS/bars 3 more time(s)...\n"
     ]
    }
   ],
   "source": [
    "db_file = \"pythonsqlite.db\"\r\n",
    "conn = sqlite3.connect(db_file)\r\n",
    "sql_insert = \"INSERT INTO historical(symbol, timestamp, close) VALUES(?,?,?)\"\r\n",
    "cur = conn.cursor()\r\n",
    "\r\n",
    "for year in range(2017,2021+1):\r\n",
    "    end = datetime(year,6,25,23,0,0,0,timezone.utc).isoformat()\r\n",
    "    start = datetime(year,6,25,7,0,0,0,timezone.utc).isoformat()\r\n",
    "    for ticker in tickers:\r\n",
    "        df = alpaca.get_bars(ticker, tradeapi.rest.TimeFrame.Hour, start=start, end=end, limit=100).df\r\n",
    "        for i in range(0,len(df)):\r\n",
    "            cur.execute(sql_insert, (ticker, df.index[i].isoformat() , df.iloc[i][\"close\"]))\r\n",
    "\r\n",
    "conn.commit()\r\n",
    "conn.close()\r\n"
   ]
  },
  {
   "cell_type": "code",
   "execution_count": 27,
   "metadata": {},
   "outputs": [
    {
     "name": "stderr",
     "output_type": "stream",
     "text": [
      "sleep 3 seconds and retrying https://data.alpaca.markets/v2/stocks/BAC/bars 3 more time(s)...\n",
      "sleep 3 seconds and retrying https://data.alpaca.markets/v2/stocks/BAC/bars 3 more time(s)...\n",
      "sleep 3 seconds and retrying https://data.alpaca.markets/v2/stocks/ADBE/bars 3 more time(s)...\n"
     ]
    }
   ],
   "source": [
    "df_list = []\r\n",
    "for ticker in tickers:\r\n",
    "    df_list.append(alpaca.get_bars(ticker, tradeapi.rest.TimeFrame.Hour, start=start, end=end, limit=300).df[\"close\"])"
   ]
  },
  {
   "cell_type": "code",
   "execution_count": 28,
   "metadata": {},
   "outputs": [
    {
     "data": {
      "text/plain": [
       "<AxesSubplot:xlabel='timestamp'>"
      ]
     },
     "execution_count": 28,
     "metadata": {},
     "output_type": "execute_result"
    },
    {
     "data": {
      "image/png": "[encoded data removed]",
      "text/plain": [
       "<Figure size 432x288 with 1 Axes>"
      ]
     },
     "metadata": {
      "needs_background": "light"
     },
     "output_type": "display_data"
    }
   ],
   "source": [
    "df_list[0].plot()"
   ]
  },
  {
   "cell_type": "code",
   "execution_count": 32,
   "metadata": {},
   "outputs": [
    {
     "data": {
      "text/plain": [
       "128"
      ]
     },
     "execution_count": 32,
     "metadata": {},
     "output_type": "execute_result"
    }
   ],
   "source": [
    "(df_list[0])"
   ]
  },
  {
   "cell_type": "code",
   "execution_count": null,
   "metadata": {},
   "outputs": [],
   "source": []
  }
 ],
 "metadata": {
  "interpreter": {
   "hash": "c5f3348871554a27f8da824ee5dec5aec4b2418407e6f994b7493a67ac6ec42d"
  },
  "kernelspec": {
   "display_name": "Python 3.7.10 64-bit ('dev': conda)",
   "name": "python3"
  },
  "language_info": {
   "codemirror_mode": {
    "name": "ipython",
    "version": 3
   },
   "file_extension": ".py",
   "mimetype": "text/x-python",
   "name": "python",
   "nbconvert_exporter": "python",
   "pygments_lexer": "ipython3",
   "version": "3.8.8"
  },
  "orig_nbformat": 4
 },
 "nbformat": 4,
 "nbformat_minor": 2
}