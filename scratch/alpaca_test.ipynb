{
 "cells": [
  {
   "cell_type": "code",
   "execution_count": 1,
   "metadata": {},
   "outputs": [],
   "source": [
    "import os\r\n",
    "import csv\r\n",
    "import pandas as pd\r\n",
    "from dotenv import load_dotenv\r\n",
    "from datetime import datetime, timezone\r\n",
    "import time\r\n",
    "import alpaca_trade_api as tradeapi\r\n",
    "\r\n",
    "import plotly.express as px\r\n",
    "\r\n",
    "import sqlite3\r\n",
    "from sqlite3 import Error\r\n"
   ]
  },
  {
   "cell_type": "code",
   "execution_count": 2,
   "metadata": {},
   "outputs": [
    {
     "name": "stdout",
     "output_type": "stream",
     "text": [
      "<class 'str'>\n"
     ]
    }
   ],
   "source": [
    "load_dotenv()\r\n",
    "alpaca_api_key = os.getenv(\"ALPACA_API_KEY\")\r\n",
    "alpaca_secret_key = os.getenv(\"ALPACA_SECRET_KEY\")\r\n",
    "print(type(alpaca_api_key))"
   ]
  },
  {
   "cell_type": "code",
   "execution_count": 3,
   "metadata": {},
   "outputs": [],
   "source": [
    "alpaca = tradeapi.REST(\r\n",
    "    alpaca_api_key,\r\n",
    "    alpaca_secret_key,\r\n",
    "    api_version=\"v2\")"
   ]
  },
  {
   "cell_type": "code",
   "execution_count": 4,
   "metadata": {},
   "outputs": [
    {
     "name": "stdout",
     "output_type": "stream",
     "text": [
      "['ï»¿Number', 'Company', 'Symbol', 'Weight']\n",
      "['AAPL', 'MSFT', 'AMZN', 'FB', 'GOOGL', 'TSLA', 'BRK.B', 'NVDA', 'JPM', 'JNJ']\n"
     ]
    }
   ],
   "source": [
    "#Get tickers\r\n",
    "tickers=[]\r\n",
    "with open(\"sp10.csv\",'r') as csvfile:\r\n",
    "    csvreader = csv.reader(csvfile, delimiter=',')\r\n",
    "    header = next(csvreader)\r\n",
    "    print(header)\r\n",
    "    for row in csvreader:\r\n",
    "        tickers.append(row[2])\r\n",
    "\r\n",
    "print(tickers)\r\n"
   ]
  },
  {
   "cell_type": "code",
   "execution_count": 5,
   "metadata": {},
   "outputs": [],
   "source": [
    "end = datetime(2021,6,25,23,0,0,0,timezone.utc).isoformat()\r\n",
    "start = datetime(2021,6,25,7,0,0,0,timezone.utc).isoformat()"
   ]
  },
  {
   "cell_type": "code",
   "execution_count": 12,
   "metadata": {},
   "outputs": [
    {
     "name": "stdout",
     "output_type": "stream",
     "text": [
      "symbol                         AAPL      AMZN    BRK.B        FB    GOOGL  \\\n",
      "timestamp                                                                   \n",
      "2017-01-03T09:00:00+00:00  116.0500  757.7600  164.500  116.3000  800.100   \n",
      "2017-01-03T10:00:00+00:00  116.0200  757.8400      NaN  116.1600  800.000   \n",
      "2017-01-03T11:00:00+00:00  116.2800  759.0000  164.900  116.4500  801.000   \n",
      "2017-01-03T12:00:00+00:00  116.0200  759.3000  164.530  116.1500  800.000   \n",
      "2017-01-03T13:00:00+00:00  116.2000  757.4000  164.150  116.1000  800.000   \n",
      "2017-01-03T14:00:00+00:00  115.6700  753.8900  163.335  116.8702  806.160   \n",
      "2017-01-03T15:00:00+00:00  115.4500  752.8999  163.140  117.2730  806.000   \n",
      "2017-01-03T16:00:00+00:00  115.3757  750.5000  162.810  116.7790  808.470   \n",
      "2017-01-03T17:00:00+00:00  115.4650  749.4500  162.800  116.8600  808.590   \n",
      "2017-01-03T18:00:00+00:00  115.2350  748.7172  162.740  116.4869  805.195   \n",
      "\n",
      "symbol                        JNJ      JPM   MSFT     NVDA     TSLA  \n",
      "timestamp                                                            \n",
      "2017-01-03T09:00:00+00:00  115.30  86.9800  62.65  108.000  214.030  \n",
      "2017-01-03T10:00:00+00:00  115.65      NaN    NaN  108.040      NaN  \n",
      "2017-01-03T11:00:00+00:00     NaN  87.2300  62.80  108.000  214.910  \n",
      "2017-01-03T12:00:00+00:00     NaN  87.2500  62.80  108.840  215.550  \n",
      "2017-01-03T13:00:00+00:00  115.89  87.2000  62.55  105.320  215.510  \n",
      "2017-01-03T14:00:00+00:00  115.71  87.2000  62.57  104.670  217.775  \n",
      "2017-01-03T15:00:00+00:00  115.54  86.5800  62.34  103.430  217.710  \n",
      "2017-01-03T16:00:00+00:00  115.46  86.4873  62.41  102.170  216.390  \n",
      "2017-01-03T17:00:00+00:00  115.71  86.1400  62.37  100.650  217.000  \n",
      "2017-01-03T18:00:00+00:00  115.62  86.3500  62.27  100.835  215.900  \n"
     ]
    }
   ],
   "source": [
    "db_file = \"sp10_not_normalized.db\"\r\n",
    "try:\r\n",
    "    conn = sqlite3.connect(db_file)\r\n",
    "except Error as e:\r\n",
    "    print(e)\r\n",
    "df = pd.read_sql_query(\"SELECT * FROM historical\", conn)\r\n",
    "norm_df = df.pivot(index=\"timestamp\", columns=\"symbol\", values=\"close\")\r\n",
    "print(norm_df.head(10))\r\n",
    "conn.close()"
   ]
  },
  {
   "cell_type": "code",
   "execution_count": 6,
   "metadata": {},
   "outputs": [
    {
     "name": "stdout",
     "output_type": "stream",
     "text": [
      "2017-01-01T00:00:00-05:00 2017-01-31T00:00:00-05:00\n",
      "2017-02-01T00:00:00-05:00 2017-02-28T00:00:00-05:00\n",
      "2017-03-01T00:00:00-05:00 2017-03-31T00:00:00-04:00\n",
      "2017-04-01T00:00:00-04:00 2017-04-30T00:00:00-04:00\n",
      "2017-05-01T00:00:00-04:00 2017-05-31T00:00:00-04:00\n",
      "2017-06-01T00:00:00-04:00 2017-06-30T00:00:00-04:00\n",
      "2017-07-01T00:00:00-04:00 2017-07-31T00:00:00-04:00\n",
      "2017-08-01T00:00:00-04:00 2017-08-31T00:00:00-04:00\n",
      "2017-09-01T00:00:00-04:00 2017-09-30T00:00:00-04:00\n",
      "2017-10-01T00:00:00-04:00 2017-10-31T00:00:00-04:00\n",
      "2017-11-01T00:00:00-04:00 2017-11-30T00:00:00-05:00\n",
      "2017-12-01T00:00:00-05:00 2017-12-31T00:00:00-05:00\n",
      "2018-01-01T00:00:00-05:00 2018-01-31T00:00:00-05:00\n",
      "2018-02-01T00:00:00-05:00 2018-02-28T00:00:00-05:00\n",
      "2018-03-01T00:00:00-05:00 2018-03-31T00:00:00-04:00\n",
      "2018-04-01T00:00:00-04:00 2018-04-30T00:00:00-04:00\n",
      "2018-05-01T00:00:00-04:00 2018-05-31T00:00:00-04:00\n",
      "2018-06-01T00:00:00-04:00 2018-06-30T00:00:00-04:00\n",
      "2018-07-01T00:00:00-04:00 2018-07-31T00:00:00-04:00\n",
      "2018-08-01T00:00:00-04:00 2018-08-31T00:00:00-04:00\n",
      "2018-09-01T00:00:00-04:00 2018-09-30T00:00:00-04:00\n",
      "2018-10-01T00:00:00-04:00 2018-10-31T00:00:00-04:00\n",
      "2018-11-01T00:00:00-04:00 2018-11-30T00:00:00-05:00\n",
      "2018-12-01T00:00:00-05:00 2018-12-31T00:00:00-05:00\n",
      "2019-01-01T00:00:00-05:00 2019-01-31T00:00:00-05:00\n",
      "2019-02-01T00:00:00-05:00 2019-02-28T00:00:00-05:00\n",
      "2019-03-01T00:00:00-05:00 2019-03-31T00:00:00-04:00\n",
      "2019-04-01T00:00:00-04:00 2019-04-30T00:00:00-04:00\n",
      "2019-05-01T00:00:00-04:00 2019-05-31T00:00:00-04:00\n",
      "2019-06-01T00:00:00-04:00 2019-06-30T00:00:00-04:00\n",
      "2019-07-01T00:00:00-04:00 2019-07-31T00:00:00-04:00\n",
      "2019-08-01T00:00:00-04:00 2019-08-31T00:00:00-04:00\n",
      "2019-09-01T00:00:00-04:00 2019-09-30T00:00:00-04:00\n",
      "2019-10-01T00:00:00-04:00 2019-10-31T00:00:00-04:00\n",
      "2019-11-01T00:00:00-04:00 2019-11-30T00:00:00-05:00\n",
      "2019-12-01T00:00:00-05:00 2019-12-31T00:00:00-05:00\n",
      "2020-01-01T00:00:00-05:00 2020-01-31T00:00:00-05:00\n",
      "2020-02-01T00:00:00-05:00 2020-02-29T00:00:00-05:00\n",
      "2020-03-01T00:00:00-05:00 2020-03-31T00:00:00-04:00\n",
      "2020-04-01T00:00:00-04:00 2020-04-30T00:00:00-04:00\n",
      "2020-05-01T00:00:00-04:00 2020-05-31T00:00:00-04:00\n",
      "2020-06-01T00:00:00-04:00 2020-06-30T00:00:00-04:00\n",
      "2020-07-01T00:00:00-04:00 2020-07-31T00:00:00-04:00\n",
      "2020-08-01T00:00:00-04:00 2020-08-31T00:00:00-04:00\n",
      "2020-09-01T00:00:00-04:00 2020-09-30T00:00:00-04:00\n",
      "2020-10-01T00:00:00-04:00 2020-10-31T00:00:00-04:00\n",
      "2020-11-01T00:00:00-04:00 2020-11-30T00:00:00-05:00\n",
      "2020-12-01T00:00:00-05:00 2020-12-31T00:00:00-05:00\n",
      "2021-01-01T00:00:00-05:00 2021-01-31T00:00:00-05:00\n",
      "2021-02-01T00:00:00-05:00 2021-02-28T00:00:00-05:00\n",
      "2021-03-01T00:00:00-05:00 2021-03-31T00:00:00-04:00\n",
      "2021-04-01T00:00:00-04:00 2021-04-30T00:00:00-04:00\n",
      "2021-05-01T00:00:00-04:00 2021-05-31T00:00:00-04:00\n",
      "2021-06-01T00:00:00-04:00 2021-06-25T00:00:00-04:00\n"
     ]
    }
   ],
   "source": [
    "db_file = \"sp10_not_normalized.db\"\r\n",
    "conn = sqlite3.connect(db_file)\r\n",
    "sql_insert = \"INSERT INTO historical(symbol, timestamp, close) VALUES(?,?,?)\"\r\n",
    "cur = conn.cursor()\r\n",
    "\r\n",
    "# Grab data from Jan 1 2017 to June 25, 2021 by month and by ticker\r\n",
    "# Loop will break after June 2021 and commit to database\r\n",
    "# There is a time.sleep(5) after each API call to stay below API limits\r\n",
    "\r\n",
    "for year in range(2017,2021+1):\r\n",
    "    for month in range(1,12+1):\r\n",
    "        if year == 2021 and month > 6:\r\n",
    "            break\r\n",
    "        temp_tz = pd.Timestamp(year=year, month=month, day=1)\r\n",
    "        start = pd.Timestamp(f\"{year}-{month}-{1}\", tz=\"America/New_York\").isoformat()\r\n",
    "        if year == 2021 and month == 6:\r\n",
    "            end = pd.Timestamp(f\"{year}-{month}-{25}\", tz=\"America/New_York\").isoformat()\r\n",
    "        else:\r\n",
    "            end = pd.Timestamp(f\"{year}-{month}-{temp_tz.daysinmonth}\", tz=\"America/New_York\").isoformat()\r\n",
    "        print(start, end)\r\n",
    "\r\n",
    "        for ticker in tickers:\r\n",
    "            df = alpaca.get_bars(ticker, tradeapi.rest.TimeFrame.Hour, start=start, end=end, limit=1000).df\r\n",
    "            time.sleep(5)\r\n",
    "            for i in range(0,len(df)):\r\n",
    "                cur.execute(sql_insert, (ticker, df.index[i].isoformat() , df.iloc[i][\"close\"]))\r\n",
    "\r\n",
    "conn.commit()\r\n",
    "conn.close()\r\n"
   ]
  },
  {
   "cell_type": "code",
   "execution_count": 20,
   "metadata": {},
   "outputs": [
    {
     "name": "stdout",
     "output_type": "stream",
     "text": [
      "['2017-01-03T09:00:00+00:00', '2017-01-03T10:00:00+00:00', '2017-01-03T11:00:00+00:00', '2017-01-03T12:00:00+00:00', '2017-01-03T13:00:00+00:00', '2017-01-03T14:00:00+00:00', '2017-01-03T15:00:00+00:00', '2017-01-03T16:00:00+00:00', '2017-01-03T17:00:00+00:00', '2017-01-03T18:00:00+00:00']\n"
     ]
    }
   ],
   "source": [
    "# db_file = \"sp10_not_normalized.db\"\r\n",
    "# conn = sqlite3.connect(db_file)\r\n",
    "# select = \"SELECT DISTINCT timestamp FROM historical ORDER BY timestamp ASC\"\r\n",
    "# cur = conn.cursor()\r\n",
    "# cur.execute(select)\r\n",
    "\r\n",
    "# dates = []\r\n",
    "# for timestamp in cur:\r\n",
    "#     dates.append(timestamp[0])\r\n",
    "\r\n",
    "\r\n",
    "\r\n",
    "# conn.commit()\r\n",
    "# conn.close()\r\n",
    "# print(dates[0:10])"
   ]
  },
  {
   "cell_type": "code",
   "execution_count": 32,
   "metadata": {},
   "outputs": [
    {
     "data": {
      "text/plain": [
       "128"
      ]
     },
     "execution_count": 32,
     "metadata": {},
     "output_type": "execute_result"
    }
   ],
   "source": [
    "(df_list[0])"
   ]
  },
  {
   "cell_type": "code",
   "execution_count": null,
   "metadata": {},
   "outputs": [],
   "source": []
  }
 ],
 "metadata": {
  "interpreter": {
   "hash": "c5f3348871554a27f8da824ee5dec5aec4b2418407e6f994b7493a67ac6ec42d"
  },
  "kernelspec": {
   "display_name": "Python 3.8.8 64-bit ('dev': conda)",
   "name": "python3"
  },
  "language_info": {
   "codemirror_mode": {
    "name": "ipython",
    "version": 3
   },
   "file_extension": ".py",
   "mimetype": "text/x-python",
   "name": "python",
   "nbconvert_exporter": "python",
   "pygments_lexer": "ipython3",
   "version": "3.8.8"
  },
  "orig_nbformat": 4
 },
 "nbformat": 4,
 "nbformat_minor": 2
}