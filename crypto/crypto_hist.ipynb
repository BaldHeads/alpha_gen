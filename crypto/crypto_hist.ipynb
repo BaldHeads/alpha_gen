{
 "cells": [
  {
   "cell_type": "code",
   "execution_count": 1,
   "metadata": {},
   "outputs": [],
   "source": [
    "import numpy as np\n",
    "import pandas as pd\n",
    "import datetime as dt"
   ]
  },
  {
   "cell_type": "code",
   "execution_count": 2,
   "metadata": {},
   "outputs": [],
   "source": [
    "columns = {0:'datetime',1:'open',2:'high',3:'low',4:'close',5:'volume'}\r\n",
    "\r\n",
    "btc_raw = pd.read_csv(\"data/raw/btcusd.csv\", header=None)\r\n",
    "eth_raw = pd.read_csv(\"data/raw/ethusd60.csv\", header=None)"
   ]
  },
  {
   "cell_type": "code",
   "execution_count": 3,
   "metadata": {},
   "outputs": [],
   "source": [
    "def make_df(raw_df):\r\n",
    "    df = raw_df.loc[:,:5]\r\n",
    "    df.rename(columns=columns, inplace=True)\r\n",
    "    df = df[[\"datetime\", \"close\"]]\r\n",
    "    \r\n",
    "    #df[\"timestamp\"] = [pd.Timestamp(dt.datetime.fromtimestamp(date)) for date in df[\"datetime\"]]\r\n",
    "    df[\"timestamp\"] = df[\"datetime\"].apply(lambda x: dt.datetime.fromtimestamp(x))\r\n",
    "    df = df.drop(columns=\"datetime\")\r\n",
    "    df.set_index(\"timestamp\", inplace=True)\r\n",
    "    df.index=pd.to_datetime(df.index)\r\n",
    "    return df"
   ]
  },
  {
   "cell_type": "code",
   "execution_count": 4,
   "metadata": {},
   "outputs": [],
   "source": [
    "btc = make_df(btc_raw)\r\n",
    "eth = make_df(eth_raw)"
   ]
  },
  {
   "cell_type": "code",
   "execution_count": 9,
   "metadata": {},
   "outputs": [],
   "source": [
    "btc.tail(20)\r\n",
    "btc.rename(columns={\"close\":\"btc\"}, inplace=True)\r\n",
    "eth.rename(columns={\"close\":\"eth\"}, inplace=True)"
   ]
  },
  {
   "cell_type": "code",
   "execution_count": 13,
   "metadata": {},
   "outputs": [
    {
     "data": {
      "text/plain": [
       "(54744, 1)"
      ]
     },
     "execution_count": 13,
     "metadata": {},
     "output_type": "execute_result"
    }
   ],
   "source": [
    "# print(btc.shape, eth.shape)\r\n"
   ]
  },
  {
   "cell_type": "code",
   "execution_count": 14,
   "metadata": {},
   "outputs": [],
   "source": [
    "# crypto_df = pd.concat([btc,eth], axis=1,join=\"inner\")\r\n",
    "crypto_df = btc.merge(eth, how=\"inner\", on=\"timestamp\")\r\n"
   ]
  },
  {
   "cell_type": "code",
   "execution_count": 15,
   "metadata": {},
   "outputs": [
    {
     "data": {
      "text/html": [
       "<div>\n",
       "<style scoped>\n",
       "    .dataframe tbody tr th:only-of-type {\n",
       "        vertical-align: middle;\n",
       "    }\n",
       "\n",
       "    .dataframe tbody tr th {\n",
       "        vertical-align: top;\n",
       "    }\n",
       "\n",
       "    .dataframe thead th {\n",
       "        text-align: right;\n",
       "    }\n",
       "</style>\n",
       "<table border=\"1\" class=\"dataframe\">\n",
       "  <thead>\n",
       "    <tr style=\"text-align: right;\">\n",
       "      <th></th>\n",
       "      <th>btc</th>\n",
       "      <th>eth</th>\n",
       "    </tr>\n",
       "    <tr>\n",
       "      <th>timestamp</th>\n",
       "      <th></th>\n",
       "      <th></th>\n",
       "    </tr>\n",
       "  </thead>\n",
       "  <tbody>\n",
       "    <tr>\n",
       "      <th>2015-08-07 09:00:00</th>\n",
       "      <td>277.40328</td>\n",
       "      <td>3.00</td>\n",
       "    </tr>\n",
       "    <tr>\n",
       "      <th>2015-08-07 12:00:00</th>\n",
       "      <td>281.95386</td>\n",
       "      <td>3.00</td>\n",
       "    </tr>\n",
       "    <tr>\n",
       "      <th>2015-08-08 01:00:00</th>\n",
       "      <td>279.67200</td>\n",
       "      <td>3.00</td>\n",
       "    </tr>\n",
       "    <tr>\n",
       "      <th>2015-08-08 04:00:00</th>\n",
       "      <td>283.77999</td>\n",
       "      <td>2.00</td>\n",
       "    </tr>\n",
       "    <tr>\n",
       "      <th>2015-08-08 11:00:00</th>\n",
       "      <td>273.38930</td>\n",
       "      <td>1.02</td>\n",
       "    </tr>\n",
       "  </tbody>\n",
       "</table>\n",
       "</div>"
      ],
      "text/plain": [
       "                           btc   eth\n",
       "timestamp                           \n",
       "2015-08-07 09:00:00  277.40328  3.00\n",
       "2015-08-07 12:00:00  281.95386  3.00\n",
       "2015-08-08 01:00:00  279.67200  3.00\n",
       "2015-08-08 04:00:00  283.77999  2.00\n",
       "2015-08-08 11:00:00  273.38930  1.02"
      ]
     },
     "execution_count": 15,
     "metadata": {},
     "output_type": "execute_result"
    }
   ],
   "source": [
    "crypto_df.head()"
   ]
  },
  {
   "cell_type": "code",
   "execution_count": 39,
   "metadata": {},
   "outputs": [],
   "source": [
    "num_ticks = 60\r\n",
    "symbols = [\"btc\",\"eth\"]\r\n",
    "returns_df_list = []\r\n",
    "for symbol in symbols:\r\n",
    "    name = f\"{symbol}_24_Return\"\r\n",
    "    returns_df = pd.DataFrame()\r\n",
    "    returns_df[name] = crypto_df[symbol].pct_change(periods=24).shift(-24)\r\n",
    "    returns_df_list.append(returns_df)"
   ]
  },
  {
   "cell_type": "code",
   "execution_count": 40,
   "metadata": {},
   "outputs": [
    {
     "data": {
      "text/plain": [
       "(45978, 120)"
      ]
     },
     "execution_count": 40,
     "metadata": {},
     "output_type": "execute_result"
    }
   ],
   "source": [
    "shifted_df = pd.DataFrame()\r\n",
    "for symbol in symbols:\r\n",
    "    shifted_df[symbol] = crypto_df[symbol].copy()\r\n",
    "    for i in range(1,num_ticks):\r\n",
    "        name = f\"{symbol}-{i}\"\r\n",
    "        shifted_df[name] = crypto_df[symbol].shift(i)\r\n",
    "shifted_df.shape"
   ]
  },
  {
   "cell_type": "code",
   "execution_count": 82,
   "metadata": {},
   "outputs": [
    {
     "data": {
      "text/html": [
       "<div>\n",
       "<style scoped>\n",
       "    .dataframe tbody tr th:only-of-type {\n",
       "        vertical-align: middle;\n",
       "    }\n",
       "\n",
       "    .dataframe tbody tr th {\n",
       "        vertical-align: top;\n",
       "    }\n",
       "\n",
       "    .dataframe thead th {\n",
       "        text-align: right;\n",
       "    }\n",
       "</style>\n",
       "<table border=\"1\" class=\"dataframe\">\n",
       "  <thead>\n",
       "    <tr style=\"text-align: right;\">\n",
       "      <th></th>\n",
       "      <th>btc</th>\n",
       "      <th>btc-1</th>\n",
       "      <th>btc-2</th>\n",
       "      <th>btc-3</th>\n",
       "      <th>btc-4</th>\n",
       "      <th>btc-5</th>\n",
       "      <th>btc-6</th>\n",
       "      <th>btc-7</th>\n",
       "      <th>btc-8</th>\n",
       "      <th>btc-9</th>\n",
       "      <th>...</th>\n",
       "      <th>eth-50</th>\n",
       "      <th>eth-51</th>\n",
       "      <th>eth-52</th>\n",
       "      <th>eth-53</th>\n",
       "      <th>eth-54</th>\n",
       "      <th>eth-55</th>\n",
       "      <th>eth-56</th>\n",
       "      <th>eth-57</th>\n",
       "      <th>eth-58</th>\n",
       "      <th>eth-59</th>\n",
       "    </tr>\n",
       "    <tr>\n",
       "      <th>timestamp</th>\n",
       "      <th></th>\n",
       "      <th></th>\n",
       "      <th></th>\n",
       "      <th></th>\n",
       "      <th></th>\n",
       "      <th></th>\n",
       "      <th></th>\n",
       "      <th></th>\n",
       "      <th></th>\n",
       "      <th></th>\n",
       "      <th></th>\n",
       "      <th></th>\n",
       "      <th></th>\n",
       "      <th></th>\n",
       "      <th></th>\n",
       "      <th></th>\n",
       "      <th></th>\n",
       "      <th></th>\n",
       "      <th></th>\n",
       "      <th></th>\n",
       "      <th></th>\n",
       "    </tr>\n",
       "  </thead>\n",
       "  <tbody>\n",
       "    <tr>\n",
       "      <th>2015-08-07 09:00:00</th>\n",
       "      <td>277.40328</td>\n",
       "      <td>NaN</td>\n",
       "      <td>NaN</td>\n",
       "      <td>NaN</td>\n",
       "      <td>NaN</td>\n",
       "      <td>NaN</td>\n",
       "      <td>NaN</td>\n",
       "      <td>NaN</td>\n",
       "      <td>NaN</td>\n",
       "      <td>NaN</td>\n",
       "      <td>...</td>\n",
       "      <td>NaN</td>\n",
       "      <td>NaN</td>\n",
       "      <td>NaN</td>\n",
       "      <td>NaN</td>\n",
       "      <td>NaN</td>\n",
       "      <td>NaN</td>\n",
       "      <td>NaN</td>\n",
       "      <td>NaN</td>\n",
       "      <td>NaN</td>\n",
       "      <td>NaN</td>\n",
       "    </tr>\n",
       "    <tr>\n",
       "      <th>2015-08-07 12:00:00</th>\n",
       "      <td>281.95386</td>\n",
       "      <td>277.40328</td>\n",
       "      <td>NaN</td>\n",
       "      <td>NaN</td>\n",
       "      <td>NaN</td>\n",
       "      <td>NaN</td>\n",
       "      <td>NaN</td>\n",
       "      <td>NaN</td>\n",
       "      <td>NaN</td>\n",
       "      <td>NaN</td>\n",
       "      <td>...</td>\n",
       "      <td>NaN</td>\n",
       "      <td>NaN</td>\n",
       "      <td>NaN</td>\n",
       "      <td>NaN</td>\n",
       "      <td>NaN</td>\n",
       "      <td>NaN</td>\n",
       "      <td>NaN</td>\n",
       "      <td>NaN</td>\n",
       "      <td>NaN</td>\n",
       "      <td>NaN</td>\n",
       "    </tr>\n",
       "    <tr>\n",
       "      <th>2015-08-08 01:00:00</th>\n",
       "      <td>279.67200</td>\n",
       "      <td>281.95386</td>\n",
       "      <td>277.40328</td>\n",
       "      <td>NaN</td>\n",
       "      <td>NaN</td>\n",
       "      <td>NaN</td>\n",
       "      <td>NaN</td>\n",
       "      <td>NaN</td>\n",
       "      <td>NaN</td>\n",
       "      <td>NaN</td>\n",
       "      <td>...</td>\n",
       "      <td>NaN</td>\n",
       "      <td>NaN</td>\n",
       "      <td>NaN</td>\n",
       "      <td>NaN</td>\n",
       "      <td>NaN</td>\n",
       "      <td>NaN</td>\n",
       "      <td>NaN</td>\n",
       "      <td>NaN</td>\n",
       "      <td>NaN</td>\n",
       "      <td>NaN</td>\n",
       "    </tr>\n",
       "    <tr>\n",
       "      <th>2015-08-08 04:00:00</th>\n",
       "      <td>283.77999</td>\n",
       "      <td>279.67200</td>\n",
       "      <td>281.95386</td>\n",
       "      <td>277.40328</td>\n",
       "      <td>NaN</td>\n",
       "      <td>NaN</td>\n",
       "      <td>NaN</td>\n",
       "      <td>NaN</td>\n",
       "      <td>NaN</td>\n",
       "      <td>NaN</td>\n",
       "      <td>...</td>\n",
       "      <td>NaN</td>\n",
       "      <td>NaN</td>\n",
       "      <td>NaN</td>\n",
       "      <td>NaN</td>\n",
       "      <td>NaN</td>\n",
       "      <td>NaN</td>\n",
       "      <td>NaN</td>\n",
       "      <td>NaN</td>\n",
       "      <td>NaN</td>\n",
       "      <td>NaN</td>\n",
       "    </tr>\n",
       "    <tr>\n",
       "      <th>2015-08-08 11:00:00</th>\n",
       "      <td>273.38930</td>\n",
       "      <td>283.77999</td>\n",
       "      <td>279.67200</td>\n",
       "      <td>281.95386</td>\n",
       "      <td>277.40328</td>\n",
       "      <td>NaN</td>\n",
       "      <td>NaN</td>\n",
       "      <td>NaN</td>\n",
       "      <td>NaN</td>\n",
       "      <td>NaN</td>\n",
       "      <td>...</td>\n",
       "      <td>NaN</td>\n",
       "      <td>NaN</td>\n",
       "      <td>NaN</td>\n",
       "      <td>NaN</td>\n",
       "      <td>NaN</td>\n",
       "      <td>NaN</td>\n",
       "      <td>NaN</td>\n",
       "      <td>NaN</td>\n",
       "      <td>NaN</td>\n",
       "      <td>NaN</td>\n",
       "    </tr>\n",
       "  </tbody>\n",
       "</table>\n",
       "<p>5 rows × 120 columns</p>\n",
       "</div>"
      ],
      "text/plain": [
       "                           btc      btc-1      btc-2      btc-3      btc-4  \\\n",
       "timestamp                                                                    \n",
       "2015-08-07 09:00:00  277.40328        NaN        NaN        NaN        NaN   \n",
       "2015-08-07 12:00:00  281.95386  277.40328        NaN        NaN        NaN   \n",
       "2015-08-08 01:00:00  279.67200  281.95386  277.40328        NaN        NaN   \n",
       "2015-08-08 04:00:00  283.77999  279.67200  281.95386  277.40328        NaN   \n",
       "2015-08-08 11:00:00  273.38930  283.77999  279.67200  281.95386  277.40328   \n",
       "\n",
       "                     btc-5  btc-6  btc-7  btc-8  btc-9  ...  eth-50  eth-51  \\\n",
       "timestamp                                               ...                   \n",
       "2015-08-07 09:00:00    NaN    NaN    NaN    NaN    NaN  ...     NaN     NaN   \n",
       "2015-08-07 12:00:00    NaN    NaN    NaN    NaN    NaN  ...     NaN     NaN   \n",
       "2015-08-08 01:00:00    NaN    NaN    NaN    NaN    NaN  ...     NaN     NaN   \n",
       "2015-08-08 04:00:00    NaN    NaN    NaN    NaN    NaN  ...     NaN     NaN   \n",
       "2015-08-08 11:00:00    NaN    NaN    NaN    NaN    NaN  ...     NaN     NaN   \n",
       "\n",
       "                     eth-52  eth-53  eth-54  eth-55  eth-56  eth-57  eth-58  \\\n",
       "timestamp                                                                     \n",
       "2015-08-07 09:00:00     NaN     NaN     NaN     NaN     NaN     NaN     NaN   \n",
       "2015-08-07 12:00:00     NaN     NaN     NaN     NaN     NaN     NaN     NaN   \n",
       "2015-08-08 01:00:00     NaN     NaN     NaN     NaN     NaN     NaN     NaN   \n",
       "2015-08-08 04:00:00     NaN     NaN     NaN     NaN     NaN     NaN     NaN   \n",
       "2015-08-08 11:00:00     NaN     NaN     NaN     NaN     NaN     NaN     NaN   \n",
       "\n",
       "                     eth-59  \n",
       "timestamp                    \n",
       "2015-08-07 09:00:00     NaN  \n",
       "2015-08-07 12:00:00     NaN  \n",
       "2015-08-08 01:00:00     NaN  \n",
       "2015-08-08 04:00:00     NaN  \n",
       "2015-08-08 11:00:00     NaN  \n",
       "\n",
       "[5 rows x 120 columns]"
      ]
     },
     "execution_count": 82,
     "metadata": {},
     "output_type": "execute_result"
    }
   ],
   "source": [
    "shifted_df.head()"
   ]
  },
  {
   "cell_type": "code",
   "execution_count": 41,
   "metadata": {},
   "outputs": [
    {
     "data": {
      "text/plain": [
       "(45978, 1)"
      ]
     },
     "execution_count": 41,
     "metadata": {},
     "output_type": "execute_result"
    }
   ],
   "source": [
    "returns_df_list[0].shape"
   ]
  },
  {
   "cell_type": "code",
   "execution_count": 42,
   "metadata": {},
   "outputs": [],
   "source": [
    "from sklearn.linear_model import LinearRegression"
   ]
  },
  {
   "cell_type": "code",
   "execution_count": 83,
   "metadata": {},
   "outputs": [],
   "source": [
    "btc_concat = pd.concat([shifted_df.pct_change(), returns_df_list[0]], axis=1)\r\n",
    "btc_concat.dropna(inplace=True)\r\n",
    "btc_concat.shape\r\n",
    "\r\n",
    "eth_concat = pd.concat([shifted_df.pct_change(), returns_df_list[1]], axis=1)\r\n",
    "eth_concat.dropna(inplace=True)"
   ]
  },
  {
   "cell_type": "code",
   "execution_count": 44,
   "metadata": {},
   "outputs": [],
   "source": [
    "X = btc_concat.iloc[:,:120].values\r\n",
    "y = btc_concat.iloc[:,-1].values\r\n"
   ]
  },
  {
   "cell_type": "code",
   "execution_count": 46,
   "metadata": {},
   "outputs": [
    {
     "data": {
      "text/plain": [
       "LinearRegression()"
      ]
     },
     "execution_count": 46,
     "metadata": {},
     "output_type": "execute_result"
    }
   ],
   "source": [
    "btc_model = LinearRegression()\r\n",
    "btc_model.fit(X,y)"
   ]
  },
  {
   "cell_type": "code",
   "execution_count": 47,
   "metadata": {},
   "outputs": [],
   "source": [
    "predicted_btc = btc_model.predict(X)"
   ]
  },
  {
   "cell_type": "code",
   "execution_count": 55,
   "metadata": {},
   "outputs": [],
   "source": [
    "predicted_df = pd.DataFrame({\"actual\": y, \"predicted\":predicted_btc})\r\n",
    "predicted_df.reset_index(inplace=True)\r\n",
    "predicted_df.drop(columns=[\"index\"], inplace=True)\r\n",
    "predicted_df.to_csv(\"plot_data.csv\")"
   ]
  },
  {
   "cell_type": "code",
   "execution_count": 58,
   "metadata": {},
   "outputs": [
    {
     "name": "stdout",
     "output_type": "stream",
     "text": [
      "0.0037583232960800572\n"
     ]
    }
   ],
   "source": [
    "from sklearn.metrics import r2_score\r\n",
    "r2 = r2_score(y,predicted_btc)\r\n",
    "print(r2)"
   ]
  },
  {
   "cell_type": "code",
   "execution_count": 65,
   "metadata": {},
   "outputs": [
    {
     "data": {
      "text/html": [
       "<div>\n",
       "<style scoped>\n",
       "    .dataframe tbody tr th:only-of-type {\n",
       "        vertical-align: middle;\n",
       "    }\n",
       "\n",
       "    .dataframe tbody tr th {\n",
       "        vertical-align: top;\n",
       "    }\n",
       "\n",
       "    .dataframe thead th {\n",
       "        text-align: right;\n",
       "    }\n",
       "</style>\n",
       "<table border=\"1\" class=\"dataframe\">\n",
       "  <thead>\n",
       "    <tr style=\"text-align: right;\">\n",
       "      <th></th>\n",
       "      <th>signal</th>\n",
       "    </tr>\n",
       "    <tr>\n",
       "      <th>timestamp</th>\n",
       "      <th></th>\n",
       "    </tr>\n",
       "  </thead>\n",
       "  <tbody>\n",
       "    <tr>\n",
       "      <th>2015-08-15 08:00:00</th>\n",
       "      <td>0</td>\n",
       "    </tr>\n",
       "    <tr>\n",
       "      <th>2015-08-15 09:00:00</th>\n",
       "      <td>0</td>\n",
       "    </tr>\n",
       "    <tr>\n",
       "      <th>2015-08-15 10:00:00</th>\n",
       "      <td>0</td>\n",
       "    </tr>\n",
       "    <tr>\n",
       "      <th>2015-08-15 12:00:00</th>\n",
       "      <td>0</td>\n",
       "    </tr>\n",
       "    <tr>\n",
       "      <th>2015-08-15 13:00:00</th>\n",
       "      <td>0</td>\n",
       "    </tr>\n",
       "    <tr>\n",
       "      <th>2015-08-15 14:00:00</th>\n",
       "      <td>0</td>\n",
       "    </tr>\n",
       "    <tr>\n",
       "      <th>2015-08-15 16:00:00</th>\n",
       "      <td>0</td>\n",
       "    </tr>\n",
       "    <tr>\n",
       "      <th>2015-08-15 20:00:00</th>\n",
       "      <td>0</td>\n",
       "    </tr>\n",
       "    <tr>\n",
       "      <th>2015-08-15 22:00:00</th>\n",
       "      <td>0</td>\n",
       "    </tr>\n",
       "    <tr>\n",
       "      <th>2015-08-15 23:00:00</th>\n",
       "      <td>0</td>\n",
       "    </tr>\n",
       "    <tr>\n",
       "      <th>2015-08-16 00:00:00</th>\n",
       "      <td>0</td>\n",
       "    </tr>\n",
       "    <tr>\n",
       "      <th>2015-08-16 01:00:00</th>\n",
       "      <td>0</td>\n",
       "    </tr>\n",
       "    <tr>\n",
       "      <th>2015-08-16 03:00:00</th>\n",
       "      <td>0</td>\n",
       "    </tr>\n",
       "    <tr>\n",
       "      <th>2015-08-16 05:00:00</th>\n",
       "      <td>0</td>\n",
       "    </tr>\n",
       "    <tr>\n",
       "      <th>2015-08-16 06:00:00</th>\n",
       "      <td>0</td>\n",
       "    </tr>\n",
       "    <tr>\n",
       "      <th>2015-08-16 07:00:00</th>\n",
       "      <td>0</td>\n",
       "    </tr>\n",
       "    <tr>\n",
       "      <th>2015-08-16 09:00:00</th>\n",
       "      <td>0</td>\n",
       "    </tr>\n",
       "    <tr>\n",
       "      <th>2015-08-16 10:00:00</th>\n",
       "      <td>0</td>\n",
       "    </tr>\n",
       "    <tr>\n",
       "      <th>2015-08-16 15:00:00</th>\n",
       "      <td>0</td>\n",
       "    </tr>\n",
       "    <tr>\n",
       "      <th>2015-08-16 16:00:00</th>\n",
       "      <td>0</td>\n",
       "    </tr>\n",
       "  </tbody>\n",
       "</table>\n",
       "</div>"
      ],
      "text/plain": [
       "                     signal\n",
       "timestamp                  \n",
       "2015-08-15 08:00:00       0\n",
       "2015-08-15 09:00:00       0\n",
       "2015-08-15 10:00:00       0\n",
       "2015-08-15 12:00:00       0\n",
       "2015-08-15 13:00:00       0\n",
       "2015-08-15 14:00:00       0\n",
       "2015-08-15 16:00:00       0\n",
       "2015-08-15 20:00:00       0\n",
       "2015-08-15 22:00:00       0\n",
       "2015-08-15 23:00:00       0\n",
       "2015-08-16 00:00:00       0\n",
       "2015-08-16 01:00:00       0\n",
       "2015-08-16 03:00:00       0\n",
       "2015-08-16 05:00:00       0\n",
       "2015-08-16 06:00:00       0\n",
       "2015-08-16 07:00:00       0\n",
       "2015-08-16 09:00:00       0\n",
       "2015-08-16 10:00:00       0\n",
       "2015-08-16 15:00:00       0\n",
       "2015-08-16 16:00:00       0"
      ]
     },
     "execution_count": 65,
     "metadata": {},
     "output_type": "execute_result"
    }
   ],
   "source": [
    "buy_df = pd.DataFrame()\r\n",
    "buy_df[\"signal\"] = btc_concat.iloc[:,-1].apply(lambda x: 1 if x > 0.01 else 0)\r\n",
    "buy_df.head(20)"
   ]
  },
  {
   "cell_type": "code",
   "execution_count": 66,
   "metadata": {},
   "outputs": [],
   "source": [
    "from sklearn.model_selection import train_test_split\r\n",
    "X=X\r\n",
    "y = buy_df[\"signal\"].values\r\n",
    "X_train, X_test, y_train, y_test = train_test_split(X,y, stratify=y)"
   ]
  },
  {
   "cell_type": "code",
   "execution_count": 67,
   "metadata": {},
   "outputs": [
    {
     "data": {
      "text/plain": [
       "0.6328878558977339"
      ]
     },
     "execution_count": 67,
     "metadata": {},
     "output_type": "execute_result"
    }
   ],
   "source": [
    "from sklearn.linear_model import LogisticRegression\r\n",
    "classifier = LogisticRegression(solver=\"lbfgs\")\r\n",
    "classifier.fit(X_train, y_train)\r\n",
    "classifier.score(X_train, y_train)"
   ]
  },
  {
   "cell_type": "code",
   "execution_count": 68,
   "metadata": {},
   "outputs": [
    {
     "data": {
      "text/plain": [
       "12"
      ]
     },
     "execution_count": 68,
     "metadata": {},
     "output_type": "execute_result"
    }
   ],
   "source": [
    "predictions = classifier.predict(X_test)\r\n",
    "np.sum(predictions)"
   ]
  },
  {
   "cell_type": "code",
   "execution_count": 69,
   "metadata": {},
   "outputs": [
    {
     "data": {
      "text/plain": [
       "array([[7252,    8],\n",
       "       [4210,    4]], dtype=int64)"
      ]
     },
     "execution_count": 69,
     "metadata": {},
     "output_type": "execute_result"
    }
   ],
   "source": [
    "from sklearn.metrics import confusion_matrix\r\n",
    "confusion_matrix(y_test, predictions)"
   ]
  },
  {
   "cell_type": "code",
   "execution_count": 70,
   "metadata": {},
   "outputs": [
    {
     "name": "stdout",
     "output_type": "stream",
     "text": [
      "              precision    recall  f1-score   support\n",
      "\n",
      "     Not Buy       0.63      1.00      0.77      7260\n",
      "         Buy       0.33      0.00      0.00      4214\n",
      "\n",
      "    accuracy                           0.63     11474\n",
      "   macro avg       0.48      0.50      0.39     11474\n",
      "weighted avg       0.52      0.63      0.49     11474\n",
      "\n"
     ]
    }
   ],
   "source": [
    "from sklearn.metrics import classification_report\r\n",
    "target_names = [\"Not Buy\", \"Buy\"]\r\n",
    "print(classification_report(y_test, predictions, target_names=target_names))"
   ]
  },
  {
   "cell_type": "code",
   "execution_count": 71,
   "metadata": {},
   "outputs": [],
   "source": [
    "from sklearn.ensemble import RandomForestClassifier\r\n",
    "rf_model = RandomForestClassifier(n_estimators=500)\r\n",
    "rf_model = rf_model.fit(X_train, y_train)\r\n",
    "rf_predictions = rf_model.predict(X_test)"
   ]
  },
  {
   "cell_type": "code",
   "execution_count": 72,
   "metadata": {},
   "outputs": [
    {
     "name": "stdout",
     "output_type": "stream",
     "text": [
      "4214 938\n"
     ]
    }
   ],
   "source": [
    "print(np.sum(y_test), np.sum(rf_predictions))"
   ]
  },
  {
   "cell_type": "code",
   "execution_count": 73,
   "metadata": {},
   "outputs": [
    {
     "name": "stdout",
     "output_type": "stream",
     "text": [
      "              precision    recall  f1-score   support\n",
      "\n",
      "     Not Buy       0.65      0.94      0.77      7260\n",
      "         Buy       0.52      0.12      0.19      4214\n",
      "\n",
      "    accuracy                           0.64     11474\n",
      "   macro avg       0.58      0.53      0.48     11474\n",
      "weighted avg       0.60      0.64      0.55     11474\n",
      "\n"
     ]
    }
   ],
   "source": [
    "print(classification_report(y_test, rf_predictions, target_names=target_names))"
   ]
  },
  {
   "cell_type": "code",
   "execution_count": 74,
   "metadata": {},
   "outputs": [],
   "source": [
    "from sklearn.ensemble import GradientBoostingClassifier"
   ]
  },
  {
   "cell_type": "code",
   "execution_count": 77,
   "metadata": {},
   "outputs": [],
   "source": [
    "gb_classifier = GradientBoostingClassifier(n_estimators=30,\r\n",
    "                                    learning_rate=0.5,\r\n",
    "                                    max_features=10,\r\n",
    "                                    max_depth=6)\r\n",
    "gb_classifier.fit(X_train,y_train\r\n",
    "\r\n",
    "\r\n",
    "gb_predictions = gb_classifier.predict(X_test)"
   ]
  },
  {
   "cell_type": "code",
   "execution_count": 78,
   "metadata": {},
   "outputs": [
    {
     "name": "stdout",
     "output_type": "stream",
     "text": [
      "              precision    recall  f1-score   support\n",
      "\n",
      "     Not Buy       0.65      0.85      0.74      7260\n",
      "         Buy       0.47      0.23      0.30      4214\n",
      "\n",
      "    accuracy                           0.62     11474\n",
      "   macro avg       0.56      0.54      0.52     11474\n",
      "weighted avg       0.59      0.62      0.58     11474\n",
      "\n"
     ]
    }
   ],
   "source": [
    "print(classification_report(y_test, gb_predictions, target_names=target_names))"
   ]
  },
  {
   "cell_type": "code",
   "execution_count": 79,
   "metadata": {},
   "outputs": [
    {
     "name": "stdout",
     "output_type": "stream",
     "text": [
      "4214 2030\n"
     ]
    }
   ],
   "source": [
    "print(np.sum(y_test), np.sum(gb_predictions))"
   ]
  },
  {
   "cell_type": "code",
   "execution_count": null,
   "metadata": {},
   "outputs": [],
   "source": []
  }
 ],
 "metadata": {
  "kernelspec": {
   "display_name": "Python [conda env:algotrading] *",
   "language": "python",
   "name": "conda-env-algotrading-py"
  },
  "language_info": {
   "codemirror_mode": {
    "name": "ipython",
    "version": 3
   },
   "file_extension": ".py",
   "mimetype": "text/x-python",
   "name": "python",
   "nbconvert_exporter": "python",
   "pygments_lexer": "ipython3",
   "version": "3.7.10"
  }
 },
 "nbformat": 4,
 "nbformat_minor": 4
}