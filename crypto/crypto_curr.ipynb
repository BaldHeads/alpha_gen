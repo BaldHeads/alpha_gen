{
 "cells": [
  {
   "cell_type": "code",
   "execution_count": 1,
   "metadata": {},
   "outputs": [],
   "source": [
    "# may need to import sys to fix libs pathing for this file\n",
    "import sys\n",
    "sys.path.append('../')\n",
    "from libs.kraken_conn import kraken\n",
    "import numpy as np\n",
    "import pandas as pd\n",
    "import datetime as dt"
   ]
  },
  {
   "cell_type": "code",
   "execution_count": 2,
   "metadata": {},
   "outputs": [],
   "source": [
    "columns = {0:'datetime',1:'open',2:'high',3:'low',4:'close',5:'volume'}\r\n",
    "def make_df(raw_df):\r\n",
    "    df = raw_df.loc[:,:5]\r\n",
    "    df.rename(columns=columns, inplace=True)\r\n",
    "    df = df[[\"datetime\", \"close\"]]\r\n",
    "    \r\n",
    "    df[\"timestamp\"] = df[\"datetime\"].apply(lambda x: dt.datetime.fromtimestamp(x/1000))\r\n",
    "    df = df.drop(columns=\"datetime\")\r\n",
    "    df.set_index(\"timestamp\", inplace=True)\r\n",
    "    df.index=pd.to_datetime(df.index)\r\n",
    "    return df"
   ]
  },
  {
   "cell_type": "code",
   "execution_count": 3,
   "metadata": {},
   "outputs": [],
   "source": [
    "# fetchOHLCV will get ~last 30 days of hourly data\r\n",
    "# bl = dt.datetime.fromtimestamp((k[0][0])/1000)\r\n",
    "def get_historical(pair=\"BTC/USD\"):\r\n",
    "    k = kraken.fetchOHLCV(pair, \"1h\")\r\n",
    "    \r\n",
    "    df = pd.DataFrame()\r\n",
    "    df = df.append(k)\r\n",
    "    return make_df(df)"
   ]
  },
  {
   "cell_type": "code",
   "execution_count": 4,
   "metadata": {},
   "outputs": [
    {
     "data": {
      "text/html": [
       "<div>\n",
       "<style scoped>\n",
       "    .dataframe tbody tr th:only-of-type {\n",
       "        vertical-align: middle;\n",
       "    }\n",
       "\n",
       "    .dataframe tbody tr th {\n",
       "        vertical-align: top;\n",
       "    }\n",
       "\n",
       "    .dataframe thead th {\n",
       "        text-align: right;\n",
       "    }\n",
       "</style>\n",
       "<table border=\"1\" class=\"dataframe\">\n",
       "  <thead>\n",
       "    <tr style=\"text-align: right;\">\n",
       "      <th></th>\n",
       "      <th>close</th>\n",
       "    </tr>\n",
       "    <tr>\n",
       "      <th>timestamp</th>\n",
       "      <th></th>\n",
       "    </tr>\n",
       "  </thead>\n",
       "  <tbody>\n",
       "    <tr>\n",
       "      <th>2021-06-01 19:00:00</th>\n",
       "      <td>36180.6</td>\n",
       "    </tr>\n",
       "    <tr>\n",
       "      <th>2021-06-01 20:00:00</th>\n",
       "      <td>36280.5</td>\n",
       "    </tr>\n",
       "    <tr>\n",
       "      <th>2021-06-01 21:00:00</th>\n",
       "      <td>36306.8</td>\n",
       "    </tr>\n",
       "    <tr>\n",
       "      <th>2021-06-01 22:00:00</th>\n",
       "      <td>36488.5</td>\n",
       "    </tr>\n",
       "    <tr>\n",
       "      <th>2021-06-01 23:00:00</th>\n",
       "      <td>36690.2</td>\n",
       "    </tr>\n",
       "  </tbody>\n",
       "</table>\n",
       "</div>"
      ],
      "text/plain": [
       "                       close\n",
       "timestamp                   \n",
       "2021-06-01 19:00:00  36180.6\n",
       "2021-06-01 20:00:00  36280.5\n",
       "2021-06-01 21:00:00  36306.8\n",
       "2021-06-01 22:00:00  36488.5\n",
       "2021-06-01 23:00:00  36690.2"
      ]
     },
     "execution_count": 4,
     "metadata": {},
     "output_type": "execute_result"
    }
   ],
   "source": [
    "btc_curr = get_historical()\r\n",
    "btc_curr.head()"
   ]
  },
  {
   "cell_type": "code",
   "execution_count": 5,
   "metadata": {},
   "outputs": [
    {
     "data": {
      "text/html": [
       "<div>\n",
       "<style scoped>\n",
       "    .dataframe tbody tr th:only-of-type {\n",
       "        vertical-align: middle;\n",
       "    }\n",
       "\n",
       "    .dataframe tbody tr th {\n",
       "        vertical-align: top;\n",
       "    }\n",
       "\n",
       "    .dataframe thead th {\n",
       "        text-align: right;\n",
       "    }\n",
       "</style>\n",
       "<table border=\"1\" class=\"dataframe\">\n",
       "  <thead>\n",
       "    <tr style=\"text-align: right;\">\n",
       "      <th></th>\n",
       "      <th>close</th>\n",
       "    </tr>\n",
       "    <tr>\n",
       "      <th>timestamp</th>\n",
       "      <th></th>\n",
       "    </tr>\n",
       "  </thead>\n",
       "  <tbody>\n",
       "    <tr>\n",
       "      <th>2021-06-01 19:00:00</th>\n",
       "      <td>2586.66</td>\n",
       "    </tr>\n",
       "    <tr>\n",
       "      <th>2021-06-01 20:00:00</th>\n",
       "      <td>2590.44</td>\n",
       "    </tr>\n",
       "    <tr>\n",
       "      <th>2021-06-01 21:00:00</th>\n",
       "      <td>2593.15</td>\n",
       "    </tr>\n",
       "    <tr>\n",
       "      <th>2021-06-01 22:00:00</th>\n",
       "      <td>2615.78</td>\n",
       "    </tr>\n",
       "    <tr>\n",
       "      <th>2021-06-01 23:00:00</th>\n",
       "      <td>2625.73</td>\n",
       "    </tr>\n",
       "  </tbody>\n",
       "</table>\n",
       "</div>"
      ],
      "text/plain": [
       "                       close\n",
       "timestamp                   \n",
       "2021-06-01 19:00:00  2586.66\n",
       "2021-06-01 20:00:00  2590.44\n",
       "2021-06-01 21:00:00  2593.15\n",
       "2021-06-01 22:00:00  2615.78\n",
       "2021-06-01 23:00:00  2625.73"
      ]
     },
     "execution_count": 5,
     "metadata": {},
     "output_type": "execute_result"
    }
   ],
   "source": [
    "eth_curr = get_historical(pair=\"ETH/USD\")\r\n",
    "eth_curr.head()"
   ]
  },
  {
   "cell_type": "code",
   "execution_count": 6,
   "metadata": {},
   "outputs": [],
   "source": [
    "btc_curr.rename(columns={\"close\":\"btc\"}, inplace=True)\r\n",
    "eth_curr.rename(columns={\"close\":\"eth\"}, inplace=True)"
   ]
  },
  {
   "cell_type": "code",
   "execution_count": 7,
   "metadata": {},
   "outputs": [],
   "source": [
    "crypto_df = btc_curr.merge(eth_curr, how=\"inner\", on=\"timestamp\")"
   ]
  },
  {
   "cell_type": "code",
   "execution_count": 8,
   "metadata": {},
   "outputs": [
    {
     "data": {
      "text/html": [
       "<div>\n",
       "<style scoped>\n",
       "    .dataframe tbody tr th:only-of-type {\n",
       "        vertical-align: middle;\n",
       "    }\n",
       "\n",
       "    .dataframe tbody tr th {\n",
       "        vertical-align: top;\n",
       "    }\n",
       "\n",
       "    .dataframe thead th {\n",
       "        text-align: right;\n",
       "    }\n",
       "</style>\n",
       "<table border=\"1\" class=\"dataframe\">\n",
       "  <thead>\n",
       "    <tr style=\"text-align: right;\">\n",
       "      <th></th>\n",
       "      <th>btc</th>\n",
       "      <th>eth</th>\n",
       "    </tr>\n",
       "    <tr>\n",
       "      <th>timestamp</th>\n",
       "      <th></th>\n",
       "      <th></th>\n",
       "    </tr>\n",
       "  </thead>\n",
       "  <tbody>\n",
       "    <tr>\n",
       "      <th>2021-06-01 19:00:00</th>\n",
       "      <td>36180.6</td>\n",
       "      <td>2586.66</td>\n",
       "    </tr>\n",
       "    <tr>\n",
       "      <th>2021-06-01 20:00:00</th>\n",
       "      <td>36280.5</td>\n",
       "      <td>2590.44</td>\n",
       "    </tr>\n",
       "    <tr>\n",
       "      <th>2021-06-01 21:00:00</th>\n",
       "      <td>36306.8</td>\n",
       "      <td>2593.15</td>\n",
       "    </tr>\n",
       "    <tr>\n",
       "      <th>2021-06-01 22:00:00</th>\n",
       "      <td>36488.5</td>\n",
       "      <td>2615.78</td>\n",
       "    </tr>\n",
       "    <tr>\n",
       "      <th>2021-06-01 23:00:00</th>\n",
       "      <td>36690.2</td>\n",
       "      <td>2625.73</td>\n",
       "    </tr>\n",
       "  </tbody>\n",
       "</table>\n",
       "</div>"
      ],
      "text/plain": [
       "                         btc      eth\n",
       "timestamp                            \n",
       "2021-06-01 19:00:00  36180.6  2586.66\n",
       "2021-06-01 20:00:00  36280.5  2590.44\n",
       "2021-06-01 21:00:00  36306.8  2593.15\n",
       "2021-06-01 22:00:00  36488.5  2615.78\n",
       "2021-06-01 23:00:00  36690.2  2625.73"
      ]
     },
     "execution_count": 8,
     "metadata": {},
     "output_type": "execute_result"
    }
   ],
   "source": [
    "crypto_df.head()"
   ]
  },
  {
   "cell_type": "code",
   "execution_count": 9,
   "metadata": {},
   "outputs": [
    {
     "data": {
      "text/plain": [
       "(720, 120)"
      ]
     },
     "execution_count": 9,
     "metadata": {},
     "output_type": "execute_result"
    }
   ],
   "source": [
    "num_ticks = 60\r\n",
    "symbols = [\"btc\",\"eth\"]\r\n",
    "shifted_df = pd.DataFrame()\r\n",
    "for symbol in symbols:\r\n",
    "    shifted_df[symbol] = crypto_df[symbol].copy()\r\n",
    "    for i in range(1,num_ticks):\r\n",
    "        name = f\"{symbol}-{i}\"\r\n",
    "        shifted_df[name] = crypto_df[symbol].shift(i)\r\n",
    "shifted_df.shape"
   ]
  },
  {
   "cell_type": "code",
   "execution_count": 14,
   "metadata": {},
   "outputs": [],
   "source": [
    "curr_df = shifted_df.tail(1)"
   ]
  },
  {
   "cell_type": "code",
   "execution_count": 12,
   "metadata": {},
   "outputs": [
    {
     "data": {
      "text/plain": [
       "(660, 120)"
      ]
     },
     "execution_count": 12,
     "metadata": {},
     "output_type": "execute_result"
    }
   ],
   "source": []
  },
  {
   "cell_type": "code",
   "execution_count": null,
   "metadata": {},
   "outputs": [],
   "source": []
  }
 ],
 "metadata": {
  "interpreter": {
   "hash": "526df216e4eb77b7c2a791d31144b72a810334b9154ecbe32e831ca25b1c44a4"
  },
  "kernelspec": {
   "display_name": "Python 3.7.10 64-bit ('dev': conda)",
   "name": "python3"
  },
  "language_info": {
   "name": "python",
   "version": ""
  }
 },
 "nbformat": 4,
 "nbformat_minor": 5
}