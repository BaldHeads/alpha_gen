{
 "cells": [
  {
   "cell_type": "code",
   "execution_count": 1,
   "id": "901ee4b0-a676-4bbb-b536-a6a851a5676a",
   "metadata": {},
   "outputs": [],
   "source": [
    "# may need to import sys to fix libs pathing for this file\n",
    "import sys\n",
    "sys.path.append('../')\n",
    "from libs.kraken_conn import kraken\n",
    "import numpy as np\n",
    "import pandas as pd\n",
    "import datetime as dt"
   ]
  },
  {
   "cell_type": "code",
   "execution_count": 3,
   "id": "63b4f57b-c6fe-4c9d-8165-239b047b6beb",
   "metadata": {},
   "outputs": [],
   "source": [
    "def fetch_data():\n",
    "    \"\"\"Fetches price data.\"\"\"\n",
    "    \n",
    "    close = kraken.fetch_ticker(\"BTC/USD\")[\"close\"]\n",
    "    datetime = kraken.fetch_ticker(\"BTC/USD\")[\"datetime\"]\n",
    "    df = pd.DataFrame({\"close\": [close]})\n",
    "    df.index = pd.to_datetime([datetime])\n",
    "\n",
    "    return df"
   ]
  },
  {
   "cell_type": "code",
   "execution_count": 4,
   "id": "320f2266-caf2-4c9c-b8eb-c113b4903267",
   "metadata": {},
   "outputs": [],
   "source": [
    "# fetchOHLCV will get ~last 60 days \n",
    "def get_historical(pair=\"BTC/USD\"):\n",
    "    df = pd.DataFrame(kraken.fetchOHLCV('BTC/USD', \"1h\"))\n",
    "    return df[[\"datetime\", \"price\"]].set_index(\"datetime\").rename(columns={\"price\":\"close\"})"
   ]
  },
  {
   "cell_type": "code",
   "execution_count": 5,
   "id": "b8f3a2cf-d585-4b32-a137-7daeafa40571",
   "metadata": {},
   "outputs": [],
   "source": [
    "# k= kraken.fetchOHLCV('BTC/USD', \"1h\")\n"
   ]
  },
  {
   "cell_type": "code",
   "execution_count": 29,
   "id": "83cea1b7-2621-47e6-b8f1-2526f8850d84",
   "metadata": {},
   "outputs": [
    {
     "data": {
      "text/plain": [
       "datetime.datetime(2021, 5, 29, 14, 0)"
      ]
     },
     "execution_count": 29,
     "metadata": {},
     "output_type": "execute_result"
    }
   ],
   "source": [
    "k[0][0]\n",
    "bl = dt.datetime.fromtimestamp((k[0][0])/1000)\n",
    "bl"
   ]
  },
  {
   "cell_type": "code",
   "execution_count": 30,
   "id": "1943c432-1d5c-4457-a764-01cf539bcd8d",
   "metadata": {},
   "outputs": [
    {
     "data": {
      "text/plain": [
       "'2021-05-29T14:00:00'"
      ]
     },
     "execution_count": 30,
     "metadata": {},
     "output_type": "execute_result"
    }
   ],
   "source": [
    "bl_store = bl.isoformat()\n",
    "bl_store"
   ]
  }
 ],
 "metadata": {
  "kernelspec": {
   "display_name": "Python [conda env:algotrading] *",
   "language": "python",
   "name": "conda-env-algotrading-py"
  },
  "language_info": {
   "codemirror_mode": {
    "name": "ipython",
    "version": 3
   },
   "file_extension": ".py",
   "mimetype": "text/x-python",
   "name": "python",
   "nbconvert_exporter": "python",
   "pygments_lexer": "ipython3",
   "version": "3.7.10"
  }
 },
 "nbformat": 4,
 "nbformat_minor": 5
}
